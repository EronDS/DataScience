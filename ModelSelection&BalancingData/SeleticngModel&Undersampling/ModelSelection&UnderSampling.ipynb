{
  "nbformat": 4,
  "nbformat_minor": 0,
  "metadata": {
    "colab": {
      "name": "ModelSelection&UnderSampling.ipynb",
      "provenance": [],
      "collapsed_sections": [],
      "mount_file_id": "15bUHL8-5F28z3aevCOnb-PF8HzB9iDaC",
      "authorship_tag": "ABX9TyNchi3wD8k2X4vUs84psznV",
      "include_colab_link": true
    },
    "kernelspec": {
      "name": "python3",
      "display_name": "Python 3"
    },
    "language_info": {
      "name": "python"
    },
    "accelerator": "GPU"
  },
  "cells": [
    {
      "cell_type": "markdown",
      "metadata": {
        "id": "view-in-github",
        "colab_type": "text"
      },
      "source": [
        "<a href=\"https://colab.research.google.com/github/EronDS/DataScience/blob/main/ModelSelection%26BalancingData/SeleticngModel%26Undersampling/ModelSelection%26UnderSampling.ipynb\" target=\"_parent\"><img src=\"https://colab.research.google.com/assets/colab-badge.svg\" alt=\"Open In Colab\"/></a>"
      ]
    },
    {
      "cell_type": "code",
      "metadata": {
        "colab": {
          "base_uri": "https://localhost:8080/"
        },
        "id": "zG99DjC35HpT",
        "outputId": "b361d845-41f3-472f-95db-62207bb559c7"
      },
      "source": [
        "!pip install sklearn-deap"
      ],
      "execution_count": 1,
      "outputs": [
        {
          "output_type": "stream",
          "text": [
            "Collecting sklearn-deap\n",
            "  Downloading https://files.pythonhosted.org/packages/52/c6/f56c220aad9d582f2e7fee598e5be4b737d2448506041c89bcc364455142/sklearn_deap-0.2.4-py3-none-any.whl\n",
            "Requirement already satisfied: numpy>=1.9.3 in /usr/local/lib/python3.7/dist-packages (from sklearn-deap) (1.19.5)\n",
            "Requirement already satisfied: scipy>=0.16.0 in /usr/local/lib/python3.7/dist-packages (from sklearn-deap) (1.4.1)\n",
            "Collecting deap>=1.0.2\n",
            "\u001b[?25l  Downloading https://files.pythonhosted.org/packages/99/d1/803c7a387d8a7e6866160b1541307f88d534da4291572fb32f69d2548afb/deap-1.3.1-cp37-cp37m-manylinux2010_x86_64.whl (157kB)\n",
            "\u001b[K     |████████████████████████████████| 163kB 10.4MB/s \n",
            "\u001b[?25hRequirement already satisfied: scikit-learn>=0.18.0 in /usr/local/lib/python3.7/dist-packages (from sklearn-deap) (0.22.2.post1)\n",
            "Requirement already satisfied: joblib>=0.11 in /usr/local/lib/python3.7/dist-packages (from scikit-learn>=0.18.0->sklearn-deap) (1.0.1)\n",
            "Installing collected packages: deap, sklearn-deap\n",
            "Successfully installed deap-1.3.1 sklearn-deap-0.2.4\n"
          ],
          "name": "stdout"
        }
      ]
    },
    {
      "cell_type": "code",
      "metadata": {
        "colab": {
          "base_uri": "https://localhost:8080/"
        },
        "id": "4vxMZJ5LChcH",
        "outputId": "2bfb35c2-9a57-4be2-deac-411976608714"
      },
      "source": [
        "import pandas as pd \n",
        "import numpy as np \n",
        "import matplotlib.pyplot as plt\n",
        "import seaborn as sns\n",
        "import plotly.express as px \n",
        "from sklearn.model_selection import train_test_split\n",
        "from sklearn.svm import SVC \n",
        "from sklearn.linear_model import LogisticRegression\n",
        "from sklearn.ensemble import RandomForestClassifier\n",
        "from sklearn.neighbors import KNeighborsClassifier\n",
        "from sklearn.naive_bayes import GaussianNB, BernoulliNB\n",
        "from xgboost import XGBClassifier\n",
        "from sklearn.model_selection import KFold,cross_validate,cross_val_score,cross_val_predict, GridSearchCV\n",
        "from sklearn.metrics import classification_report\n",
        "from sklearn.preprocessing import LabelEncoder,OneHotEncoder\n",
        "from sklearn.pipeline import Pipeline\n",
        "from evolutionary_search import EvolutionaryAlgorithmSearchCV\n",
        "import warnings\n",
        "warnings.filterwarnings('ignore')"
      ],
      "execution_count": 2,
      "outputs": [
        {
          "output_type": "stream",
          "text": [
            "/usr/local/lib/python3.7/dist-packages/sklearn/utils/deprecation.py:144: FutureWarning:\n",
            "\n",
            "The sklearn.metrics.scorer module is  deprecated in version 0.22 and will be removed in version 0.24. The corresponding classes / functions should instead be imported from sklearn.metrics. Anything that cannot be imported from sklearn.metrics is now part of the private API.\n",
            "\n"
          ],
          "name": "stderr"
        }
      ]
    },
    {
      "cell_type": "code",
      "metadata": {
        "colab": {
          "base_uri": "https://localhost:8080/",
          "height": 406
        },
        "id": "zC_WcjzOCr0m",
        "outputId": "f6821bdc-f00d-45b6-d905-4c8eae91c59a"
      },
      "source": [
        "df = pd.read_csv('/content/drive/MyDrive/Datasets-Github/ad_clicker_prediction/Social_Network_Ads.csv')\n",
        "df"
      ],
      "execution_count": 3,
      "outputs": [
        {
          "output_type": "execute_result",
          "data": {
            "text/html": [
              "<div>\n",
              "<style scoped>\n",
              "    .dataframe tbody tr th:only-of-type {\n",
              "        vertical-align: middle;\n",
              "    }\n",
              "\n",
              "    .dataframe tbody tr th {\n",
              "        vertical-align: top;\n",
              "    }\n",
              "\n",
              "    .dataframe thead th {\n",
              "        text-align: right;\n",
              "    }\n",
              "</style>\n",
              "<table border=\"1\" class=\"dataframe\">\n",
              "  <thead>\n",
              "    <tr style=\"text-align: right;\">\n",
              "      <th></th>\n",
              "      <th>User ID</th>\n",
              "      <th>Gender</th>\n",
              "      <th>Age</th>\n",
              "      <th>EstimatedSalary</th>\n",
              "      <th>Purchased</th>\n",
              "    </tr>\n",
              "  </thead>\n",
              "  <tbody>\n",
              "    <tr>\n",
              "      <th>0</th>\n",
              "      <td>15624510</td>\n",
              "      <td>Male</td>\n",
              "      <td>19</td>\n",
              "      <td>19000</td>\n",
              "      <td>0</td>\n",
              "    </tr>\n",
              "    <tr>\n",
              "      <th>1</th>\n",
              "      <td>15810944</td>\n",
              "      <td>Male</td>\n",
              "      <td>35</td>\n",
              "      <td>20000</td>\n",
              "      <td>0</td>\n",
              "    </tr>\n",
              "    <tr>\n",
              "      <th>2</th>\n",
              "      <td>15668575</td>\n",
              "      <td>Female</td>\n",
              "      <td>26</td>\n",
              "      <td>43000</td>\n",
              "      <td>0</td>\n",
              "    </tr>\n",
              "    <tr>\n",
              "      <th>3</th>\n",
              "      <td>15603246</td>\n",
              "      <td>Female</td>\n",
              "      <td>27</td>\n",
              "      <td>57000</td>\n",
              "      <td>0</td>\n",
              "    </tr>\n",
              "    <tr>\n",
              "      <th>4</th>\n",
              "      <td>15804002</td>\n",
              "      <td>Male</td>\n",
              "      <td>19</td>\n",
              "      <td>76000</td>\n",
              "      <td>0</td>\n",
              "    </tr>\n",
              "    <tr>\n",
              "      <th>...</th>\n",
              "      <td>...</td>\n",
              "      <td>...</td>\n",
              "      <td>...</td>\n",
              "      <td>...</td>\n",
              "      <td>...</td>\n",
              "    </tr>\n",
              "    <tr>\n",
              "      <th>395</th>\n",
              "      <td>15691863</td>\n",
              "      <td>Female</td>\n",
              "      <td>46</td>\n",
              "      <td>41000</td>\n",
              "      <td>1</td>\n",
              "    </tr>\n",
              "    <tr>\n",
              "      <th>396</th>\n",
              "      <td>15706071</td>\n",
              "      <td>Male</td>\n",
              "      <td>51</td>\n",
              "      <td>23000</td>\n",
              "      <td>1</td>\n",
              "    </tr>\n",
              "    <tr>\n",
              "      <th>397</th>\n",
              "      <td>15654296</td>\n",
              "      <td>Female</td>\n",
              "      <td>50</td>\n",
              "      <td>20000</td>\n",
              "      <td>1</td>\n",
              "    </tr>\n",
              "    <tr>\n",
              "      <th>398</th>\n",
              "      <td>15755018</td>\n",
              "      <td>Male</td>\n",
              "      <td>36</td>\n",
              "      <td>33000</td>\n",
              "      <td>0</td>\n",
              "    </tr>\n",
              "    <tr>\n",
              "      <th>399</th>\n",
              "      <td>15594041</td>\n",
              "      <td>Female</td>\n",
              "      <td>49</td>\n",
              "      <td>36000</td>\n",
              "      <td>1</td>\n",
              "    </tr>\n",
              "  </tbody>\n",
              "</table>\n",
              "<p>400 rows × 5 columns</p>\n",
              "</div>"
            ],
            "text/plain": [
              "      User ID  Gender  Age  EstimatedSalary  Purchased\n",
              "0    15624510    Male   19            19000          0\n",
              "1    15810944    Male   35            20000          0\n",
              "2    15668575  Female   26            43000          0\n",
              "3    15603246  Female   27            57000          0\n",
              "4    15804002    Male   19            76000          0\n",
              "..        ...     ...  ...              ...        ...\n",
              "395  15691863  Female   46            41000          1\n",
              "396  15706071    Male   51            23000          1\n",
              "397  15654296  Female   50            20000          1\n",
              "398  15755018    Male   36            33000          0\n",
              "399  15594041  Female   49            36000          1\n",
              "\n",
              "[400 rows x 5 columns]"
            ]
          },
          "metadata": {
            "tags": []
          },
          "execution_count": 3
        }
      ]
    },
    {
      "cell_type": "code",
      "metadata": {
        "colab": {
          "base_uri": "https://localhost:8080/",
          "height": 287
        },
        "id": "j-CpqPNmC9ro",
        "outputId": "7870d6d3-ea44-40ce-a11f-d4a677c63f5d"
      },
      "source": [
        "df.describe()"
      ],
      "execution_count": 4,
      "outputs": [
        {
          "output_type": "execute_result",
          "data": {
            "text/html": [
              "<div>\n",
              "<style scoped>\n",
              "    .dataframe tbody tr th:only-of-type {\n",
              "        vertical-align: middle;\n",
              "    }\n",
              "\n",
              "    .dataframe tbody tr th {\n",
              "        vertical-align: top;\n",
              "    }\n",
              "\n",
              "    .dataframe thead th {\n",
              "        text-align: right;\n",
              "    }\n",
              "</style>\n",
              "<table border=\"1\" class=\"dataframe\">\n",
              "  <thead>\n",
              "    <tr style=\"text-align: right;\">\n",
              "      <th></th>\n",
              "      <th>User ID</th>\n",
              "      <th>Age</th>\n",
              "      <th>EstimatedSalary</th>\n",
              "      <th>Purchased</th>\n",
              "    </tr>\n",
              "  </thead>\n",
              "  <tbody>\n",
              "    <tr>\n",
              "      <th>count</th>\n",
              "      <td>4.000000e+02</td>\n",
              "      <td>400.000000</td>\n",
              "      <td>400.000000</td>\n",
              "      <td>400.000000</td>\n",
              "    </tr>\n",
              "    <tr>\n",
              "      <th>mean</th>\n",
              "      <td>1.569154e+07</td>\n",
              "      <td>37.655000</td>\n",
              "      <td>69742.500000</td>\n",
              "      <td>0.357500</td>\n",
              "    </tr>\n",
              "    <tr>\n",
              "      <th>std</th>\n",
              "      <td>7.165832e+04</td>\n",
              "      <td>10.482877</td>\n",
              "      <td>34096.960282</td>\n",
              "      <td>0.479864</td>\n",
              "    </tr>\n",
              "    <tr>\n",
              "      <th>min</th>\n",
              "      <td>1.556669e+07</td>\n",
              "      <td>18.000000</td>\n",
              "      <td>15000.000000</td>\n",
              "      <td>0.000000</td>\n",
              "    </tr>\n",
              "    <tr>\n",
              "      <th>25%</th>\n",
              "      <td>1.562676e+07</td>\n",
              "      <td>29.750000</td>\n",
              "      <td>43000.000000</td>\n",
              "      <td>0.000000</td>\n",
              "    </tr>\n",
              "    <tr>\n",
              "      <th>50%</th>\n",
              "      <td>1.569434e+07</td>\n",
              "      <td>37.000000</td>\n",
              "      <td>70000.000000</td>\n",
              "      <td>0.000000</td>\n",
              "    </tr>\n",
              "    <tr>\n",
              "      <th>75%</th>\n",
              "      <td>1.575036e+07</td>\n",
              "      <td>46.000000</td>\n",
              "      <td>88000.000000</td>\n",
              "      <td>1.000000</td>\n",
              "    </tr>\n",
              "    <tr>\n",
              "      <th>max</th>\n",
              "      <td>1.581524e+07</td>\n",
              "      <td>60.000000</td>\n",
              "      <td>150000.000000</td>\n",
              "      <td>1.000000</td>\n",
              "    </tr>\n",
              "  </tbody>\n",
              "</table>\n",
              "</div>"
            ],
            "text/plain": [
              "            User ID         Age  EstimatedSalary   Purchased\n",
              "count  4.000000e+02  400.000000       400.000000  400.000000\n",
              "mean   1.569154e+07   37.655000     69742.500000    0.357500\n",
              "std    7.165832e+04   10.482877     34096.960282    0.479864\n",
              "min    1.556669e+07   18.000000     15000.000000    0.000000\n",
              "25%    1.562676e+07   29.750000     43000.000000    0.000000\n",
              "50%    1.569434e+07   37.000000     70000.000000    0.000000\n",
              "75%    1.575036e+07   46.000000     88000.000000    1.000000\n",
              "max    1.581524e+07   60.000000    150000.000000    1.000000"
            ]
          },
          "metadata": {
            "tags": []
          },
          "execution_count": 4
        }
      ]
    },
    {
      "cell_type": "code",
      "metadata": {
        "colab": {
          "base_uri": "https://localhost:8080/",
          "height": 554
        },
        "id": "wHqXJGljDW75",
        "outputId": "eff53166-64a1-4344-d893-43bfc63ee8c7"
      },
      "source": [
        "plt.figure(figsize = (13,8))\n",
        "k = ['#bababa' , '#5683ba' ]\n",
        "sns.countplot(df['Purchased'] , palette = k)\n",
        "plt.title('Visualizing Data Balance', fontsize = 16 , weight = 'bold' , loc = 'left')\n",
        "plt.xlabel('Purchased(0 : No 1 : Yes)' , fontsize = 14 , weight = 'bold')\n",
        "plt.ylabel('Count', fontsize = 14)\n",
        "plt.xticks(color = 'black')\n",
        "plt.yticks(color = 'grey')"
      ],
      "execution_count": 5,
      "outputs": [
        {
          "output_type": "execute_result",
          "data": {
            "text/plain": [
              "(array([  0.,  50., 100., 150., 200., 250., 300.]),\n",
              " <a list of 7 Text major ticklabel objects>)"
            ]
          },
          "metadata": {
            "tags": []
          },
          "execution_count": 5
        },
        {
          "output_type": "display_data",
          "data": {
            "image/png": "[encoded data removed]",
            "text/plain": [
              "<Figure size 936x576 with 1 Axes>"
            ]
          },
          "metadata": {
            "tags": []
          }
        }
      ]
    },
    {
      "cell_type": "markdown",
      "metadata": {
        "id": "Sfcv4lohJsiT"
      },
      "source": [
        "### **Balancing Data**"
      ]
    },
    {
      "cell_type": "code",
      "metadata": {
        "colab": {
          "base_uri": "https://localhost:8080/"
        },
        "id": "Hp4VIhTPHf0o",
        "outputId": "62a8b70e-2467-4d12-ca6a-97b8ca745e5d"
      },
      "source": [
        "df.Purchased[1]"
      ],
      "execution_count": 6,
      "outputs": [
        {
          "output_type": "execute_result",
          "data": {
            "text/plain": [
              "0"
            ]
          },
          "metadata": {
            "tags": []
          },
          "execution_count": 6
        }
      ]
    },
    {
      "cell_type": "code",
      "metadata": {
        "id": "Y4qVkrCSDQsm"
      },
      "source": [
        "purch = df.loc[(df['Purchased'] == 1)]\n",
        "NOpurch = df.loc[(df['Purchased'] == 0)]"
      ],
      "execution_count": 7,
      "outputs": []
    },
    {
      "cell_type": "code",
      "metadata": {
        "colab": {
          "base_uri": "https://localhost:8080/"
        },
        "id": "j5BGCYPtDv3R",
        "outputId": "7577bfb5-8a61-4dd5-d5ac-8268ed7b4067"
      },
      "source": [
        "(len(purch) , len(NOpurch))"
      ],
      "execution_count": 8,
      "outputs": [
        {
          "output_type": "execute_result",
          "data": {
            "text/plain": [
              "(143, 257)"
            ]
          },
          "metadata": {
            "tags": []
          },
          "execution_count": 8
        }
      ]
    },
    {
      "cell_type": "code",
      "metadata": {
        "id": "JByarCqeD99x"
      },
      "source": [
        "def Disbalance(majority,minority):\n",
        "  delta = len(majority) - len(minority) \n",
        "  percentage = (len(minority) / len(majority)) * 100\n",
        "  print('Majority Length : {}   Minority Length : {} \\n\\n Distance : {}'.format(len(majority), len(minority) , delta ,percentage ))"
      ],
      "execution_count": 9,
      "outputs": []
    },
    {
      "cell_type": "code",
      "metadata": {
        "colab": {
          "base_uri": "https://localhost:8080/",
          "height": 406
        },
        "id": "CslI1fhZEsWF",
        "outputId": "32c797d5-58c6-4463-8928-8c3ee866dd5b"
      },
      "source": [
        "balanced_purch = purch\n",
        "balanced_Npurch = NOpurch[:143]\n",
        "balanced_purch"
      ],
      "execution_count": 10,
      "outputs": [
        {
          "output_type": "execute_result",
          "data": {
            "text/html": [
              "<div>\n",
              "<style scoped>\n",
              "    .dataframe tbody tr th:only-of-type {\n",
              "        vertical-align: middle;\n",
              "    }\n",
              "\n",
              "    .dataframe tbody tr th {\n",
              "        vertical-align: top;\n",
              "    }\n",
              "\n",
              "    .dataframe thead th {\n",
              "        text-align: right;\n",
              "    }\n",
              "</style>\n",
              "<table border=\"1\" class=\"dataframe\">\n",
              "  <thead>\n",
              "    <tr style=\"text-align: right;\">\n",
              "      <th></th>\n",
              "      <th>User ID</th>\n",
              "      <th>Gender</th>\n",
              "      <th>Age</th>\n",
              "      <th>EstimatedSalary</th>\n",
              "      <th>Purchased</th>\n",
              "    </tr>\n",
              "  </thead>\n",
              "  <tbody>\n",
              "    <tr>\n",
              "      <th>7</th>\n",
              "      <td>15694829</td>\n",
              "      <td>Female</td>\n",
              "      <td>32</td>\n",
              "      <td>150000</td>\n",
              "      <td>1</td>\n",
              "    </tr>\n",
              "    <tr>\n",
              "      <th>16</th>\n",
              "      <td>15733883</td>\n",
              "      <td>Male</td>\n",
              "      <td>47</td>\n",
              "      <td>25000</td>\n",
              "      <td>1</td>\n",
              "    </tr>\n",
              "    <tr>\n",
              "      <th>17</th>\n",
              "      <td>15617482</td>\n",
              "      <td>Male</td>\n",
              "      <td>45</td>\n",
              "      <td>26000</td>\n",
              "      <td>1</td>\n",
              "    </tr>\n",
              "    <tr>\n",
              "      <th>18</th>\n",
              "      <td>15704583</td>\n",
              "      <td>Male</td>\n",
              "      <td>46</td>\n",
              "      <td>28000</td>\n",
              "      <td>1</td>\n",
              "    </tr>\n",
              "    <tr>\n",
              "      <th>19</th>\n",
              "      <td>15621083</td>\n",
              "      <td>Female</td>\n",
              "      <td>48</td>\n",
              "      <td>29000</td>\n",
              "      <td>1</td>\n",
              "    </tr>\n",
              "    <tr>\n",
              "      <th>...</th>\n",
              "      <td>...</td>\n",
              "      <td>...</td>\n",
              "      <td>...</td>\n",
              "      <td>...</td>\n",
              "      <td>...</td>\n",
              "    </tr>\n",
              "    <tr>\n",
              "      <th>393</th>\n",
              "      <td>15635893</td>\n",
              "      <td>Male</td>\n",
              "      <td>60</td>\n",
              "      <td>42000</td>\n",
              "      <td>1</td>\n",
              "    </tr>\n",
              "    <tr>\n",
              "      <th>395</th>\n",
              "      <td>15691863</td>\n",
              "      <td>Female</td>\n",
              "      <td>46</td>\n",
              "      <td>41000</td>\n",
              "      <td>1</td>\n",
              "    </tr>\n",
              "    <tr>\n",
              "      <th>396</th>\n",
              "      <td>15706071</td>\n",
              "      <td>Male</td>\n",
              "      <td>51</td>\n",
              "      <td>23000</td>\n",
              "      <td>1</td>\n",
              "    </tr>\n",
              "    <tr>\n",
              "      <th>397</th>\n",
              "      <td>15654296</td>\n",
              "      <td>Female</td>\n",
              "      <td>50</td>\n",
              "      <td>20000</td>\n",
              "      <td>1</td>\n",
              "    </tr>\n",
              "    <tr>\n",
              "      <th>399</th>\n",
              "      <td>15594041</td>\n",
              "      <td>Female</td>\n",
              "      <td>49</td>\n",
              "      <td>36000</td>\n",
              "      <td>1</td>\n",
              "    </tr>\n",
              "  </tbody>\n",
              "</table>\n",
              "<p>143 rows × 5 columns</p>\n",
              "</div>"
            ],
            "text/plain": [
              "      User ID  Gender  Age  EstimatedSalary  Purchased\n",
              "7    15694829  Female   32           150000          1\n",
              "16   15733883    Male   47            25000          1\n",
              "17   15617482    Male   45            26000          1\n",
              "18   15704583    Male   46            28000          1\n",
              "19   15621083  Female   48            29000          1\n",
              "..        ...     ...  ...              ...        ...\n",
              "393  15635893    Male   60            42000          1\n",
              "395  15691863  Female   46            41000          1\n",
              "396  15706071    Male   51            23000          1\n",
              "397  15654296  Female   50            20000          1\n",
              "399  15594041  Female   49            36000          1\n",
              "\n",
              "[143 rows x 5 columns]"
            ]
          },
          "metadata": {
            "tags": []
          },
          "execution_count": 10
        }
      ]
    },
    {
      "cell_type": "code",
      "metadata": {
        "colab": {
          "base_uri": "https://localhost:8080/",
          "height": 406
        },
        "id": "PCLhVRfEGyJK",
        "outputId": "836bd9fb-c111-4fec-c7b0-927dbf0c07d8"
      },
      "source": [
        "balanced_df = pd.concat([balanced_purch, balanced_Npurch])\n",
        "balanced_df"
      ],
      "execution_count": 11,
      "outputs": [
        {
          "output_type": "execute_result",
          "data": {
            "text/html": [
              "<div>\n",
              "<style scoped>\n",
              "    .dataframe tbody tr th:only-of-type {\n",
              "        vertical-align: middle;\n",
              "    }\n",
              "\n",
              "    .dataframe tbody tr th {\n",
              "        vertical-align: top;\n",
              "    }\n",
              "\n",
              "    .dataframe thead th {\n",
              "        text-align: right;\n",
              "    }\n",
              "</style>\n",
              "<table border=\"1\" class=\"dataframe\">\n",
              "  <thead>\n",
              "    <tr style=\"text-align: right;\">\n",
              "      <th></th>\n",
              "      <th>User ID</th>\n",
              "      <th>Gender</th>\n",
              "      <th>Age</th>\n",
              "      <th>EstimatedSalary</th>\n",
              "      <th>Purchased</th>\n",
              "    </tr>\n",
              "  </thead>\n",
              "  <tbody>\n",
              "    <tr>\n",
              "      <th>7</th>\n",
              "      <td>15694829</td>\n",
              "      <td>Female</td>\n",
              "      <td>32</td>\n",
              "      <td>150000</td>\n",
              "      <td>1</td>\n",
              "    </tr>\n",
              "    <tr>\n",
              "      <th>16</th>\n",
              "      <td>15733883</td>\n",
              "      <td>Male</td>\n",
              "      <td>47</td>\n",
              "      <td>25000</td>\n",
              "      <td>1</td>\n",
              "    </tr>\n",
              "    <tr>\n",
              "      <th>17</th>\n",
              "      <td>15617482</td>\n",
              "      <td>Male</td>\n",
              "      <td>45</td>\n",
              "      <td>26000</td>\n",
              "      <td>1</td>\n",
              "    </tr>\n",
              "    <tr>\n",
              "      <th>18</th>\n",
              "      <td>15704583</td>\n",
              "      <td>Male</td>\n",
              "      <td>46</td>\n",
              "      <td>28000</td>\n",
              "      <td>1</td>\n",
              "    </tr>\n",
              "    <tr>\n",
              "      <th>19</th>\n",
              "      <td>15621083</td>\n",
              "      <td>Female</td>\n",
              "      <td>48</td>\n",
              "      <td>29000</td>\n",
              "      <td>1</td>\n",
              "    </tr>\n",
              "    <tr>\n",
              "      <th>...</th>\n",
              "      <td>...</td>\n",
              "      <td>...</td>\n",
              "      <td>...</td>\n",
              "      <td>...</td>\n",
              "      <td>...</td>\n",
              "    </tr>\n",
              "    <tr>\n",
              "      <th>162</th>\n",
              "      <td>15599533</td>\n",
              "      <td>Female</td>\n",
              "      <td>37</td>\n",
              "      <td>33000</td>\n",
              "      <td>0</td>\n",
              "    </tr>\n",
              "    <tr>\n",
              "      <th>163</th>\n",
              "      <td>15757837</td>\n",
              "      <td>Male</td>\n",
              "      <td>35</td>\n",
              "      <td>38000</td>\n",
              "      <td>0</td>\n",
              "    </tr>\n",
              "    <tr>\n",
              "      <th>164</th>\n",
              "      <td>15697574</td>\n",
              "      <td>Female</td>\n",
              "      <td>33</td>\n",
              "      <td>69000</td>\n",
              "      <td>0</td>\n",
              "    </tr>\n",
              "    <tr>\n",
              "      <th>165</th>\n",
              "      <td>15578738</td>\n",
              "      <td>Female</td>\n",
              "      <td>18</td>\n",
              "      <td>86000</td>\n",
              "      <td>0</td>\n",
              "    </tr>\n",
              "    <tr>\n",
              "      <th>166</th>\n",
              "      <td>15762228</td>\n",
              "      <td>Female</td>\n",
              "      <td>22</td>\n",
              "      <td>55000</td>\n",
              "      <td>0</td>\n",
              "    </tr>\n",
              "  </tbody>\n",
              "</table>\n",
              "<p>286 rows × 5 columns</p>\n",
              "</div>"
            ],
            "text/plain": [
              "      User ID  Gender  Age  EstimatedSalary  Purchased\n",
              "7    15694829  Female   32           150000          1\n",
              "16   15733883    Male   47            25000          1\n",
              "17   15617482    Male   45            26000          1\n",
              "18   15704583    Male   46            28000          1\n",
              "19   15621083  Female   48            29000          1\n",
              "..        ...     ...  ...              ...        ...\n",
              "162  15599533  Female   37            33000          0\n",
              "163  15757837    Male   35            38000          0\n",
              "164  15697574  Female   33            69000          0\n",
              "165  15578738  Female   18            86000          0\n",
              "166  15762228  Female   22            55000          0\n",
              "\n",
              "[286 rows x 5 columns]"
            ]
          },
          "metadata": {
            "tags": []
          },
          "execution_count": 11
        }
      ]
    },
    {
      "cell_type": "code",
      "metadata": {
        "colab": {
          "base_uri": "https://localhost:8080/",
          "height": 554
        },
        "id": "iPSD7-QeG5GJ",
        "outputId": "21750689-5af9-45fe-cd6f-8d5f6f15b2f0"
      },
      "source": [
        "plt.figure(figsize = (13,8))\n",
        "sns.countplot(balanced_df['Purchased'],\n",
        "              palette = k)\n",
        "plt.title('Visualizing Data Balance', fontsize = 16 , weight = 'bold' , loc = 'left')\n",
        "plt.xlabel('Purchased(0 : No 1 : Yes)' , fontsize = 14 , weight = 'bold')\n",
        "plt.ylabel('Count', fontsize = 14)\n",
        "plt.xticks(color = 'black')\n",
        "plt.yticks(color = 'grey')\n"
      ],
      "execution_count": 12,
      "outputs": [
        {
          "output_type": "execute_result",
          "data": {
            "text/plain": [
              "(array([  0.,  20.,  40.,  60.,  80., 100., 120., 140., 160.]),\n",
              " <a list of 9 Text major ticklabel objects>)"
            ]
          },
          "metadata": {
            "tags": []
          },
          "execution_count": 12
        },
        {
          "output_type": "display_data",
          "data": {
            "image/png": "[encoded data removed]",
            "text/plain": [
              "<Figure size 936x576 with 1 Axes>"
            ]
          },
          "metadata": {
            "tags": []
          }
        }
      ]
    },
    {
      "cell_type": "markdown",
      "metadata": {
        "id": "b0I_wAQ2LHbR"
      },
      "source": [
        "### **Selecting Model**"
      ]
    },
    {
      "cell_type": "code",
      "metadata": {
        "colab": {
          "base_uri": "https://localhost:8080/",
          "height": 406
        },
        "id": "pV8VaIkiOuch",
        "outputId": "50be15b0-9d7d-48cd-b2bd-46927e4d9036"
      },
      "source": [
        "balanced_df"
      ],
      "execution_count": 13,
      "outputs": [
        {
          "output_type": "execute_result",
          "data": {
            "text/html": [
              "<div>\n",
              "<style scoped>\n",
              "    .dataframe tbody tr th:only-of-type {\n",
              "        vertical-align: middle;\n",
              "    }\n",
              "\n",
              "    .dataframe tbody tr th {\n",
              "        vertical-align: top;\n",
              "    }\n",
              "\n",
              "    .dataframe thead th {\n",
              "        text-align: right;\n",
              "    }\n",
              "</style>\n",
              "<table border=\"1\" class=\"dataframe\">\n",
              "  <thead>\n",
              "    <tr style=\"text-align: right;\">\n",
              "      <th></th>\n",
              "      <th>User ID</th>\n",
              "      <th>Gender</th>\n",
              "      <th>Age</th>\n",
              "      <th>EstimatedSalary</th>\n",
              "      <th>Purchased</th>\n",
              "    </tr>\n",
              "  </thead>\n",
              "  <tbody>\n",
              "    <tr>\n",
              "      <th>7</th>\n",
              "      <td>15694829</td>\n",
              "      <td>Female</td>\n",
              "      <td>32</td>\n",
              "      <td>150000</td>\n",
              "      <td>1</td>\n",
              "    </tr>\n",
              "    <tr>\n",
              "      <th>16</th>\n",
              "      <td>15733883</td>\n",
              "      <td>Male</td>\n",
              "      <td>47</td>\n",
              "      <td>25000</td>\n",
              "      <td>1</td>\n",
              "    </tr>\n",
              "    <tr>\n",
              "      <th>17</th>\n",
              "      <td>15617482</td>\n",
              "      <td>Male</td>\n",
              "      <td>45</td>\n",
              "      <td>26000</td>\n",
              "      <td>1</td>\n",
              "    </tr>\n",
              "    <tr>\n",
              "      <th>18</th>\n",
              "      <td>15704583</td>\n",
              "      <td>Male</td>\n",
              "      <td>46</td>\n",
              "      <td>28000</td>\n",
              "      <td>1</td>\n",
              "    </tr>\n",
              "    <tr>\n",
              "      <th>19</th>\n",
              "      <td>15621083</td>\n",
              "      <td>Female</td>\n",
              "      <td>48</td>\n",
              "      <td>29000</td>\n",
              "      <td>1</td>\n",
              "    </tr>\n",
              "    <tr>\n",
              "      <th>...</th>\n",
              "      <td>...</td>\n",
              "      <td>...</td>\n",
              "      <td>...</td>\n",
              "      <td>...</td>\n",
              "      <td>...</td>\n",
              "    </tr>\n",
              "    <tr>\n",
              "      <th>162</th>\n",
              "      <td>15599533</td>\n",
              "      <td>Female</td>\n",
              "      <td>37</td>\n",
              "      <td>33000</td>\n",
              "      <td>0</td>\n",
              "    </tr>\n",
              "    <tr>\n",
              "      <th>163</th>\n",
              "      <td>15757837</td>\n",
              "      <td>Male</td>\n",
              "      <td>35</td>\n",
              "      <td>38000</td>\n",
              "      <td>0</td>\n",
              "    </tr>\n",
              "    <tr>\n",
              "      <th>164</th>\n",
              "      <td>15697574</td>\n",
              "      <td>Female</td>\n",
              "      <td>33</td>\n",
              "      <td>69000</td>\n",
              "      <td>0</td>\n",
              "    </tr>\n",
              "    <tr>\n",
              "      <th>165</th>\n",
              "      <td>15578738</td>\n",
              "      <td>Female</td>\n",
              "      <td>18</td>\n",
              "      <td>86000</td>\n",
              "      <td>0</td>\n",
              "    </tr>\n",
              "    <tr>\n",
              "      <th>166</th>\n",
              "      <td>15762228</td>\n",
              "      <td>Female</td>\n",
              "      <td>22</td>\n",
              "      <td>55000</td>\n",
              "      <td>0</td>\n",
              "    </tr>\n",
              "  </tbody>\n",
              "</table>\n",
              "<p>286 rows × 5 columns</p>\n",
              "</div>"
            ],
            "text/plain": [
              "      User ID  Gender  Age  EstimatedSalary  Purchased\n",
              "7    15694829  Female   32           150000          1\n",
              "16   15733883    Male   47            25000          1\n",
              "17   15617482    Male   45            26000          1\n",
              "18   15704583    Male   46            28000          1\n",
              "19   15621083  Female   48            29000          1\n",
              "..        ...     ...  ...              ...        ...\n",
              "162  15599533  Female   37            33000          0\n",
              "163  15757837    Male   35            38000          0\n",
              "164  15697574  Female   33            69000          0\n",
              "165  15578738  Female   18            86000          0\n",
              "166  15762228  Female   22            55000          0\n",
              "\n",
              "[286 rows x 5 columns]"
            ]
          },
          "metadata": {
            "tags": []
          },
          "execution_count": 13
        }
      ]
    },
    {
      "cell_type": "code",
      "metadata": {
        "id": "qxOtIcvHO2sk"
      },
      "source": [
        "balanced_df.drop('User ID' , axis = 1, inplace = True)"
      ],
      "execution_count": 14,
      "outputs": []
    },
    {
      "cell_type": "code",
      "metadata": {
        "id": "72OdljE7O_ya"
      },
      "source": [
        "\n",
        "le = LabelEncoder()\n",
        "balanced_df['Gender'] = le.fit_transform(balanced_df['Gender'])"
      ],
      "execution_count": 15,
      "outputs": []
    },
    {
      "cell_type": "code",
      "metadata": {
        "colab": {
          "base_uri": "https://localhost:8080/",
          "height": 406
        },
        "id": "Nwc2N79LPKK0",
        "outputId": "3c3378f1-2aa4-4c17-e872-c2cd92a10ef0"
      },
      "source": [
        "balanced_df"
      ],
      "execution_count": 16,
      "outputs": [
        {
          "output_type": "execute_result",
          "data": {
            "text/html": [
              "<div>\n",
              "<style scoped>\n",
              "    .dataframe tbody tr th:only-of-type {\n",
              "        vertical-align: middle;\n",
              "    }\n",
              "\n",
              "    .dataframe tbody tr th {\n",
              "        vertical-align: top;\n",
              "    }\n",
              "\n",
              "    .dataframe thead th {\n",
              "        text-align: right;\n",
              "    }\n",
              "</style>\n",
              "<table border=\"1\" class=\"dataframe\">\n",
              "  <thead>\n",
              "    <tr style=\"text-align: right;\">\n",
              "      <th></th>\n",
              "      <th>Gender</th>\n",
              "      <th>Age</th>\n",
              "      <th>EstimatedSalary</th>\n",
              "      <th>Purchased</th>\n",
              "    </tr>\n",
              "  </thead>\n",
              "  <tbody>\n",
              "    <tr>\n",
              "      <th>7</th>\n",
              "      <td>0</td>\n",
              "      <td>32</td>\n",
              "      <td>150000</td>\n",
              "      <td>1</td>\n",
              "    </tr>\n",
              "    <tr>\n",
              "      <th>16</th>\n",
              "      <td>1</td>\n",
              "      <td>47</td>\n",
              "      <td>25000</td>\n",
              "      <td>1</td>\n",
              "    </tr>\n",
              "    <tr>\n",
              "      <th>17</th>\n",
              "      <td>1</td>\n",
              "      <td>45</td>\n",
              "      <td>26000</td>\n",
              "      <td>1</td>\n",
              "    </tr>\n",
              "    <tr>\n",
              "      <th>18</th>\n",
              "      <td>1</td>\n",
              "      <td>46</td>\n",
              "      <td>28000</td>\n",
              "      <td>1</td>\n",
              "    </tr>\n",
              "    <tr>\n",
              "      <th>19</th>\n",
              "      <td>0</td>\n",
              "      <td>48</td>\n",
              "      <td>29000</td>\n",
              "      <td>1</td>\n",
              "    </tr>\n",
              "    <tr>\n",
              "      <th>...</th>\n",
              "      <td>...</td>\n",
              "      <td>...</td>\n",
              "      <td>...</td>\n",
              "      <td>...</td>\n",
              "    </tr>\n",
              "    <tr>\n",
              "      <th>162</th>\n",
              "      <td>0</td>\n",
              "      <td>37</td>\n",
              "      <td>33000</td>\n",
              "      <td>0</td>\n",
              "    </tr>\n",
              "    <tr>\n",
              "      <th>163</th>\n",
              "      <td>1</td>\n",
              "      <td>35</td>\n",
              "      <td>38000</td>\n",
              "      <td>0</td>\n",
              "    </tr>\n",
              "    <tr>\n",
              "      <th>164</th>\n",
              "      <td>0</td>\n",
              "      <td>33</td>\n",
              "      <td>69000</td>\n",
              "      <td>0</td>\n",
              "    </tr>\n",
              "    <tr>\n",
              "      <th>165</th>\n",
              "      <td>0</td>\n",
              "      <td>18</td>\n",
              "      <td>86000</td>\n",
              "      <td>0</td>\n",
              "    </tr>\n",
              "    <tr>\n",
              "      <th>166</th>\n",
              "      <td>0</td>\n",
              "      <td>22</td>\n",
              "      <td>55000</td>\n",
              "      <td>0</td>\n",
              "    </tr>\n",
              "  </tbody>\n",
              "</table>\n",
              "<p>286 rows × 4 columns</p>\n",
              "</div>"
            ],
            "text/plain": [
              "     Gender  Age  EstimatedSalary  Purchased\n",
              "7         0   32           150000          1\n",
              "16        1   47            25000          1\n",
              "17        1   45            26000          1\n",
              "18        1   46            28000          1\n",
              "19        0   48            29000          1\n",
              "..      ...  ...              ...        ...\n",
              "162       0   37            33000          0\n",
              "163       1   35            38000          0\n",
              "164       0   33            69000          0\n",
              "165       0   18            86000          0\n",
              "166       0   22            55000          0\n",
              "\n",
              "[286 rows x 4 columns]"
            ]
          },
          "metadata": {
            "tags": []
          },
          "execution_count": 16
        }
      ]
    },
    {
      "cell_type": "code",
      "metadata": {
        "id": "dVBoS5o3K-Vi"
      },
      "source": [
        "y = balanced_df.Purchased\n",
        "X = balanced_df.drop('Purchased' , axis = 1)"
      ],
      "execution_count": 17,
      "outputs": []
    },
    {
      "cell_type": "code",
      "metadata": {
        "id": "lU1IGYgDLgcU"
      },
      "source": [
        "x_train,x_test,y_train,y_test = train_test_split(X,y,test_size = .25)"
      ],
      "execution_count": 18,
      "outputs": []
    },
    {
      "cell_type": "code",
      "metadata": {
        "colab": {
          "base_uri": "https://localhost:8080/"
        },
        "id": "pIJDpZgbL14N",
        "outputId": "ac817370-df6b-4b43-da98-439495137d67"
      },
      "source": [
        "models = [\n",
        "          ('LogisticRegression' , LogisticRegression()),\n",
        "          ('RandomForest' , RandomForestClassifier()),\n",
        "          ('KNN' , KNeighborsClassifier()),\n",
        "          ('BernoulliNaiveB' ,BernoulliNB()),\n",
        "          ('SVM' , SVC()),\n",
        "          ('GaussianNaiveB', GaussianNB()),\n",
        "          ('XGB' , XGBClassifier())\n",
        "]\n",
        "\n",
        "results = [] \n",
        "cvmean = [] \n",
        "names = [] \n",
        "\n",
        "scoring = ['accuracy' , 'recall_weighted' , 'f1_weighted' , 'roc_auc']\n",
        "target_names = ['No' , 'Purchased']\n",
        "\n",
        "\n",
        "for name,model in models:\n",
        "  kfold = KFold(n_splits = 5 , shuffle = True)\n",
        "  cv = cross_validate(model,x_train,y_train,cv = kfold,scoring = scoring)\n",
        "  cv_mean = np.mean(cv['test_accuracy'])\n",
        "  cvmean.append(cv_mean)\n",
        "  clf = model.fit(x_train,y_train)\n",
        "  y_pred = clf.predict(x_test)\n",
        "  print(name)\n",
        "  print(classification_report(y_test,y_pred, target_names=target_names))\n",
        "  print('_____________________________________________________________')\n",
        "  results.append(cv)\n",
        "  names.append(name)\n",
        "  "
      ],
      "execution_count": 19,
      "outputs": [
        {
          "output_type": "stream",
          "text": [
            "LogisticRegression\n",
            "              precision    recall  f1-score   support\n",
            "\n",
            "          No       0.00      0.00      0.00        36\n",
            "   Purchased       0.50      1.00      0.67        36\n",
            "\n",
            "    accuracy                           0.50        72\n",
            "   macro avg       0.25      0.50      0.33        72\n",
            "weighted avg       0.25      0.50      0.33        72\n",
            "\n",
            "_____________________________________________________________\n",
            "RandomForest\n",
            "              precision    recall  f1-score   support\n",
            "\n",
            "          No       0.90      0.97      0.93        36\n",
            "   Purchased       0.97      0.89      0.93        36\n",
            "\n",
            "    accuracy                           0.93        72\n",
            "   macro avg       0.93      0.93      0.93        72\n",
            "weighted avg       0.93      0.93      0.93        72\n",
            "\n",
            "_____________________________________________________________\n",
            "KNN\n",
            "              precision    recall  f1-score   support\n",
            "\n",
            "          No       0.73      0.92      0.81        36\n",
            "   Purchased       0.89      0.67      0.76        36\n",
            "\n",
            "    accuracy                           0.79        72\n",
            "   macro avg       0.81      0.79      0.79        72\n",
            "weighted avg       0.81      0.79      0.79        72\n",
            "\n",
            "_____________________________________________________________\n",
            "BernoulliNaiveB\n",
            "              precision    recall  f1-score   support\n",
            "\n",
            "          No       0.50      0.44      0.47        36\n",
            "   Purchased       0.50      0.56      0.53        36\n",
            "\n",
            "    accuracy                           0.50        72\n",
            "   macro avg       0.50      0.50      0.50        72\n",
            "weighted avg       0.50      0.50      0.50        72\n",
            "\n",
            "_____________________________________________________________\n",
            "SVM\n",
            "              precision    recall  f1-score   support\n",
            "\n",
            "          No       0.62      0.97      0.76        36\n",
            "   Purchased       0.94      0.42      0.58        36\n",
            "\n",
            "    accuracy                           0.69        72\n",
            "   macro avg       0.78      0.69      0.67        72\n",
            "weighted avg       0.78      0.69      0.67        72\n",
            "\n",
            "_____________________________________________________________\n",
            "GaussianNaiveB\n",
            "              precision    recall  f1-score   support\n",
            "\n",
            "          No       0.97      0.97      0.97        36\n",
            "   Purchased       0.97      0.97      0.97        36\n",
            "\n",
            "    accuracy                           0.97        72\n",
            "   macro avg       0.97      0.97      0.97        72\n",
            "weighted avg       0.97      0.97      0.97        72\n",
            "\n",
            "_____________________________________________________________\n",
            "XGB\n",
            "              precision    recall  f1-score   support\n",
            "\n",
            "          No       0.92      0.97      0.95        36\n",
            "   Purchased       0.97      0.92      0.94        36\n",
            "\n",
            "    accuracy                           0.94        72\n",
            "   macro avg       0.95      0.94      0.94        72\n",
            "weighted avg       0.95      0.94      0.94        72\n",
            "\n",
            "_____________________________________________________________\n"
          ],
          "name": "stdout"
        }
      ]
    },
    {
      "cell_type": "code",
      "metadata": {
        "id": "RwiFwqamPYUB"
      },
      "source": [
        "models = pd.DataFrame({'CrossValidationMean' : cvmean , 'Models': names})"
      ],
      "execution_count": 20,
      "outputs": []
    },
    {
      "cell_type": "code",
      "metadata": {
        "colab": {
          "base_uri": "https://localhost:8080/",
          "height": 257
        },
        "id": "ZymM5Ni7Pkrd",
        "outputId": "b5edb9fc-acd3-4128-d9d5-f6748e1ebfd2"
      },
      "source": [
        "models"
      ],
      "execution_count": 21,
      "outputs": [
        {
          "output_type": "execute_result",
          "data": {
            "text/html": [
              "<div>\n",
              "<style scoped>\n",
              "    .dataframe tbody tr th:only-of-type {\n",
              "        vertical-align: middle;\n",
              "    }\n",
              "\n",
              "    .dataframe tbody tr th {\n",
              "        vertical-align: top;\n",
              "    }\n",
              "\n",
              "    .dataframe thead th {\n",
              "        text-align: right;\n",
              "    }\n",
              "</style>\n",
              "<table border=\"1\" class=\"dataframe\">\n",
              "  <thead>\n",
              "    <tr style=\"text-align: right;\">\n",
              "      <th></th>\n",
              "      <th>CrossValidationMean</th>\n",
              "      <th>Models</th>\n",
              "    </tr>\n",
              "  </thead>\n",
              "  <tbody>\n",
              "    <tr>\n",
              "      <th>0</th>\n",
              "      <td>0.561905</td>\n",
              "      <td>LogisticRegression</td>\n",
              "    </tr>\n",
              "    <tr>\n",
              "      <th>1</th>\n",
              "      <td>0.906534</td>\n",
              "      <td>RandomForest</td>\n",
              "    </tr>\n",
              "    <tr>\n",
              "      <th>2</th>\n",
              "      <td>0.789369</td>\n",
              "      <td>KNN</td>\n",
              "    </tr>\n",
              "    <tr>\n",
              "      <th>3</th>\n",
              "      <td>0.495127</td>\n",
              "      <td>BernoulliNaiveB</td>\n",
              "    </tr>\n",
              "    <tr>\n",
              "      <th>4</th>\n",
              "      <td>0.748062</td>\n",
              "      <td>SVM</td>\n",
              "    </tr>\n",
              "    <tr>\n",
              "      <th>5</th>\n",
              "      <td>0.925471</td>\n",
              "      <td>GaussianNaiveB</td>\n",
              "    </tr>\n",
              "    <tr>\n",
              "      <th>6</th>\n",
              "      <td>0.915947</td>\n",
              "      <td>XGB</td>\n",
              "    </tr>\n",
              "  </tbody>\n",
              "</table>\n",
              "</div>"
            ],
            "text/plain": [
              "   CrossValidationMean              Models\n",
              "0             0.561905  LogisticRegression\n",
              "1             0.906534        RandomForest\n",
              "2             0.789369                 KNN\n",
              "3             0.495127     BernoulliNaiveB\n",
              "4             0.748062                 SVM\n",
              "5             0.925471      GaussianNaiveB\n",
              "6             0.915947                 XGB"
            ]
          },
          "metadata": {
            "tags": []
          },
          "execution_count": 21
        }
      ]
    },
    {
      "cell_type": "code",
      "metadata": {
        "colab": {
          "base_uri": "https://localhost:8080/",
          "height": 257
        },
        "id": "L40dWV_-T80g",
        "outputId": "6f168df9-608f-4e81-8751-0872d17e4596"
      },
      "source": [
        "models = models.sort_values(by = 'CrossValidationMean' ,ascending=False)\n",
        "models"
      ],
      "execution_count": 22,
      "outputs": [
        {
          "output_type": "execute_result",
          "data": {
            "text/html": [
              "<div>\n",
              "<style scoped>\n",
              "    .dataframe tbody tr th:only-of-type {\n",
              "        vertical-align: middle;\n",
              "    }\n",
              "\n",
              "    .dataframe tbody tr th {\n",
              "        vertical-align: top;\n",
              "    }\n",
              "\n",
              "    .dataframe thead th {\n",
              "        text-align: right;\n",
              "    }\n",
              "</style>\n",
              "<table border=\"1\" class=\"dataframe\">\n",
              "  <thead>\n",
              "    <tr style=\"text-align: right;\">\n",
              "      <th></th>\n",
              "      <th>CrossValidationMean</th>\n",
              "      <th>Models</th>\n",
              "    </tr>\n",
              "  </thead>\n",
              "  <tbody>\n",
              "    <tr>\n",
              "      <th>5</th>\n",
              "      <td>0.925471</td>\n",
              "      <td>GaussianNaiveB</td>\n",
              "    </tr>\n",
              "    <tr>\n",
              "      <th>6</th>\n",
              "      <td>0.915947</td>\n",
              "      <td>XGB</td>\n",
              "    </tr>\n",
              "    <tr>\n",
              "      <th>1</th>\n",
              "      <td>0.906534</td>\n",
              "      <td>RandomForest</td>\n",
              "    </tr>\n",
              "    <tr>\n",
              "      <th>2</th>\n",
              "      <td>0.789369</td>\n",
              "      <td>KNN</td>\n",
              "    </tr>\n",
              "    <tr>\n",
              "      <th>4</th>\n",
              "      <td>0.748062</td>\n",
              "      <td>SVM</td>\n",
              "    </tr>\n",
              "    <tr>\n",
              "      <th>0</th>\n",
              "      <td>0.561905</td>\n",
              "      <td>LogisticRegression</td>\n",
              "    </tr>\n",
              "    <tr>\n",
              "      <th>3</th>\n",
              "      <td>0.495127</td>\n",
              "      <td>BernoulliNaiveB</td>\n",
              "    </tr>\n",
              "  </tbody>\n",
              "</table>\n",
              "</div>"
            ],
            "text/plain": [
              "   CrossValidationMean              Models\n",
              "5             0.925471      GaussianNaiveB\n",
              "6             0.915947                 XGB\n",
              "1             0.906534        RandomForest\n",
              "2             0.789369                 KNN\n",
              "4             0.748062                 SVM\n",
              "0             0.561905  LogisticRegression\n",
              "3             0.495127     BernoulliNaiveB"
            ]
          },
          "metadata": {
            "tags": []
          },
          "execution_count": 22
        }
      ]
    },
    {
      "cell_type": "code",
      "metadata": {
        "colab": {
          "base_uri": "https://localhost:8080/",
          "height": 812
        },
        "id": "53ALvo8lPl08",
        "outputId": "a04ff15c-f54f-486d-9384-9afe96533dcb"
      },
      "source": [
        "plt.figure(figsize= (20,13))\n",
        "l = ['#5c3140' , '#803b49' , '#a3474b' , '#c45747' , '#df6d3d' , '#f3872b' , '#ffa600']\n",
        "sns.barplot(x = models.CrossValidationMean , y = models.Models, palette = l )\n",
        "plt.xticks(size = 14)\n",
        "plt.title('Cross Validation Mean for Each Model in Train Set' , fontsize = 20 , weight = 'bold' , loc = 'left')\n",
        "plt.xlabel(' ')\n",
        "plt.ylabel(' ')\n",
        "plt.yticks(size = 16)"
      ],
      "execution_count": 23,
      "outputs": [
        {
          "output_type": "execute_result",
          "data": {
            "text/plain": [
              "(array([0, 1, 2, 3, 4, 5, 6]), <a list of 7 Text major ticklabel objects>)"
            ]
          },
          "metadata": {
            "tags": []
          },
          "execution_count": 23
        },
        {
          "output_type": "display_data",
          "data": {
            "image/png": "[encoded data removed]",
            "text/plain": [
              "<Figure size 1440x936 with 1 Axes>"
            ]
          },
          "metadata": {
            "tags": [],
            "needs_background": "light"
          }
        }
      ]
    },
    {
      "cell_type": "markdown",
      "metadata": {
        "id": "9rAUtqioVYgv"
      },
      "source": [
        "### **Testing Top 4 Models with Parameter Tunning [Since the 2 first models are relatively pronated to overfitting (XGB tries to avoid that by an learning rate applied for each step or tree])** ###"
      ]
    },
    {
      "cell_type": "code",
      "metadata": {
        "id": "fdwEKmbxTUfw"
      },
      "source": [
        "RF = RandomForestClassifier()\n",
        "XGB = XGBClassifier()\n",
        "Gaussian = GaussianNB()\n",
        "KNN = KNeighborsClassifier()\n",
        "\n",
        "\n",
        "\n",
        "\n",
        "RFParameters = [{'n_estimators': [100,150,80,130,50] , 'criterion':['gini' , 'entropy']}]\n",
        "\n",
        "\n",
        "\n",
        "GaussianParameters = [{'var_smoothing':[1e-9,1e-8,1e-10,1e-11]}]\n",
        "XGBParameters = [{'learning_rate':[.1,.15,.08,.2],\n",
        "                 'max_depth':[3,5,8]}]\n",
        "\n",
        "\n",
        "KNNParameters= [{'n_neighbors': [3,5,7],\n",
        "                'weights' :['uniform','distance']}]"
      ],
      "execution_count": 24,
      "outputs": []
    },
    {
      "cell_type": "code",
      "metadata": {
        "colab": {
          "base_uri": "https://localhost:8080/"
        },
        "id": "haPaUdPc8ilF",
        "outputId": "bce59eaf-72b6-4095-84c7-7d2557ee7a33"
      },
      "source": [
        "RF.get_params().keys()"
      ],
      "execution_count": 25,
      "outputs": [
        {
          "output_type": "execute_result",
          "data": {
            "text/plain": [
              "dict_keys(['bootstrap', 'ccp_alpha', 'class_weight', 'criterion', 'max_depth', 'max_features', 'max_leaf_nodes', 'max_samples', 'min_impurity_decrease', 'min_impurity_split', 'min_samples_leaf', 'min_samples_split', 'min_weight_fraction_leaf', 'n_estimators', 'n_jobs', 'oob_score', 'random_state', 'verbose', 'warm_start'])"
            ]
          },
          "metadata": {
            "tags": []
          },
          "execution_count": 25
        }
      ]
    },
    {
      "cell_type": "code",
      "metadata": {
        "colab": {
          "base_uri": "https://localhost:8080/"
        },
        "id": "dYSY7qhS9y_5",
        "outputId": "48610cfa-b12b-4bf1-8d7e-7cfe0dbd6c2a"
      },
      "source": [
        "XGB.get_params().keys()"
      ],
      "execution_count": 26,
      "outputs": [
        {
          "output_type": "execute_result",
          "data": {
            "text/plain": [
              "dict_keys(['base_score', 'booster', 'colsample_bylevel', 'colsample_bynode', 'colsample_bytree', 'gamma', 'learning_rate', 'max_delta_step', 'max_depth', 'min_child_weight', 'missing', 'n_estimators', 'n_jobs', 'nthread', 'objective', 'random_state', 'reg_alpha', 'reg_lambda', 'scale_pos_weight', 'seed', 'silent', 'subsample', 'verbosity'])"
            ]
          },
          "metadata": {
            "tags": []
          },
          "execution_count": 26
        }
      ]
    },
    {
      "cell_type": "code",
      "metadata": {
        "colab": {
          "base_uri": "https://localhost:8080/"
        },
        "id": "8RRZyTUn_Avs",
        "outputId": "cddcb89e-67d9-4197-bcdc-7bb1b3726ce8"
      },
      "source": [
        "Gaussian.get_params().keys()"
      ],
      "execution_count": 27,
      "outputs": [
        {
          "output_type": "execute_result",
          "data": {
            "text/plain": [
              "dict_keys(['priors', 'var_smoothing'])"
            ]
          },
          "metadata": {
            "tags": []
          },
          "execution_count": 27
        }
      ]
    },
    {
      "cell_type": "code",
      "metadata": {
        "colab": {
          "base_uri": "https://localhost:8080/"
        },
        "id": "v9ZtSaW-ACl1",
        "outputId": "2d243a73-707d-4a04-c658-617ce2f97170"
      },
      "source": [
        "KNN.get_params().keys()"
      ],
      "execution_count": 28,
      "outputs": [
        {
          "output_type": "execute_result",
          "data": {
            "text/plain": [
              "dict_keys(['algorithm', 'leaf_size', 'metric', 'metric_params', 'n_jobs', 'n_neighbors', 'p', 'weights'])"
            ]
          },
          "metadata": {
            "tags": []
          },
          "execution_count": 28
        }
      ]
    },
    {
      "cell_type": "code",
      "metadata": {
        "id": "H8in5oJM9MUQ"
      },
      "source": [
        "yhat = y_test"
      ],
      "execution_count": 29,
      "outputs": []
    },
    {
      "cell_type": "markdown",
      "metadata": {
        "id": "uqJ0VUY49U_f"
      },
      "source": [
        "### **Evolutionary Algorithm** ##"
      ]
    },
    {
      "cell_type": "markdown",
      "metadata": {
        "id": "Cs3tqWJL9Y9l"
      },
      "source": [
        "##### **Random Forest**"
      ]
    },
    {
      "cell_type": "code",
      "metadata": {
        "id": "XrnYsKvl8h2U"
      },
      "source": [
        "RFevo = EvolutionaryAlgorithmSearchCV(RF,RFParameters,scoring = 'accuracy',\n",
        "                                    cv = 20, population_size = 50)"
      ],
      "execution_count": 30,
      "outputs": []
    },
    {
      "cell_type": "code",
      "metadata": {
        "id": "fuwfMS0i8WlD"
      },
      "source": [
        "RFevo.fit(x_train,y_train)"
      ],
      "execution_count": 31,
      "outputs": []
    },
    {
      "cell_type": "code",
      "metadata": {
        "colab": {
          "base_uri": "https://localhost:8080/"
        },
        "id": "Ms2o0wNW9HXb",
        "outputId": "b5431828-9e6d-4c52-e735-6d9831d087cd"
      },
      "source": [
        "RFevo.best_score_"
      ],
      "execution_count": 32,
      "outputs": [
        {
          "output_type": "execute_result",
          "data": {
            "text/plain": [
              "0.9158878504672897"
            ]
          },
          "metadata": {
            "tags": []
          },
          "execution_count": 32
        }
      ]
    },
    {
      "cell_type": "markdown",
      "metadata": {
        "id": "hsjqGqtH9iQq"
      },
      "source": [
        "##### **XGBoost Classifier**"
      ]
    },
    {
      "cell_type": "code",
      "metadata": {
        "id": "M-qy6Oj-9RUL"
      },
      "source": [
        "XGBevo = EvolutionaryAlgorithmSearchCV(XGB,XGBParameters,cv = 20,\n",
        "                                       population_size = 50)"
      ],
      "execution_count": 33,
      "outputs": []
    },
    {
      "cell_type": "code",
      "metadata": {
        "id": "vYIc14J3-YD5"
      },
      "source": [
        "XGBevo.fit(x_train,y_train)"
      ],
      "execution_count": 34,
      "outputs": []
    },
    {
      "cell_type": "code",
      "metadata": {
        "colab": {
          "base_uri": "https://localhost:8080/"
        },
        "id": "nmjZWBIB-ax3",
        "outputId": "1227d539-d7d6-4988-9805-28fdc426cdde"
      },
      "source": [
        "XGBevo.best_score_"
      ],
      "execution_count": 35,
      "outputs": [
        {
          "output_type": "execute_result",
          "data": {
            "text/plain": [
              "0.9158878504672897"
            ]
          },
          "metadata": {
            "tags": []
          },
          "execution_count": 35
        }
      ]
    },
    {
      "cell_type": "markdown",
      "metadata": {
        "id": "LsG1PevI_RFQ"
      },
      "source": [
        "###### **Gaussian Noise**"
      ]
    },
    {
      "cell_type": "code",
      "metadata": {
        "colab": {
          "base_uri": "https://localhost:8080/"
        },
        "id": "DBKCcBkF-fzl",
        "outputId": "5a98cadf-b17d-4d88-aa77-63b621415e6f"
      },
      "source": [
        "Gaussianevo = EvolutionaryAlgorithmSearchCV(Gaussian,GaussianParameters,cv=20,\n",
        "                                            population_size = 50)\n",
        "Gaussianevo.fit(x_train,y_train)\n",
        "Gaussianevo.best_score_"
      ],
      "execution_count": 36,
      "outputs": [
        {
          "output_type": "execute_result",
          "data": {
            "text/plain": [
              "0.9299065420560748"
            ]
          },
          "metadata": {
            "tags": []
          },
          "execution_count": 36
        }
      ]
    },
    {
      "cell_type": "markdown",
      "metadata": {
        "id": "XWdoSHvq_weI"
      },
      "source": [
        "###### **KNN**"
      ]
    },
    {
      "cell_type": "code",
      "metadata": {
        "colab": {
          "base_uri": "https://localhost:8080/"
        },
        "id": "3YGbd3Zn_pF_",
        "outputId": "a839e3e1-76ac-4abd-9c8e-502747ea7d90"
      },
      "source": [
        "KNNevo = EvolutionaryAlgorithmSearchCV(KNN, KNNParameters,cv=20)\n",
        "KNNevo.fit(x_train,y_train)\n",
        "KNNevo.best_score_"
      ],
      "execution_count": 37,
      "outputs": [
        {
          "output_type": "execute_result",
          "data": {
            "text/plain": [
              "0.7990654205607477"
            ]
          },
          "metadata": {
            "tags": []
          },
          "execution_count": 37
        }
      ]
    },
    {
      "cell_type": "markdown",
      "metadata": {
        "id": "0byIp7HwAWw8"
      },
      "source": [
        "#### **Selecting Best model and Evaluating in the Entire Dataset (Unbalaced)**"
      ]
    },
    {
      "cell_type": "code",
      "metadata": {
        "colab": {
          "base_uri": "https://localhost:8080/",
          "height": 406
        },
        "id": "7RRdFo_ME4A4",
        "outputId": "9b333d7a-cb7f-4099-838d-f372f7e5f309"
      },
      "source": [
        "df['Gender'] = le.transform(df['Gender'])\n",
        "df.drop('User ID' , axis = 1, inplace = True)\n",
        "X = df.drop('Purchased' , axis = 1)\n",
        "y = df.Purchased\n",
        "df"
      ],
      "execution_count": 38,
      "outputs": [
        {
          "output_type": "execute_result",
          "data": {
            "text/html": [
              "<div>\n",
              "<style scoped>\n",
              "    .dataframe tbody tr th:only-of-type {\n",
              "        vertical-align: middle;\n",
              "    }\n",
              "\n",
              "    .dataframe tbody tr th {\n",
              "        vertical-align: top;\n",
              "    }\n",
              "\n",
              "    .dataframe thead th {\n",
              "        text-align: right;\n",
              "    }\n",
              "</style>\n",
              "<table border=\"1\" class=\"dataframe\">\n",
              "  <thead>\n",
              "    <tr style=\"text-align: right;\">\n",
              "      <th></th>\n",
              "      <th>Gender</th>\n",
              "      <th>Age</th>\n",
              "      <th>EstimatedSalary</th>\n",
              "      <th>Purchased</th>\n",
              "    </tr>\n",
              "  </thead>\n",
              "  <tbody>\n",
              "    <tr>\n",
              "      <th>0</th>\n",
              "      <td>1</td>\n",
              "      <td>19</td>\n",
              "      <td>19000</td>\n",
              "      <td>0</td>\n",
              "    </tr>\n",
              "    <tr>\n",
              "      <th>1</th>\n",
              "      <td>1</td>\n",
              "      <td>35</td>\n",
              "      <td>20000</td>\n",
              "      <td>0</td>\n",
              "    </tr>\n",
              "    <tr>\n",
              "      <th>2</th>\n",
              "      <td>0</td>\n",
              "      <td>26</td>\n",
              "      <td>43000</td>\n",
              "      <td>0</td>\n",
              "    </tr>\n",
              "    <tr>\n",
              "      <th>3</th>\n",
              "      <td>0</td>\n",
              "      <td>27</td>\n",
              "      <td>57000</td>\n",
              "      <td>0</td>\n",
              "    </tr>\n",
              "    <tr>\n",
              "      <th>4</th>\n",
              "      <td>1</td>\n",
              "      <td>19</td>\n",
              "      <td>76000</td>\n",
              "      <td>0</td>\n",
              "    </tr>\n",
              "    <tr>\n",
              "      <th>...</th>\n",
              "      <td>...</td>\n",
              "      <td>...</td>\n",
              "      <td>...</td>\n",
              "      <td>...</td>\n",
              "    </tr>\n",
              "    <tr>\n",
              "      <th>395</th>\n",
              "      <td>0</td>\n",
              "      <td>46</td>\n",
              "      <td>41000</td>\n",
              "      <td>1</td>\n",
              "    </tr>\n",
              "    <tr>\n",
              "      <th>396</th>\n",
              "      <td>1</td>\n",
              "      <td>51</td>\n",
              "      <td>23000</td>\n",
              "      <td>1</td>\n",
              "    </tr>\n",
              "    <tr>\n",
              "      <th>397</th>\n",
              "      <td>0</td>\n",
              "      <td>50</td>\n",
              "      <td>20000</td>\n",
              "      <td>1</td>\n",
              "    </tr>\n",
              "    <tr>\n",
              "      <th>398</th>\n",
              "      <td>1</td>\n",
              "      <td>36</td>\n",
              "      <td>33000</td>\n",
              "      <td>0</td>\n",
              "    </tr>\n",
              "    <tr>\n",
              "      <th>399</th>\n",
              "      <td>0</td>\n",
              "      <td>49</td>\n",
              "      <td>36000</td>\n",
              "      <td>1</td>\n",
              "    </tr>\n",
              "  </tbody>\n",
              "</table>\n",
              "<p>400 rows × 4 columns</p>\n",
              "</div>"
            ],
            "text/plain": [
              "     Gender  Age  EstimatedSalary  Purchased\n",
              "0         1   19            19000          0\n",
              "1         1   35            20000          0\n",
              "2         0   26            43000          0\n",
              "3         0   27            57000          0\n",
              "4         1   19            76000          0\n",
              "..      ...  ...              ...        ...\n",
              "395       0   46            41000          1\n",
              "396       1   51            23000          1\n",
              "397       0   50            20000          1\n",
              "398       1   36            33000          0\n",
              "399       0   49            36000          1\n",
              "\n",
              "[400 rows x 4 columns]"
            ]
          },
          "metadata": {
            "tags": []
          },
          "execution_count": 38
        }
      ]
    },
    {
      "cell_type": "code",
      "metadata": {
        "colab": {
          "base_uri": "https://localhost:8080/"
        },
        "id": "Is0NBB1rBmwN",
        "outputId": "cbe308dc-0c31-4fd0-f0eb-ad063cfcf043"
      },
      "source": [
        "Evolutionary = [RFevo,XGBevo,Gaussianevo,KNNevo]\n",
        "names = 'RandomForest' , 'XGB' , 'GaussianNaiveB' , 'KNNModel'\n",
        "EvolutionaryACC = []\n",
        "\n",
        "for i in range(len(Evolutionary)):\n",
        "  model = names[i]\n",
        "  print(model)\n",
        "  acc = cross_val_score(Evolutionary[i], X , y , scoring = 'accuracy' , cv = 20)\n",
        "  mean_acc = np.mean(acc)\n",
        "  EvolutionaryACC.append(mean_acc)\n",
        "  print(classification_report(Evolutionary[i].predict(X) , y))\n",
        "  print('Mean Accuracy in Cross Validation: {}',format(mean_acc))\n",
        "  print('_______________________________________________________________________')\n",
        "  "
      ],
      "execution_count": 39,
      "outputs": [
        {
          "output_type": "stream",
          "text": [
            "RandomForest\n",
            "              precision    recall  f1-score   support\n",
            "\n",
            "           0       0.88      0.99      0.93       228\n",
            "           1       0.98      0.81      0.89       172\n",
            "\n",
            "    accuracy                           0.91       400\n",
            "   macro avg       0.93      0.90      0.91       400\n",
            "weighted avg       0.92      0.91      0.91       400\n",
            "\n",
            "Mean Accuracy in Cross Validation: {} 0.8875\n",
            "_______________________________________________________________________\n",
            "XGB\n",
            "              precision    recall  f1-score   support\n",
            "\n",
            "           0       0.88      0.98      0.93       231\n",
            "           1       0.97      0.82      0.88       169\n",
            "\n",
            "    accuracy                           0.91       400\n",
            "   macro avg       0.92      0.90      0.91       400\n",
            "weighted avg       0.92      0.91      0.91       400\n",
            "\n",
            "Mean Accuracy in Cross Validation: {} 0.8975\n",
            "_______________________________________________________________________\n",
            "GaussianNaiveB\n",
            "              precision    recall  f1-score   support\n",
            "\n",
            "           0       0.84      0.96      0.89       224\n",
            "           1       0.94      0.76      0.84       176\n",
            "\n",
            "    accuracy                           0.87       400\n",
            "   macro avg       0.89      0.86      0.87       400\n",
            "weighted avg       0.88      0.87      0.87       400\n",
            "\n",
            "Mean Accuracy in Cross Validation: {} 0.8825000000000003\n",
            "_______________________________________________________________________\n",
            "KNNModel\n",
            "              precision    recall  f1-score   support\n",
            "\n",
            "           0       0.86      0.90      0.88       245\n",
            "           1       0.83      0.76      0.79       155\n",
            "\n",
            "    accuracy                           0.84       400\n",
            "   macro avg       0.84      0.83      0.83       400\n",
            "weighted avg       0.84      0.84      0.84       400\n",
            "\n",
            "Mean Accuracy in Cross Validation: {} 0.7875\n",
            "_______________________________________________________________________\n"
          ],
          "name": "stdout"
        }
      ]
    },
    {
      "cell_type": "code",
      "metadata": {
        "id": "g7m6NZlxFb5o"
      },
      "source": [
        "post = pd.DataFrame({'models':names , 'MeanAccuracy':EvolutionaryACC})"
      ],
      "execution_count": 42,
      "outputs": []
    },
    {
      "cell_type": "code",
      "metadata": {
        "colab": {
          "base_uri": "https://localhost:8080/",
          "height": 167
        },
        "id": "VYnleaykKU3i",
        "outputId": "f0064d60-a89f-46ba-a60c-1a47596030ec"
      },
      "source": [
        "post = post.sort_values('MeanAccuracy' ,ascending= False)\n",
        "post"
      ],
      "execution_count": 48,
      "outputs": [
        {
          "output_type": "execute_result",
          "data": {
            "text/html": [
              "<div>\n",
              "<style scoped>\n",
              "    .dataframe tbody tr th:only-of-type {\n",
              "        vertical-align: middle;\n",
              "    }\n",
              "\n",
              "    .dataframe tbody tr th {\n",
              "        vertical-align: top;\n",
              "    }\n",
              "\n",
              "    .dataframe thead th {\n",
              "        text-align: right;\n",
              "    }\n",
              "</style>\n",
              "<table border=\"1\" class=\"dataframe\">\n",
              "  <thead>\n",
              "    <tr style=\"text-align: right;\">\n",
              "      <th></th>\n",
              "      <th>models</th>\n",
              "      <th>MeanAccuracy</th>\n",
              "    </tr>\n",
              "  </thead>\n",
              "  <tbody>\n",
              "    <tr>\n",
              "      <th>1</th>\n",
              "      <td>XGB</td>\n",
              "      <td>0.8975</td>\n",
              "    </tr>\n",
              "    <tr>\n",
              "      <th>0</th>\n",
              "      <td>RandomForest</td>\n",
              "      <td>0.8875</td>\n",
              "    </tr>\n",
              "    <tr>\n",
              "      <th>2</th>\n",
              "      <td>GaussianNaiveB</td>\n",
              "      <td>0.8825</td>\n",
              "    </tr>\n",
              "    <tr>\n",
              "      <th>3</th>\n",
              "      <td>KNNModel</td>\n",
              "      <td>0.7875</td>\n",
              "    </tr>\n",
              "  </tbody>\n",
              "</table>\n",
              "</div>"
            ],
            "text/plain": [
              "           models  MeanAccuracy\n",
              "1             XGB        0.8975\n",
              "0    RandomForest        0.8875\n",
              "2  GaussianNaiveB        0.8825\n",
              "3        KNNModel        0.7875"
            ]
          },
          "metadata": {
            "tags": []
          },
          "execution_count": 48
        }
      ]
    },
    {
      "cell_type": "code",
      "metadata": {
        "colab": {
          "base_uri": "https://localhost:8080/",
          "height": 812
        },
        "id": "4r8IiBOtKZfu",
        "outputId": "c7d6a5f9-5109-4e02-9258-84f80471e160"
      },
      "source": [
        "plt.figure(figsize= (20,13))\n",
        "l = ['#5c3140' , '#803b49' , '#a3474b' , '#c45747' , '#df6d3d' , '#f3872b' , '#ffa600']\n",
        "sns.barplot(x = post.MeanAccuracy , y = post.models, palette = l )\n",
        "plt.xticks(size = 14)\n",
        "plt.title('Cross Validation Mean for Each Model Post-Parameter Tunning in Full Dataset (Unbalaced)' , fontsize = 20 , weight = 'bold' , loc = 'left')\n",
        "plt.xlabel(' ')\n",
        "plt.ylabel(' ')\n",
        "plt.yticks(size = 16)"
      ],
      "execution_count": 50,
      "outputs": [
        {
          "output_type": "execute_result",
          "data": {
            "text/plain": [
              "(array([0, 1, 2, 3]), <a list of 4 Text major ticklabel objects>)"
            ]
          },
          "metadata": {
            "tags": []
          },
          "execution_count": 50
        },
        {
          "output_type": "display_data",
          "data": {
            "image/png": "[encoded data removed]",
            "text/plain": [
              "<Figure size 1440x936 with 1 Axes>"
            ]
          },
          "metadata": {
            "tags": [],
            "needs_background": "light"
          }
        }
      ]
    },
    {
      "cell_type": "code",
      "metadata": {
        "id": "b0c687WCKqmb"
      },
      "source": [
        "best_model = XGBevo"
      ],
      "execution_count": 51,
      "outputs": []
    },
    {
      "cell_type": "code",
      "metadata": {
        "colab": {
          "base_uri": "https://localhost:8080/"
        },
        "id": "-NeJv2C8Ldfk",
        "outputId": "de47ca2c-1c7b-41e8-daa8-53b6881d896d"
      },
      "source": [
        "XGBevo"
      ],
      "execution_count": 53,
      "outputs": [
        {
          "output_type": "execute_result",
          "data": {
            "text/plain": [
              "EvolutionaryAlgorithmSearchCV(cv=20, error_score='raise',\n",
              "                              estimator=XGBClassifier(base_score=0.5,\n",
              "                                                      booster='gbtree',\n",
              "                                                      colsample_bylevel=1,\n",
              "                                                      colsample_bynode=1,\n",
              "                                                      colsample_bytree=1,\n",
              "                                                      gamma=0,\n",
              "                                                      learning_rate=0.1,\n",
              "                                                      max_delta_step=0,\n",
              "                                                      max_depth=3,\n",
              "                                                      min_child_weight=1,\n",
              "                                                      missing=None,\n",
              "                                                      n_estimators=100,\n",
              "                                                      n_jobs=1, nthread=None,\n",
              "                                                      objective='binary:logistic',\n",
              "                                                      random_state=0,\n",
              "                                                      reg_alpha=0, reg_lambda=1,\n",
              "                                                      scale_pos_weight=1,\n",
              "                                                      seed=None, silent=None,\n",
              "                                                      subsample=1,\n",
              "                                                      verbosity=1),\n",
              "                              fit_params={}, gene_crossover_prob=0.5,\n",
              "                              gene_mutation_prob=0.1, gene_type=[2, 1],\n",
              "                              generations_number=10, iid=True, n_jobs=1,\n",
              "                              params=[{'learning_rate': [0.1, 0.15, 0.08, 0.2],\n",
              "                                       'max_depth': [3, 5, 8]}],\n",
              "                              population_size=50, refit=True, scoring=None,\n",
              "                              tournament_size=3, verbose=False)"
            ]
          },
          "metadata": {
            "tags": []
          },
          "execution_count": 53
        }
      ]
    }
  ]
}