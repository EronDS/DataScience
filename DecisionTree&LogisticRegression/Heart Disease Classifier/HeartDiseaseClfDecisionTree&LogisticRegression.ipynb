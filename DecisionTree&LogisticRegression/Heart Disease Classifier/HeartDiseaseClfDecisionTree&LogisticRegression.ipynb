{
  "nbformat": 4,
  "nbformat_minor": 0,
  "metadata": {
    "accelerator": "GPU",
    "colab": {
      "name": "HeartDiseaseClfDecisionTree&LogisticRegression.ipynb",
      "provenance": [],
      "collapsed_sections": []
    },
    "kernelspec": {
      "display_name": "Python 3",
      "name": "python3"
    },
    "language_info": {
      "name": "python"
    }
  },
  "cells": [
    {
      "cell_type": "code",
      "metadata": {
        "id": "E0KZWXc6LUMN"
      },
      "source": [
        "import pandas as pd\n",
        "import matplotlib.pyplot as plt \n",
        "import seaborn as sns\n",
        "import plotly.express as px\n",
        "from sklearn.tree import DecisionTreeClassifier\n",
        "from sklearn.neighbors import KNeighborsClassifier\n",
        "from sklearn.model_selection import cross_val_score\n",
        "from sklearn.preprocessing import MinMaxScaler\n",
        "from sklearn.ensemble import RandomForestClassifier\n",
        "from sklearn.pipeline import Pipeline\n",
        "from sklearn.model_selection import GridSearchCV\n",
        "from sklearn.metrics import mean_squared_error , classification_report\n",
        "import numpy as np \n",
        "from sklearn.linear_model import LogisticRegression\n",
        "from sklearn.decomposition import PCA\n",
        "import pickle\n",
        "import warnings\n",
        "warnings.filterwarnings('ignore')"
      ],
      "execution_count": null,
      "outputs": []
    },
    {
      "cell_type": "code",
      "metadata": {
        "colab": {
          "base_uri": "https://localhost:8080/",
          "height": 202
        },
        "id": "Yg7UG-M0L12M",
        "outputId": "773bf142-1438-4fe1-84d0-f0cf07fe0df3"
      },
      "source": [
        "df = pd.read_csv('/content/drive/MyDrive/Kaggle/heart.csv')\n",
        "df.head()"
      ],
      "execution_count": null,
      "outputs": [
        {
          "output_type": "execute_result",
          "data": {
            "text/html": [
              "<div>\n",
              "<style scoped>\n",
              "    .dataframe tbody tr th:only-of-type {\n",
              "        vertical-align: middle;\n",
              "    }\n",
              "\n",
              "    .dataframe tbody tr th {\n",
              "        vertical-align: top;\n",
              "    }\n",
              "\n",
              "    .dataframe thead th {\n",
              "        text-align: right;\n",
              "    }\n",
              "</style>\n",
              "<table border=\"1\" class=\"dataframe\">\n",
              "  <thead>\n",
              "    <tr style=\"text-align: right;\">\n",
              "      <th></th>\n",
              "      <th>age</th>\n",
              "      <th>sex</th>\n",
              "      <th>cp</th>\n",
              "      <th>trtbps</th>\n",
              "      <th>chol</th>\n",
              "      <th>fbs</th>\n",
              "      <th>restecg</th>\n",
              "      <th>thalachh</th>\n",
              "      <th>exng</th>\n",
              "      <th>oldpeak</th>\n",
              "      <th>slp</th>\n",
              "      <th>caa</th>\n",
              "      <th>thall</th>\n",
              "      <th>output</th>\n",
              "    </tr>\n",
              "  </thead>\n",
              "  <tbody>\n",
              "    <tr>\n",
              "      <th>0</th>\n",
              "      <td>63</td>\n",
              "      <td>1</td>\n",
              "      <td>3</td>\n",
              "      <td>145</td>\n",
              "      <td>233</td>\n",
              "      <td>1</td>\n",
              "      <td>0</td>\n",
              "      <td>150</td>\n",
              "      <td>0</td>\n",
              "      <td>2.3</td>\n",
              "      <td>0</td>\n",
              "      <td>0</td>\n",
              "      <td>1</td>\n",
              "      <td>1</td>\n",
              "    </tr>\n",
              "    <tr>\n",
              "      <th>1</th>\n",
              "      <td>37</td>\n",
              "      <td>1</td>\n",
              "      <td>2</td>\n",
              "      <td>130</td>\n",
              "      <td>250</td>\n",
              "      <td>0</td>\n",
              "      <td>1</td>\n",
              "      <td>187</td>\n",
              "      <td>0</td>\n",
              "      <td>3.5</td>\n",
              "      <td>0</td>\n",
              "      <td>0</td>\n",
              "      <td>2</td>\n",
              "      <td>1</td>\n",
              "    </tr>\n",
              "    <tr>\n",
              "      <th>2</th>\n",
              "      <td>41</td>\n",
              "      <td>0</td>\n",
              "      <td>1</td>\n",
              "      <td>130</td>\n",
              "      <td>204</td>\n",
              "      <td>0</td>\n",
              "      <td>0</td>\n",
              "      <td>172</td>\n",
              "      <td>0</td>\n",
              "      <td>1.4</td>\n",
              "      <td>2</td>\n",
              "      <td>0</td>\n",
              "      <td>2</td>\n",
              "      <td>1</td>\n",
              "    </tr>\n",
              "    <tr>\n",
              "      <th>3</th>\n",
              "      <td>56</td>\n",
              "      <td>1</td>\n",
              "      <td>1</td>\n",
              "      <td>120</td>\n",
              "      <td>236</td>\n",
              "      <td>0</td>\n",
              "      <td>1</td>\n",
              "      <td>178</td>\n",
              "      <td>0</td>\n",
              "      <td>0.8</td>\n",
              "      <td>2</td>\n",
              "      <td>0</td>\n",
              "      <td>2</td>\n",
              "      <td>1</td>\n",
              "    </tr>\n",
              "    <tr>\n",
              "      <th>4</th>\n",
              "      <td>57</td>\n",
              "      <td>0</td>\n",
              "      <td>0</td>\n",
              "      <td>120</td>\n",
              "      <td>354</td>\n",
              "      <td>0</td>\n",
              "      <td>1</td>\n",
              "      <td>163</td>\n",
              "      <td>1</td>\n",
              "      <td>0.6</td>\n",
              "      <td>2</td>\n",
              "      <td>0</td>\n",
              "      <td>2</td>\n",
              "      <td>1</td>\n",
              "    </tr>\n",
              "  </tbody>\n",
              "</table>\n",
              "</div>"
            ],
            "text/plain": [
              "   age  sex  cp  trtbps  chol  fbs  ...  exng  oldpeak  slp  caa  thall  output\n",
              "0   63    1   3     145   233    1  ...     0      2.3    0    0      1       1\n",
              "1   37    1   2     130   250    0  ...     0      3.5    0    0      2       1\n",
              "2   41    0   1     130   204    0  ...     0      1.4    2    0      2       1\n",
              "3   56    1   1     120   236    0  ...     0      0.8    2    0      2       1\n",
              "4   57    0   0     120   354    0  ...     1      0.6    2    0      2       1\n",
              "\n",
              "[5 rows x 14 columns]"
            ]
          },
          "metadata": {
            "tags": []
          },
          "execution_count": 2
        }
      ]
    },
    {
      "cell_type": "code",
      "metadata": {
        "colab": {
          "base_uri": "https://localhost:8080/",
          "height": 609
        },
        "id": "mWR_UEj7L8k5",
        "outputId": "0bab3f36-f273-456f-ae5d-88251c8fede3"
      },
      "source": [
        "r2Pearson = df.corr()\n",
        "\n",
        "mask = np.triu(np.ones_like(r2Pearson , dtype = bool))\n",
        "\n",
        "plt.figure(figsize = (20,10))\n",
        "sns.heatmap(r2Pearson , annot = True , mask = mask , cmap= 'coolwarm' , linewidths= 2  )\n",
        "# Pearson Correlation map"
      ],
      "execution_count": null,
      "outputs": [
        {
          "output_type": "execute_result",
          "data": {
            "text/plain": [
              "<matplotlib.axes._subplots.AxesSubplot at 0x7fd6df1b0390>"
            ]
          },
          "metadata": {
            "tags": []
          },
          "execution_count": 3
        },
        {
          "output_type": "display_data",
          "data": {
            "image/png": "[encoded data removed]",
            "text/plain": [
              "<Figure size 1440x720 with 2 Axes>"
            ]
          },
          "metadata": {
            "tags": [],
            "needs_background": "light"
          }
        }
      ]
    },
    {
      "cell_type": "code",
      "metadata": {
        "colab": {
          "base_uri": "https://localhost:8080/",
          "height": 317
        },
        "id": "Kf3nBJtWqmF4",
        "outputId": "b6fc6be4-c458-420d-f34f-3d9a1f2368f5"
      },
      "source": [
        "df.describe()"
      ],
      "execution_count": null,
      "outputs": [
        {
          "output_type": "execute_result",
          "data": {
            "text/html": [
              "<div>\n",
              "<style scoped>\n",
              "    .dataframe tbody tr th:only-of-type {\n",
              "        vertical-align: middle;\n",
              "    }\n",
              "\n",
              "    .dataframe tbody tr th {\n",
              "        vertical-align: top;\n",
              "    }\n",
              "\n",
              "    .dataframe thead th {\n",
              "        text-align: right;\n",
              "    }\n",
              "</style>\n",
              "<table border=\"1\" class=\"dataframe\">\n",
              "  <thead>\n",
              "    <tr style=\"text-align: right;\">\n",
              "      <th></th>\n",
              "      <th>age</th>\n",
              "      <th>sex</th>\n",
              "      <th>cp</th>\n",
              "      <th>trtbps</th>\n",
              "      <th>chol</th>\n",
              "      <th>fbs</th>\n",
              "      <th>restecg</th>\n",
              "      <th>thalachh</th>\n",
              "      <th>exng</th>\n",
              "      <th>oldpeak</th>\n",
              "      <th>slp</th>\n",
              "      <th>caa</th>\n",
              "      <th>thall</th>\n",
              "      <th>output</th>\n",
              "    </tr>\n",
              "  </thead>\n",
              "  <tbody>\n",
              "    <tr>\n",
              "      <th>count</th>\n",
              "      <td>303.000000</td>\n",
              "      <td>303.000000</td>\n",
              "      <td>303.000000</td>\n",
              "      <td>303.000000</td>\n",
              "      <td>303.000000</td>\n",
              "      <td>303.000000</td>\n",
              "      <td>303.000000</td>\n",
              "      <td>303.000000</td>\n",
              "      <td>303.000000</td>\n",
              "      <td>303.000000</td>\n",
              "      <td>303.000000</td>\n",
              "      <td>303.000000</td>\n",
              "      <td>303.000000</td>\n",
              "      <td>303.000000</td>\n",
              "    </tr>\n",
              "    <tr>\n",
              "      <th>mean</th>\n",
              "      <td>54.366337</td>\n",
              "      <td>0.683168</td>\n",
              "      <td>0.966997</td>\n",
              "      <td>131.623762</td>\n",
              "      <td>246.264026</td>\n",
              "      <td>0.148515</td>\n",
              "      <td>0.528053</td>\n",
              "      <td>149.646865</td>\n",
              "      <td>0.326733</td>\n",
              "      <td>1.039604</td>\n",
              "      <td>1.399340</td>\n",
              "      <td>0.729373</td>\n",
              "      <td>2.313531</td>\n",
              "      <td>0.544554</td>\n",
              "    </tr>\n",
              "    <tr>\n",
              "      <th>std</th>\n",
              "      <td>9.082101</td>\n",
              "      <td>0.466011</td>\n",
              "      <td>1.032052</td>\n",
              "      <td>17.538143</td>\n",
              "      <td>51.830751</td>\n",
              "      <td>0.356198</td>\n",
              "      <td>0.525860</td>\n",
              "      <td>22.905161</td>\n",
              "      <td>0.469794</td>\n",
              "      <td>1.161075</td>\n",
              "      <td>0.616226</td>\n",
              "      <td>1.022606</td>\n",
              "      <td>0.612277</td>\n",
              "      <td>0.498835</td>\n",
              "    </tr>\n",
              "    <tr>\n",
              "      <th>min</th>\n",
              "      <td>29.000000</td>\n",
              "      <td>0.000000</td>\n",
              "      <td>0.000000</td>\n",
              "      <td>94.000000</td>\n",
              "      <td>126.000000</td>\n",
              "      <td>0.000000</td>\n",
              "      <td>0.000000</td>\n",
              "      <td>71.000000</td>\n",
              "      <td>0.000000</td>\n",
              "      <td>0.000000</td>\n",
              "      <td>0.000000</td>\n",
              "      <td>0.000000</td>\n",
              "      <td>0.000000</td>\n",
              "      <td>0.000000</td>\n",
              "    </tr>\n",
              "    <tr>\n",
              "      <th>25%</th>\n",
              "      <td>47.500000</td>\n",
              "      <td>0.000000</td>\n",
              "      <td>0.000000</td>\n",
              "      <td>120.000000</td>\n",
              "      <td>211.000000</td>\n",
              "      <td>0.000000</td>\n",
              "      <td>0.000000</td>\n",
              "      <td>133.500000</td>\n",
              "      <td>0.000000</td>\n",
              "      <td>0.000000</td>\n",
              "      <td>1.000000</td>\n",
              "      <td>0.000000</td>\n",
              "      <td>2.000000</td>\n",
              "      <td>0.000000</td>\n",
              "    </tr>\n",
              "    <tr>\n",
              "      <th>50%</th>\n",
              "      <td>55.000000</td>\n",
              "      <td>1.000000</td>\n",
              "      <td>1.000000</td>\n",
              "      <td>130.000000</td>\n",
              "      <td>240.000000</td>\n",
              "      <td>0.000000</td>\n",
              "      <td>1.000000</td>\n",
              "      <td>153.000000</td>\n",
              "      <td>0.000000</td>\n",
              "      <td>0.800000</td>\n",
              "      <td>1.000000</td>\n",
              "      <td>0.000000</td>\n",
              "      <td>2.000000</td>\n",
              "      <td>1.000000</td>\n",
              "    </tr>\n",
              "    <tr>\n",
              "      <th>75%</th>\n",
              "      <td>61.000000</td>\n",
              "      <td>1.000000</td>\n",
              "      <td>2.000000</td>\n",
              "      <td>140.000000</td>\n",
              "      <td>274.500000</td>\n",
              "      <td>0.000000</td>\n",
              "      <td>1.000000</td>\n",
              "      <td>166.000000</td>\n",
              "      <td>1.000000</td>\n",
              "      <td>1.600000</td>\n",
              "      <td>2.000000</td>\n",
              "      <td>1.000000</td>\n",
              "      <td>3.000000</td>\n",
              "      <td>1.000000</td>\n",
              "    </tr>\n",
              "    <tr>\n",
              "      <th>max</th>\n",
              "      <td>77.000000</td>\n",
              "      <td>1.000000</td>\n",
              "      <td>3.000000</td>\n",
              "      <td>200.000000</td>\n",
              "      <td>564.000000</td>\n",
              "      <td>1.000000</td>\n",
              "      <td>2.000000</td>\n",
              "      <td>202.000000</td>\n",
              "      <td>1.000000</td>\n",
              "      <td>6.200000</td>\n",
              "      <td>2.000000</td>\n",
              "      <td>4.000000</td>\n",
              "      <td>3.000000</td>\n",
              "      <td>1.000000</td>\n",
              "    </tr>\n",
              "  </tbody>\n",
              "</table>\n",
              "</div>"
            ],
            "text/plain": [
              "              age         sex          cp  ...         caa       thall      output\n",
              "count  303.000000  303.000000  303.000000  ...  303.000000  303.000000  303.000000\n",
              "mean    54.366337    0.683168    0.966997  ...    0.729373    2.313531    0.544554\n",
              "std      9.082101    0.466011    1.032052  ...    1.022606    0.612277    0.498835\n",
              "min     29.000000    0.000000    0.000000  ...    0.000000    0.000000    0.000000\n",
              "25%     47.500000    0.000000    0.000000  ...    0.000000    2.000000    0.000000\n",
              "50%     55.000000    1.000000    1.000000  ...    0.000000    2.000000    1.000000\n",
              "75%     61.000000    1.000000    2.000000  ...    1.000000    3.000000    1.000000\n",
              "max     77.000000    1.000000    3.000000  ...    4.000000    3.000000    1.000000\n",
              "\n",
              "[8 rows x 14 columns]"
            ]
          },
          "metadata": {
            "tags": []
          },
          "execution_count": 4
        }
      ]
    },
    {
      "cell_type": "code",
      "metadata": {
        "colab": {
          "base_uri": "https://localhost:8080/",
          "height": 542
        },
        "id": "uq0KcLoeMDUn",
        "outputId": "a0b81615-d36a-489c-b877-3680cd4ca204"
      },
      "source": [
        "df['output'] = df.output.astype('str')\n",
        "df['Heart Atack'] = df.output\n",
        "#Chaning the Variables Name\n",
        "df['Heart Atack'].replace({'0': 'Low Chance' , '1' : 'High Chance'} , inplace = True)\n",
        "df['Heart Atack']  = df['Heart Atack'].astype(str)\n",
        "\n",
        "#Choosing color Palette\n",
        "k = ['#e07a5f' , '#81b29a']\n",
        "\n",
        "\n",
        "fig = px.scatter(df,x= 'age' , y= 'thalachh' , color ='Heart Atack' , color_discrete_sequence = k ,\n",
        "           template = 'none' , size = 'oldpeak', opacity = .8, title = 'Maximum Heart Rate per Age ',\n",
        "           )\n",
        "\n",
        "fig.update_layout (xaxis_title ='Age',\n",
        "                     yaxis_title = 'Maximum Heart Rate')\n",
        "fig.show()"
      ],
      "execution_count": null,
      "outputs": [
        {
          "output_type": "display_data",
          "data": {
            "text/html": [
              "<html>\n",
              "<head><meta charset=\"utf-8\" /></head>\n",
              "<body>\n",
              "    <div>\n",
              "            <script src=\"https://cdnjs.cloudflare.com/ajax/libs/mathjax/2.7.5/MathJax.js?config=TeX-AMS-MML_SVG\"></script><script type=\"text/javascript\">if (window.MathJax) {MathJax.Hub.Config({SVG: {font: \"STIX-Web\"}});}</script>\n",
              "                <script type=\"text/javascript\">window.PlotlyConfig = {MathJaxConfig: 'local'};</script>\n",
              "        <script src=\"https://cdn.plot.ly/plotly-latest.min.js\"></script>    \n",
              "            <div id=\"250f47e9-461f-44e4-8279-74fb3724e5af\" class=\"plotly-graph-div\" style=\"height:525px; width:100%;\"></div>\n",
              "            <script type=\"text/javascript\">\n",
              "                \n",
              "                    window.PLOTLYENV=window.PLOTLYENV || {};\n",
              "                    \n",
              "                if (document.getElementById(\"250f47e9-461f-44e4-8279-74fb3724e5af\")) {\n",
              "                    Plotly.newPlot(\n",
              "                        '250f47e9-461f-44e4-8279-74fb3724e5af',\n",
              "                        [{\"hoverlabel\": {\"namelength\": 0}, \"hovertemplate\": \"Heart Atack=High Chance<br>age=%{x}<br>thalachh=%{y}<br>oldpeak=%{marker.size}\", \"legendgroup\": \"Heart Atack=High Chance\", \"marker\": {\"color\": \"#e07a5f\", \"opacity\": 0.8, \"size\": [2.3, 3.5, 1.4, 0.8, 0.6, 0.4, 1.3, 0.0, 0.5, 1.6, 1.2, 0.2, 0.6, 1.8, 1.0, 1.6, 0.0, 2.6, 1.5, 1.8, 0.5, 0.4, 0.0, 1.0, 1.4, 0.4, 1.6, 0.6, 0.8, 1.2, 0.0, 0.4, 0.0, 0.5, 1.4, 1.4, 0.0, 1.6, 0.8, 0.8, 1.5, 0.2, 3.0, 0.4, 0.0, 0.2, 0.0, 0.0, 0.0, 0.0, 0.5, 0.4, 1.8, 0.6, 0.0, 0.8, 0.0, 0.0, 0.0, 0.0, 0.0, 0.0, 0.0, 0.0, 0.0, 1.4, 1.2, 0.6, 0.0, 0.0, 0.4, 0.0, 0.0, 0.0, 0.2, 1.4, 2.4, 0.0, 0.0, 0.6, 0.0, 0.0, 0.0, 1.2, 0.6, 1.6, 1.0, 0.0, 1.6, 1.0, 0.0, 0.0, 0.0, 0.0, 0.0, 0.0, 1.2, 0.1, 1.9, 0.0, 0.8, 4.2, 0.0, 0.8, 0.0, 1.5, 0.1, 0.2, 1.1, 0.0, 0.0, 0.2, 0.2, 0.0, 0.0, 0.0, 2.0, 1.9, 0.0, 0.0, 2.0, 0.0, 0.0, 0.0, 0.0, 0.7, 0.1, 0.0, 0.1, 0.2, 0.0, 0.0, 0.0, 0.0, 0.0, 0.0, 0.0, 0.0, 1.5, 0.2, 0.6, 1.2, 0.0, 0.3, 1.1, 0.0, 0.3, 0.9, 0.0, 0.0, 2.3, 1.6, 0.6, 0.0, 0.0, 0.6, 0.0, 0.0, 0.4, 0.0, 0.0, 1.2, 0.0, 0.0, 0.0], \"sizemode\": \"area\", \"sizeref\": 0.0155, \"symbol\": \"circle\"}, \"mode\": \"markers\", \"name\": \"Heart Atack=High Chance\", \"showlegend\": true, \"type\": \"scatter\", \"x\": [63, 37, 41, 56, 57, 57, 56, 44, 52, 57, 54, 48, 49, 64, 58, 50, 58, 66, 43, 69, 59, 44, 42, 61, 40, 71, 59, 51, 65, 53, 41, 65, 44, 54, 51, 46, 54, 54, 65, 65, 51, 48, 45, 53, 39, 52, 44, 47, 53, 53, 51, 66, 62, 44, 63, 52, 48, 45, 34, 57, 71, 54, 52, 41, 58, 35, 51, 45, 44, 62, 54, 51, 29, 51, 43, 55, 51, 59, 52, 58, 41, 45, 60, 52, 42, 67, 68, 46, 54, 58, 48, 57, 52, 54, 45, 53, 62, 52, 43, 53, 42, 59, 63, 42, 50, 68, 69, 45, 50, 50, 64, 57, 64, 43, 55, 37, 41, 56, 46, 46, 64, 59, 41, 54, 39, 34, 47, 67, 52, 74, 54, 49, 42, 41, 41, 49, 60, 62, 57, 64, 51, 43, 42, 67, 76, 70, 44, 60, 44, 42, 66, 71, 64, 66, 39, 58, 47, 35, 58, 56, 56, 55, 41, 38, 38], \"xaxis\": \"x\", \"y\": [150, 187, 172, 178, 163, 148, 153, 173, 162, 174, 160, 139, 171, 144, 162, 158, 172, 114, 171, 151, 161, 179, 178, 137, 178, 162, 157, 123, 157, 152, 168, 140, 188, 152, 125, 160, 170, 165, 148, 151, 142, 180, 148, 143, 182, 172, 180, 156, 115, 160, 149, 151, 146, 175, 172, 158, 186, 185, 174, 159, 130, 156, 190, 132, 165, 182, 143, 175, 170, 163, 147, 154, 202, 186, 165, 161, 166, 164, 184, 154, 179, 170, 160, 178, 122, 160, 151, 156, 158, 122, 175, 168, 169, 159, 138, 111, 157, 147, 162, 173, 178, 145, 179, 194, 163, 115, 131, 152, 162, 159, 154, 173, 133, 161, 155, 170, 168, 162, 172, 152, 122, 182, 172, 167, 179, 192, 143, 172, 169, 121, 163, 162, 162, 153, 163, 163, 96, 140, 126, 105, 157, 181, 173, 142, 116, 143, 149, 171, 169, 150, 138, 125, 155, 152, 152, 131, 179, 174, 144, 163, 169, 166, 182, 173, 173], \"yaxis\": \"y\"}, {\"hoverlabel\": {\"namelength\": 0}, \"hovertemplate\": \"Heart Atack=Low Chance<br>age=%{x}<br>thalachh=%{y}<br>oldpeak=%{marker.size}\", \"legendgroup\": \"Heart Atack=Low Chance\", \"marker\": {\"color\": \"#81b29a\", \"opacity\": 0.8, \"size\": [1.5, 2.6, 3.6, 1.4, 3.1, 0.6, 1.0, 1.8, 3.2, 2.4, 2.0, 1.4, 0.0, 2.5, 0.6, 1.2, 1.0, 0.0, 2.5, 2.6, 0.0, 1.4, 2.2, 0.6, 0.0, 1.2, 2.2, 1.4, 2.8, 3.0, 3.4, 3.6, 0.2, 1.8, 0.6, 0.0, 2.8, 0.8, 1.6, 6.2, 0.0, 1.2, 2.6, 2.0, 0.0, 0.4, 3.6, 1.2, 1.0, 1.2, 3.0, 1.2, 1.8, 2.8, 0.0, 4.0, 5.6, 1.4, 4.0, 2.8, 2.6, 1.4, 1.6, 0.2, 1.8, 0.0, 1.0, 0.8, 2.2, 2.4, 1.6, 0.0, 1.2, 0.0, 0.0, 2.9, 0.0, 2.0, 1.2, 2.1, 0.5, 1.9, 0.0, 0.0, 2.0, 4.2, 0.1, 1.9, 0.9, 0.0, 0.0, 3.0, 0.9, 1.4, 3.8, 1.0, 0.0, 2.0, 1.8, 0.0, 0.1, 3.4, 0.8, 3.2, 1.6, 0.8, 2.6, 1.0, 0.1, 1.0, 1.0, 2.0, 0.3, 0.0, 3.6, 1.8, 1.0, 2.2, 0.0, 1.9, 1.8, 0.8, 0.0, 3.0, 2.0, 0.0, 4.4, 2.8, 0.8, 2.8, 4.0, 0.0, 1.0, 0.2, 1.2, 3.4, 1.2, 0.0], \"sizemode\": \"area\", \"sizeref\": 0.0155, \"symbol\": \"circle\"}, \"mode\": \"markers\", \"name\": \"Heart Atack=Low Chance\", \"showlegend\": true, \"type\": \"scatter\", \"x\": [67, 67, 62, 63, 53, 56, 48, 58, 58, 60, 40, 60, 64, 43, 57, 55, 65, 61, 58, 50, 44, 60, 54, 50, 41, 51, 58, 54, 60, 60, 59, 46, 67, 62, 65, 44, 60, 58, 68, 62, 52, 59, 60, 49, 59, 57, 61, 39, 61, 56, 43, 62, 63, 65, 48, 63, 55, 65, 56, 54, 70, 62, 35, 59, 64, 47, 57, 55, 64, 70, 51, 58, 60, 77, 35, 70, 59, 64, 57, 56, 48, 56, 66, 54, 69, 51, 43, 62, 67, 59, 45, 58, 50, 62, 38, 66, 52, 53, 63, 54, 66, 55, 49, 54, 56, 46, 61, 67, 58, 47, 52, 58, 57, 58, 61, 42, 52, 59, 40, 61, 46, 59, 57, 57, 55, 61, 58, 58, 67, 44, 63, 63, 59, 57, 45, 68, 57, 57], \"xaxis\": \"x\", \"y\": [108, 129, 160, 147, 155, 142, 168, 160, 173, 132, 114, 160, 158, 120, 112, 132, 114, 169, 165, 128, 153, 144, 109, 163, 158, 142, 131, 113, 142, 155, 140, 147, 163, 99, 158, 177, 141, 111, 150, 145, 161, 142, 157, 139, 162, 150, 140, 140, 146, 144, 136, 97, 132, 127, 150, 154, 111, 174, 133, 126, 125, 103, 130, 159, 131, 152, 124, 145, 96, 109, 173, 171, 170, 162, 156, 112, 143, 132, 88, 105, 166, 150, 120, 195, 146, 122, 143, 106, 125, 125, 147, 130, 126, 154, 182, 165, 160, 95, 169, 108, 132, 117, 126, 116, 103, 144, 145, 71, 156, 118, 168, 105, 141, 152, 125, 125, 156, 134, 181, 138, 120, 162, 164, 143, 130, 161, 140, 146, 150, 144, 144, 136, 90, 123, 132, 141, 115, 174], \"yaxis\": \"y\"}],\n",
              "                        {\"legend\": {\"itemsizing\": \"constant\", \"tracegroupgap\": 0}, \"template\": {\"data\": {\"scatter\": [{\"type\": \"scatter\"}]}}, \"title\": {\"text\": \"Maximum Heart Rate per Age \"}, \"xaxis\": {\"anchor\": \"y\", \"domain\": [0.0, 1.0], \"title\": {\"text\": \"Age\"}}, \"yaxis\": {\"anchor\": \"x\", \"domain\": [0.0, 1.0], \"title\": {\"text\": \"Maximum Heart Rate\"}}},\n",
              "                        {\"responsive\": true}\n",
              "                    ).then(function(){\n",
              "                            \n",
              "var gd = document.getElementById('250f47e9-461f-44e4-8279-74fb3724e5af');\n",
              "var x = new MutationObserver(function (mutations, observer) {{\n",
              "        var display = window.getComputedStyle(gd).display;\n",
              "        if (!display || display === 'none') {{\n",
              "            console.log([gd, 'removed!']);\n",
              "            Plotly.purge(gd);\n",
              "            observer.disconnect();\n",
              "        }}\n",
              "}});\n",
              "\n",
              "// Listen for the removal of the full notebook cells\n",
              "var notebookContainer = gd.closest('#notebook-container');\n",
              "if (notebookContainer) {{\n",
              "    x.observe(notebookContainer, {childList: true});\n",
              "}}\n",
              "\n",
              "// Listen for the clearing of the current output cell\n",
              "var outputEl = gd.closest('.output');\n",
              "if (outputEl) {{\n",
              "    x.observe(outputEl, {childList: true});\n",
              "}}\n",
              "\n",
              "                        })\n",
              "                };\n",
              "                \n",
              "            </script>\n",
              "        </div>\n",
              "</body>\n",
              "</html>"
            ]
          },
          "metadata": {
            "tags": []
          }
        }
      ]
    },
    {
      "cell_type": "code",
      "metadata": {
        "id": "vf_noLjzqcXS"
      },
      "source": [
        "numvariables = df[['chol' , 'age' , 'thalachh' , 'trtbps','oldpeak' , ]]\n",
        "#chol = cholesterol in mg/dl, thalachh = Maximum Heart Rate , trtbps = resting blood pressure, old peak = previsouly peak\n",
        "\n",
        "catvariables = df[['sex' , 'cp' , 'fbs' , 'restecg' , 'exng' , 'caa']]\n",
        "#cp = Chest Pain , fbs = fasting blood sugar , restecg = resting eletrocardiographic results, exng = exercised induced angina, \n",
        "#caa= number of major vessels"
      ],
      "execution_count": null,
      "outputs": []
    },
    {
      "cell_type": "code",
      "metadata": {
        "colab": {
          "base_uri": "https://localhost:8080/",
          "height": 282
        },
        "id": "-CPzCqFX4M_t",
        "outputId": "883f7e40-18d8-456f-c7c4-7563532e712c"
      },
      "source": [
        "corrv = numvariables.corr()\n",
        "mask = np.triu(np.ones_like(corrv))\n",
        "sns.heatmap(corrv , square = True , annot = True, cmap = 'coolwarm' , linewidths= 2 , mask = mask ,\n",
        "             )"
      ],
      "execution_count": null,
      "outputs": [
        {
          "output_type": "execute_result",
          "data": {
            "text/plain": [
              "<matplotlib.axes._subplots.AxesSubplot at 0x7fd6d4459510>"
            ]
          },
          "metadata": {
            "tags": []
          },
          "execution_count": 7
        },
        {
          "output_type": "display_data",
          "data": {
            "image/png": "[encoded data removed]",
            "text/plain": [
              "<Figure size 432x288 with 2 Axes>"
            ]
          },
          "metadata": {
            "tags": [],
            "needs_background": "light"
          }
        }
      ]
    },
    {
      "cell_type": "code",
      "metadata": {
        "colab": {
          "base_uri": "https://localhost:8080/",
          "height": 542
        },
        "id": "7OLbNwRjFIUa",
        "outputId": "2718d333-d202-4fac-c2ba-24cd2e03da75"
      },
      "source": [
        "fig = px.bar(df, x = df.age , y = df['trtbps'] , color ='Heart Atack', color_discrete_sequence= k , \n",
        "       template = 'none' , barmode = 'stack' , title = 'Resting Blood Pressure per Age' , )\n",
        "\n",
        "fig.update_layout(xaxis_title = 'Age' ,\n",
        "                  yaxis_title = 'Resting Blood Pressure (mmHg)')"
      ],
      "execution_count": null,
      "outputs": [
        {
          "output_type": "display_data",
          "data": {
            "text/html": [
              "<html>\n",
              "<head><meta charset=\"utf-8\" /></head>\n",
              "<body>\n",
              "    <div>\n",
              "            <script src=\"https://cdnjs.cloudflare.com/ajax/libs/mathjax/2.7.5/MathJax.js?config=TeX-AMS-MML_SVG\"></script><script type=\"text/javascript\">if (window.MathJax) {MathJax.Hub.Config({SVG: {font: \"STIX-Web\"}});}</script>\n",
              "                <script type=\"text/javascript\">window.PlotlyConfig = {MathJaxConfig: 'local'};</script>\n",
              "        <script src=\"https://cdn.plot.ly/plotly-latest.min.js\"></script>    \n",
              "            <div id=\"a0d25ddf-fdbe-4afe-94b6-c585b2ac2201\" class=\"plotly-graph-div\" style=\"height:525px; width:100%;\"></div>\n",
              "            <script type=\"text/javascript\">\n",
              "                \n",
              "                    window.PLOTLYENV=window.PLOTLYENV || {};\n",
              "                    \n",
              "                if (document.getElementById(\"a0d25ddf-fdbe-4afe-94b6-c585b2ac2201\")) {\n",
              "                    Plotly.newPlot(\n",
              "                        'a0d25ddf-fdbe-4afe-94b6-c585b2ac2201',\n",
              "                        [{\"alignmentgroup\": \"True\", \"hoverlabel\": {\"namelength\": 0}, \"hovertemplate\": \"Heart Atack=High Chance<br>age=%{x}<br>trtbps=%{y}\", \"legendgroup\": \"Heart Atack=High Chance\", \"marker\": {\"color\": \"#e07a5f\"}, \"name\": \"Heart Atack=High Chance\", \"offsetgroup\": \"Heart Atack=High Chance\", \"orientation\": \"v\", \"showlegend\": true, \"textposition\": \"auto\", \"type\": \"bar\", \"x\": [63, 37, 41, 56, 57, 57, 56, 44, 52, 57, 54, 48, 49, 64, 58, 50, 58, 66, 43, 69, 59, 44, 42, 61, 40, 71, 59, 51, 65, 53, 41, 65, 44, 54, 51, 46, 54, 54, 65, 65, 51, 48, 45, 53, 39, 52, 44, 47, 53, 53, 51, 66, 62, 44, 63, 52, 48, 45, 34, 57, 71, 54, 52, 41, 58, 35, 51, 45, 44, 62, 54, 51, 29, 51, 43, 55, 51, 59, 52, 58, 41, 45, 60, 52, 42, 67, 68, 46, 54, 58, 48, 57, 52, 54, 45, 53, 62, 52, 43, 53, 42, 59, 63, 42, 50, 68, 69, 45, 50, 50, 64, 57, 64, 43, 55, 37, 41, 56, 46, 46, 64, 59, 41, 54, 39, 34, 47, 67, 52, 74, 54, 49, 42, 41, 41, 49, 60, 62, 57, 64, 51, 43, 42, 67, 76, 70, 44, 60, 44, 42, 66, 71, 64, 66, 39, 58, 47, 35, 58, 56, 56, 55, 41, 38, 38], \"xaxis\": \"x\", \"y\": [145, 130, 130, 120, 120, 140, 140, 120, 172, 150, 140, 130, 130, 110, 150, 120, 120, 150, 150, 140, 135, 130, 140, 150, 140, 160, 150, 110, 140, 130, 105, 120, 130, 125, 125, 142, 135, 150, 155, 160, 140, 130, 104, 130, 140, 120, 140, 138, 128, 138, 130, 120, 130, 108, 135, 134, 122, 115, 118, 128, 110, 108, 118, 135, 140, 138, 100, 130, 120, 124, 120, 94, 130, 140, 122, 135, 125, 140, 128, 105, 112, 128, 102, 152, 102, 115, 118, 101, 110, 100, 124, 132, 138, 132, 112, 142, 140, 108, 130, 130, 148, 178, 140, 120, 129, 120, 160, 138, 120, 110, 180, 150, 140, 110, 130, 120, 130, 120, 105, 138, 130, 138, 112, 108, 94, 118, 112, 152, 136, 120, 160, 134, 120, 110, 126, 130, 120, 128, 110, 128, 120, 115, 120, 106, 140, 156, 118, 150, 120, 130, 160, 112, 170, 146, 138, 130, 130, 122, 125, 130, 120, 132, 120, 138, 138], \"yaxis\": \"y\"}, {\"alignmentgroup\": \"True\", \"hoverlabel\": {\"namelength\": 0}, \"hovertemplate\": \"Heart Atack=Low Chance<br>age=%{x}<br>trtbps=%{y}\", \"legendgroup\": \"Heart Atack=Low Chance\", \"marker\": {\"color\": \"#81b29a\"}, \"name\": \"Heart Atack=Low Chance\", \"offsetgroup\": \"Heart Atack=Low Chance\", \"orientation\": \"v\", \"showlegend\": true, \"textposition\": \"auto\", \"type\": \"bar\", \"x\": [67, 67, 62, 63, 53, 56, 48, 58, 58, 60, 40, 60, 64, 43, 57, 55, 65, 61, 58, 50, 44, 60, 54, 50, 41, 51, 58, 54, 60, 60, 59, 46, 67, 62, 65, 44, 60, 58, 68, 62, 52, 59, 60, 49, 59, 57, 61, 39, 61, 56, 43, 62, 63, 65, 48, 63, 55, 65, 56, 54, 70, 62, 35, 59, 64, 47, 57, 55, 64, 70, 51, 58, 60, 77, 35, 70, 59, 64, 57, 56, 48, 56, 66, 54, 69, 51, 43, 62, 67, 59, 45, 58, 50, 62, 38, 66, 52, 53, 63, 54, 66, 55, 49, 54, 56, 46, 61, 67, 58, 47, 52, 58, 57, 58, 61, 42, 52, 59, 40, 61, 46, 59, 57, 57, 55, 61, 58, 58, 67, 44, 63, 63, 59, 57, 45, 68, 57, 57], \"xaxis\": \"x\", \"y\": [160, 120, 140, 130, 140, 130, 110, 120, 132, 130, 110, 117, 140, 120, 150, 132, 150, 130, 112, 150, 112, 130, 124, 140, 110, 130, 128, 120, 145, 140, 170, 150, 125, 120, 110, 110, 125, 150, 180, 160, 128, 110, 150, 120, 140, 128, 120, 118, 145, 125, 132, 130, 130, 135, 130, 150, 140, 138, 200, 110, 145, 120, 120, 170, 125, 108, 165, 160, 120, 130, 140, 125, 140, 125, 126, 160, 174, 145, 152, 132, 124, 134, 160, 192, 140, 140, 132, 138, 100, 160, 142, 128, 144, 150, 120, 178, 112, 123, 108, 110, 112, 180, 118, 122, 130, 120, 134, 120, 100, 110, 125, 146, 124, 136, 138, 136, 128, 126, 152, 140, 140, 134, 154, 110, 128, 148, 114, 170, 152, 120, 140, 124, 164, 140, 110, 144, 130, 130], \"yaxis\": \"y\"}],\n",
              "                        {\"barmode\": \"stack\", \"legend\": {\"tracegroupgap\": 0}, \"template\": {\"data\": {\"scatter\": [{\"type\": \"scatter\"}]}}, \"title\": {\"text\": \"Resting Blood Pressure per Age\"}, \"xaxis\": {\"anchor\": \"y\", \"domain\": [0.0, 1.0], \"title\": {\"text\": \"Age\"}}, \"yaxis\": {\"anchor\": \"x\", \"domain\": [0.0, 1.0], \"title\": {\"text\": \"Resting Blood Pressure (mmHg)\"}}},\n",
              "                        {\"responsive\": true}\n",
              "                    ).then(function(){\n",
              "                            \n",
              "var gd = document.getElementById('a0d25ddf-fdbe-4afe-94b6-c585b2ac2201');\n",
              "var x = new MutationObserver(function (mutations, observer) {{\n",
              "        var display = window.getComputedStyle(gd).display;\n",
              "        if (!display || display === 'none') {{\n",
              "            console.log([gd, 'removed!']);\n",
              "            Plotly.purge(gd);\n",
              "            observer.disconnect();\n",
              "        }}\n",
              "}});\n",
              "\n",
              "// Listen for the removal of the full notebook cells\n",
              "var notebookContainer = gd.closest('#notebook-container');\n",
              "if (notebookContainer) {{\n",
              "    x.observe(notebookContainer, {childList: true});\n",
              "}}\n",
              "\n",
              "// Listen for the clearing of the current output cell\n",
              "var outputEl = gd.closest('.output');\n",
              "if (outputEl) {{\n",
              "    x.observe(outputEl, {childList: true});\n",
              "}}\n",
              "\n",
              "                        })\n",
              "                };\n",
              "                \n",
              "            </script>\n",
              "        </div>\n",
              "</body>\n",
              "</html>"
            ]
          },
          "metadata": {
            "tags": []
          }
        }
      ]
    },
    {
      "cell_type": "code",
      "metadata": {
        "colab": {
          "base_uri": "https://localhost:8080/",
          "height": 542
        },
        "id": "TNrtrNZnFQhJ",
        "outputId": "dbbf915a-c4df-4489-c140-5a43935cafbe"
      },
      "source": [
        "fig = px.histogram(df , x = df.chol , template = 'none' , color = 'Heart Atack' , color_discrete_sequence= k ,  barmode= 'stack' ,\n",
        "       title = 'Cholesterol Distribution' , log_x = True   , marginal ='box' , nbins = 30  , opacity = .9 )\n",
        "\n",
        "\n",
        "fig.update_layout(yaxis_title  = ' ' , \n",
        "                  xaxis_title = 'Cholesterol(log)')"
      ],
      "execution_count": null,
      "outputs": [
        {
          "output_type": "display_data",
          "data": {
            "text/html": [
              "<html>\n",
              "<head><meta charset=\"utf-8\" /></head>\n",
              "<body>\n",
              "    <div>\n",
              "            <script src=\"https://cdnjs.cloudflare.com/ajax/libs/mathjax/2.7.5/MathJax.js?config=TeX-AMS-MML_SVG\"></script><script type=\"text/javascript\">if (window.MathJax) {MathJax.Hub.Config({SVG: {font: \"STIX-Web\"}});}</script>\n",
              "                <script type=\"text/javascript\">window.PlotlyConfig = {MathJaxConfig: 'local'};</script>\n",
              "        <script src=\"https://cdn.plot.ly/plotly-latest.min.js\"></script>    \n",
              "            <div id=\"debf02e1-df06-4e59-8c8b-4f77c105068a\" class=\"plotly-graph-div\" style=\"height:525px; width:100%;\"></div>\n",
              "            <script type=\"text/javascript\">\n",
              "                \n",
              "                    window.PLOTLYENV=window.PLOTLYENV || {};\n",
              "                    \n",
              "                if (document.getElementById(\"debf02e1-df06-4e59-8c8b-4f77c105068a\")) {\n",
              "                    Plotly.newPlot(\n",
              "                        'debf02e1-df06-4e59-8c8b-4f77c105068a',\n",
              "                        [{\"alignmentgroup\": \"True\", \"bingroup\": \"x\", \"hoverlabel\": {\"namelength\": 0}, \"hovertemplate\": \"Heart Atack=High Chance<br>chol=%{x}<br>count=%{y}\", \"legendgroup\": \"Heart Atack=High Chance\", \"marker\": {\"color\": \"#e07a5f\", \"opacity\": 0.9}, \"name\": \"Heart Atack=High Chance\", \"nbinsx\": 30, \"offsetgroup\": \"Heart Atack=High Chance\", \"orientation\": \"v\", \"showlegend\": true, \"type\": \"histogram\", \"x\": [233, 250, 204, 236, 354, 192, 294, 263, 199, 168, 239, 275, 266, 211, 283, 219, 340, 226, 247, 239, 234, 233, 226, 243, 199, 302, 212, 175, 417, 197, 198, 177, 219, 273, 213, 177, 304, 232, 269, 360, 308, 245, 208, 264, 321, 325, 235, 257, 216, 234, 256, 302, 231, 141, 252, 201, 222, 260, 182, 303, 265, 309, 186, 203, 211, 183, 222, 234, 220, 209, 258, 227, 204, 261, 213, 250, 245, 221, 205, 240, 250, 308, 318, 298, 265, 564, 277, 197, 214, 248, 255, 207, 223, 288, 160, 226, 394, 233, 315, 246, 244, 270, 195, 240, 196, 211, 234, 236, 244, 254, 325, 126, 313, 211, 262, 215, 214, 193, 204, 243, 303, 271, 268, 267, 199, 210, 204, 277, 196, 269, 201, 271, 295, 235, 306, 269, 178, 208, 201, 263, 295, 303, 209, 223, 197, 245, 242, 240, 226, 180, 228, 149, 227, 278, 220, 197, 253, 192, 220, 221, 240, 342, 157, 175, 175], \"xaxis\": \"x\", \"yaxis\": \"y\"}, {\"alignmentgroup\": \"True\", \"hoverlabel\": {\"namelength\": 0}, \"hovertemplate\": \"Heart Atack=High Chance<br>chol=%{x}\", \"legendgroup\": \"Heart Atack=High Chance\", \"marker\": {\"color\": \"#e07a5f\"}, \"name\": \"Heart Atack=High Chance\", \"notched\": true, \"offsetgroup\": \"Heart Atack=High Chance\", \"showlegend\": false, \"type\": \"box\", \"x\": [233, 250, 204, 236, 354, 192, 294, 263, 199, 168, 239, 275, 266, 211, 283, 219, 340, 226, 247, 239, 234, 233, 226, 243, 199, 302, 212, 175, 417, 197, 198, 177, 219, 273, 213, 177, 304, 232, 269, 360, 308, 245, 208, 264, 321, 325, 235, 257, 216, 234, 256, 302, 231, 141, 252, 201, 222, 260, 182, 303, 265, 309, 186, 203, 211, 183, 222, 234, 220, 209, 258, 227, 204, 261, 213, 250, 245, 221, 205, 240, 250, 308, 318, 298, 265, 564, 277, 197, 214, 248, 255, 207, 223, 288, 160, 226, 394, 233, 315, 246, 244, 270, 195, 240, 196, 211, 234, 236, 244, 254, 325, 126, 313, 211, 262, 215, 214, 193, 204, 243, 303, 271, 268, 267, 199, 210, 204, 277, 196, 269, 201, 271, 295, 235, 306, 269, 178, 208, 201, 263, 295, 303, 209, 223, 197, 245, 242, 240, 226, 180, 228, 149, 227, 278, 220, 197, 253, 192, 220, 221, 240, 342, 157, 175, 175], \"xaxis\": \"x2\", \"yaxis\": \"y2\"}, {\"alignmentgroup\": \"True\", \"bingroup\": \"x\", \"hoverlabel\": {\"namelength\": 0}, \"hovertemplate\": \"Heart Atack=Low Chance<br>chol=%{x}<br>count=%{y}\", \"legendgroup\": \"Heart Atack=Low Chance\", \"marker\": {\"color\": \"#81b29a\", \"opacity\": 0.9}, \"name\": \"Heart Atack=Low Chance\", \"nbinsx\": 30, \"offsetgroup\": \"Heart Atack=Low Chance\", \"orientation\": \"v\", \"showlegend\": true, \"type\": \"histogram\", \"x\": [286, 229, 268, 254, 203, 256, 229, 284, 224, 206, 167, 230, 335, 177, 276, 353, 225, 330, 230, 243, 290, 253, 266, 233, 172, 305, 216, 188, 282, 185, 326, 231, 254, 267, 248, 197, 258, 270, 274, 164, 255, 239, 258, 188, 177, 229, 260, 219, 307, 249, 341, 263, 330, 254, 256, 407, 217, 282, 288, 239, 174, 281, 198, 288, 309, 243, 289, 289, 246, 322, 299, 300, 293, 304, 282, 269, 249, 212, 274, 184, 274, 409, 246, 283, 254, 298, 247, 294, 299, 273, 309, 259, 200, 244, 231, 228, 230, 282, 269, 206, 212, 327, 149, 286, 283, 249, 234, 237, 234, 275, 212, 218, 261, 319, 166, 315, 204, 218, 223, 207, 311, 204, 232, 335, 205, 203, 318, 225, 212, 169, 187, 197, 176, 241, 264, 193, 131, 236], \"xaxis\": \"x\", \"yaxis\": \"y\"}, {\"alignmentgroup\": \"True\", \"hoverlabel\": {\"namelength\": 0}, \"hovertemplate\": \"Heart Atack=Low Chance<br>chol=%{x}\", \"legendgroup\": \"Heart Atack=Low Chance\", \"marker\": {\"color\": \"#81b29a\"}, \"name\": \"Heart Atack=Low Chance\", \"notched\": true, \"offsetgroup\": \"Heart Atack=Low Chance\", \"showlegend\": false, \"type\": \"box\", \"x\": [286, 229, 268, 254, 203, 256, 229, 284, 224, 206, 167, 230, 335, 177, 276, 353, 225, 330, 230, 243, 290, 253, 266, 233, 172, 305, 216, 188, 282, 185, 326, 231, 254, 267, 248, 197, 258, 270, 274, 164, 255, 239, 258, 188, 177, 229, 260, 219, 307, 249, 341, 263, 330, 254, 256, 407, 217, 282, 288, 239, 174, 281, 198, 288, 309, 243, 289, 289, 246, 322, 299, 300, 293, 304, 282, 269, 249, 212, 274, 184, 274, 409, 246, 283, 254, 298, 247, 294, 299, 273, 309, 259, 200, 244, 231, 228, 230, 282, 269, 206, 212, 327, 149, 286, 283, 249, 234, 237, 234, 275, 212, 218, 261, 319, 166, 315, 204, 218, 223, 207, 311, 204, 232, 335, 205, 203, 318, 225, 212, 169, 187, 197, 176, 241, 264, 193, 131, 236], \"xaxis\": \"x2\", \"yaxis\": \"y2\"}],\n",
              "                        {\"barmode\": \"stack\", \"legend\": {\"tracegroupgap\": 0}, \"template\": {\"data\": {\"scatter\": [{\"type\": \"scatter\"}]}}, \"title\": {\"text\": \"Cholesterol Distribution\"}, \"xaxis\": {\"anchor\": \"y\", \"domain\": [0.0, 1.0], \"title\": {\"text\": \"Cholesterol(log)\"}, \"type\": \"log\"}, \"xaxis2\": {\"anchor\": \"y2\", \"domain\": [0.0, 1.0], \"matches\": \"x\", \"showgrid\": true, \"showticklabels\": false, \"type\": \"log\"}, \"yaxis\": {\"anchor\": \"x\", \"domain\": [0.0, 0.7326], \"title\": {\"text\": \" \"}}, \"yaxis2\": {\"anchor\": \"x2\", \"domain\": [0.7426, 1.0], \"matches\": \"y2\", \"showgrid\": false, \"showline\": false, \"showticklabels\": false, \"ticks\": \"\"}},\n",
              "                        {\"responsive\": true}\n",
              "                    ).then(function(){\n",
              "                            \n",
              "var gd = document.getElementById('debf02e1-df06-4e59-8c8b-4f77c105068a');\n",
              "var x = new MutationObserver(function (mutations, observer) {{\n",
              "        var display = window.getComputedStyle(gd).display;\n",
              "        if (!display || display === 'none') {{\n",
              "            console.log([gd, 'removed!']);\n",
              "            Plotly.purge(gd);\n",
              "            observer.disconnect();\n",
              "        }}\n",
              "}});\n",
              "\n",
              "// Listen for the removal of the full notebook cells\n",
              "var notebookContainer = gd.closest('#notebook-container');\n",
              "if (notebookContainer) {{\n",
              "    x.observe(notebookContainer, {childList: true});\n",
              "}}\n",
              "\n",
              "// Listen for the clearing of the current output cell\n",
              "var outputEl = gd.closest('.output');\n",
              "if (outputEl) {{\n",
              "    x.observe(outputEl, {childList: true});\n",
              "}}\n",
              "\n",
              "                        })\n",
              "                };\n",
              "                \n",
              "            </script>\n",
              "        </div>\n",
              "</body>\n",
              "</html>"
            ]
          },
          "metadata": {
            "tags": []
          }
        }
      ]
    },
    {
      "cell_type": "code",
      "metadata": {
        "colab": {
          "base_uri": "https://localhost:8080/",
          "height": 542
        },
        "id": "r4RMU2hdK5qx",
        "outputId": "3e807810-d48e-4e63-f175-20813374d75b"
      },
      "source": [
        "fig = px.histogram(df, x = df['thalachh'] , color = 'Heart Atack' , color_discrete_sequence= k, template = 'none' ,\n",
        "                   marginal = 'box' , title = 'Maximum Heart Rate Distribution' , opacity = .9 )\n",
        "fig.update_layout(yaxis_title = ' ' ,\n",
        "                  xaxis_title = 'Maximum Heart Rate  (bpm)')\n",
        "fig.show()"
      ],
      "execution_count": null,
      "outputs": [
        {
          "output_type": "display_data",
          "data": {
            "text/html": [
              "<html>\n",
              "<head><meta charset=\"utf-8\" /></head>\n",
              "<body>\n",
              "    <div>\n",
              "            <script src=\"https://cdnjs.cloudflare.com/ajax/libs/mathjax/2.7.5/MathJax.js?config=TeX-AMS-MML_SVG\"></script><script type=\"text/javascript\">if (window.MathJax) {MathJax.Hub.Config({SVG: {font: \"STIX-Web\"}});}</script>\n",
              "                <script type=\"text/javascript\">window.PlotlyConfig = {MathJaxConfig: 'local'};</script>\n",
              "        <script src=\"https://cdn.plot.ly/plotly-latest.min.js\"></script>    \n",
              "            <div id=\"408b9e96-bd20-407f-a088-da8499aa6f1c\" class=\"plotly-graph-div\" style=\"height:525px; width:100%;\"></div>\n",
              "            <script type=\"text/javascript\">\n",
              "                \n",
              "                    window.PLOTLYENV=window.PLOTLYENV || {};\n",
              "                    \n",
              "                if (document.getElementById(\"408b9e96-bd20-407f-a088-da8499aa6f1c\")) {\n",
              "                    Plotly.newPlot(\n",
              "                        '408b9e96-bd20-407f-a088-da8499aa6f1c',\n",
              "                        [{\"alignmentgroup\": \"True\", \"bingroup\": \"x\", \"hoverlabel\": {\"namelength\": 0}, \"hovertemplate\": \"Heart Atack=High Chance<br>thalachh=%{x}<br>count=%{y}\", \"legendgroup\": \"Heart Atack=High Chance\", \"marker\": {\"color\": \"#e07a5f\", \"opacity\": 0.9}, \"name\": \"Heart Atack=High Chance\", \"offsetgroup\": \"Heart Atack=High Chance\", \"orientation\": \"v\", \"showlegend\": true, \"type\": \"histogram\", \"x\": [150, 187, 172, 178, 163, 148, 153, 173, 162, 174, 160, 139, 171, 144, 162, 158, 172, 114, 171, 151, 161, 179, 178, 137, 178, 162, 157, 123, 157, 152, 168, 140, 188, 152, 125, 160, 170, 165, 148, 151, 142, 180, 148, 143, 182, 172, 180, 156, 115, 160, 149, 151, 146, 175, 172, 158, 186, 185, 174, 159, 130, 156, 190, 132, 165, 182, 143, 175, 170, 163, 147, 154, 202, 186, 165, 161, 166, 164, 184, 154, 179, 170, 160, 178, 122, 160, 151, 156, 158, 122, 175, 168, 169, 159, 138, 111, 157, 147, 162, 173, 178, 145, 179, 194, 163, 115, 131, 152, 162, 159, 154, 173, 133, 161, 155, 170, 168, 162, 172, 152, 122, 182, 172, 167, 179, 192, 143, 172, 169, 121, 163, 162, 162, 153, 163, 163, 96, 140, 126, 105, 157, 181, 173, 142, 116, 143, 149, 171, 169, 150, 138, 125, 155, 152, 152, 131, 179, 174, 144, 163, 169, 166, 182, 173, 173], \"xaxis\": \"x\", \"yaxis\": \"y\"}, {\"alignmentgroup\": \"True\", \"hoverlabel\": {\"namelength\": 0}, \"hovertemplate\": \"Heart Atack=High Chance<br>thalachh=%{x}\", \"legendgroup\": \"Heart Atack=High Chance\", \"marker\": {\"color\": \"#e07a5f\"}, \"name\": \"Heart Atack=High Chance\", \"notched\": true, \"offsetgroup\": \"Heart Atack=High Chance\", \"showlegend\": false, \"type\": \"box\", \"x\": [150, 187, 172, 178, 163, 148, 153, 173, 162, 174, 160, 139, 171, 144, 162, 158, 172, 114, 171, 151, 161, 179, 178, 137, 178, 162, 157, 123, 157, 152, 168, 140, 188, 152, 125, 160, 170, 165, 148, 151, 142, 180, 148, 143, 182, 172, 180, 156, 115, 160, 149, 151, 146, 175, 172, 158, 186, 185, 174, 159, 130, 156, 190, 132, 165, 182, 143, 175, 170, 163, 147, 154, 202, 186, 165, 161, 166, 164, 184, 154, 179, 170, 160, 178, 122, 160, 151, 156, 158, 122, 175, 168, 169, 159, 138, 111, 157, 147, 162, 173, 178, 145, 179, 194, 163, 115, 131, 152, 162, 159, 154, 173, 133, 161, 155, 170, 168, 162, 172, 152, 122, 182, 172, 167, 179, 192, 143, 172, 169, 121, 163, 162, 162, 153, 163, 163, 96, 140, 126, 105, 157, 181, 173, 142, 116, 143, 149, 171, 169, 150, 138, 125, 155, 152, 152, 131, 179, 174, 144, 163, 169, 166, 182, 173, 173], \"xaxis\": \"x2\", \"yaxis\": \"y2\"}, {\"alignmentgroup\": \"True\", \"bingroup\": \"x\", \"hoverlabel\": {\"namelength\": 0}, \"hovertemplate\": \"Heart Atack=Low Chance<br>thalachh=%{x}<br>count=%{y}\", \"legendgroup\": \"Heart Atack=Low Chance\", \"marker\": {\"color\": \"#81b29a\", \"opacity\": 0.9}, \"name\": \"Heart Atack=Low Chance\", \"offsetgroup\": \"Heart Atack=Low Chance\", \"orientation\": \"v\", \"showlegend\": true, \"type\": \"histogram\", \"x\": [108, 129, 160, 147, 155, 142, 168, 160, 173, 132, 114, 160, 158, 120, 112, 132, 114, 169, 165, 128, 153, 144, 109, 163, 158, 142, 131, 113, 142, 155, 140, 147, 163, 99, 158, 177, 141, 111, 150, 145, 161, 142, 157, 139, 162, 150, 140, 140, 146, 144, 136, 97, 132, 127, 150, 154, 111, 174, 133, 126, 125, 103, 130, 159, 131, 152, 124, 145, 96, 109, 173, 171, 170, 162, 156, 112, 143, 132, 88, 105, 166, 150, 120, 195, 146, 122, 143, 106, 125, 125, 147, 130, 126, 154, 182, 165, 160, 95, 169, 108, 132, 117, 126, 116, 103, 144, 145, 71, 156, 118, 168, 105, 141, 152, 125, 125, 156, 134, 181, 138, 120, 162, 164, 143, 130, 161, 140, 146, 150, 144, 144, 136, 90, 123, 132, 141, 115, 174], \"xaxis\": \"x\", \"yaxis\": \"y\"}, {\"alignmentgroup\": \"True\", \"hoverlabel\": {\"namelength\": 0}, \"hovertemplate\": \"Heart Atack=Low Chance<br>thalachh=%{x}\", \"legendgroup\": \"Heart Atack=Low Chance\", \"marker\": {\"color\": \"#81b29a\"}, \"name\": \"Heart Atack=Low Chance\", \"notched\": true, \"offsetgroup\": \"Heart Atack=Low Chance\", \"showlegend\": false, \"type\": \"box\", \"x\": [108, 129, 160, 147, 155, 142, 168, 160, 173, 132, 114, 160, 158, 120, 112, 132, 114, 169, 165, 128, 153, 144, 109, 163, 158, 142, 131, 113, 142, 155, 140, 147, 163, 99, 158, 177, 141, 111, 150, 145, 161, 142, 157, 139, 162, 150, 140, 140, 146, 144, 136, 97, 132, 127, 150, 154, 111, 174, 133, 126, 125, 103, 130, 159, 131, 152, 124, 145, 96, 109, 173, 171, 170, 162, 156, 112, 143, 132, 88, 105, 166, 150, 120, 195, 146, 122, 143, 106, 125, 125, 147, 130, 126, 154, 182, 165, 160, 95, 169, 108, 132, 117, 126, 116, 103, 144, 145, 71, 156, 118, 168, 105, 141, 152, 125, 125, 156, 134, 181, 138, 120, 162, 164, 143, 130, 161, 140, 146, 150, 144, 144, 136, 90, 123, 132, 141, 115, 174], \"xaxis\": \"x2\", \"yaxis\": \"y2\"}],\n",
              "                        {\"barmode\": \"relative\", \"legend\": {\"tracegroupgap\": 0}, \"template\": {\"data\": {\"scatter\": [{\"type\": \"scatter\"}]}}, \"title\": {\"text\": \"Maximum Heart Rate Distribution\"}, \"xaxis\": {\"anchor\": \"y\", \"domain\": [0.0, 1.0], \"title\": {\"text\": \"Maximum Heart Rate  (bpm)\"}}, \"xaxis2\": {\"anchor\": \"y2\", \"domain\": [0.0, 1.0], \"matches\": \"x\", \"showgrid\": true, \"showticklabels\": false}, \"yaxis\": {\"anchor\": \"x\", \"domain\": [0.0, 0.7326], \"title\": {\"text\": \" \"}}, \"yaxis2\": {\"anchor\": \"x2\", \"domain\": [0.7426, 1.0], \"matches\": \"y2\", \"showgrid\": false, \"showline\": false, \"showticklabels\": false, \"ticks\": \"\"}},\n",
              "                        {\"responsive\": true}\n",
              "                    ).then(function(){\n",
              "                            \n",
              "var gd = document.getElementById('408b9e96-bd20-407f-a088-da8499aa6f1c');\n",
              "var x = new MutationObserver(function (mutations, observer) {{\n",
              "        var display = window.getComputedStyle(gd).display;\n",
              "        if (!display || display === 'none') {{\n",
              "            console.log([gd, 'removed!']);\n",
              "            Plotly.purge(gd);\n",
              "            observer.disconnect();\n",
              "        }}\n",
              "}});\n",
              "\n",
              "// Listen for the removal of the full notebook cells\n",
              "var notebookContainer = gd.closest('#notebook-container');\n",
              "if (notebookContainer) {{\n",
              "    x.observe(notebookContainer, {childList: true});\n",
              "}}\n",
              "\n",
              "// Listen for the clearing of the current output cell\n",
              "var outputEl = gd.closest('.output');\n",
              "if (outputEl) {{\n",
              "    x.observe(outputEl, {childList: true});\n",
              "}}\n",
              "\n",
              "                        })\n",
              "                };\n",
              "                \n",
              "            </script>\n",
              "        </div>\n",
              "</body>\n",
              "</html>"
            ]
          },
          "metadata": {
            "tags": []
          }
        }
      ]
    },
    {
      "cell_type": "markdown",
      "metadata": {
        "id": "h2K_nyrKMMOi"
      },
      "source": [
        "RandomForest Model"
      ]
    },
    {
      "cell_type": "code",
      "metadata": {
        "colab": {
          "base_uri": "https://localhost:8080/",
          "height": 419
        },
        "id": "omvLGOa-MPEG",
        "outputId": "729a0ba6-a053-4a82-ad11-707e4ba19bb9"
      },
      "source": [
        "#Label Encoding the Categorical Variables in our dataset\n",
        "xcatvariables = pd.get_dummies(catvariables)\n",
        "xcatvariables"
      ],
      "execution_count": null,
      "outputs": [
        {
          "output_type": "execute_result",
          "data": {
            "text/html": [
              "<div>\n",
              "<style scoped>\n",
              "    .dataframe tbody tr th:only-of-type {\n",
              "        vertical-align: middle;\n",
              "    }\n",
              "\n",
              "    .dataframe tbody tr th {\n",
              "        vertical-align: top;\n",
              "    }\n",
              "\n",
              "    .dataframe thead th {\n",
              "        text-align: right;\n",
              "    }\n",
              "</style>\n",
              "<table border=\"1\" class=\"dataframe\">\n",
              "  <thead>\n",
              "    <tr style=\"text-align: right;\">\n",
              "      <th></th>\n",
              "      <th>sex</th>\n",
              "      <th>cp</th>\n",
              "      <th>fbs</th>\n",
              "      <th>restecg</th>\n",
              "      <th>exng</th>\n",
              "      <th>caa</th>\n",
              "    </tr>\n",
              "  </thead>\n",
              "  <tbody>\n",
              "    <tr>\n",
              "      <th>0</th>\n",
              "      <td>1</td>\n",
              "      <td>3</td>\n",
              "      <td>1</td>\n",
              "      <td>0</td>\n",
              "      <td>0</td>\n",
              "      <td>0</td>\n",
              "    </tr>\n",
              "    <tr>\n",
              "      <th>1</th>\n",
              "      <td>1</td>\n",
              "      <td>2</td>\n",
              "      <td>0</td>\n",
              "      <td>1</td>\n",
              "      <td>0</td>\n",
              "      <td>0</td>\n",
              "    </tr>\n",
              "    <tr>\n",
              "      <th>2</th>\n",
              "      <td>0</td>\n",
              "      <td>1</td>\n",
              "      <td>0</td>\n",
              "      <td>0</td>\n",
              "      <td>0</td>\n",
              "      <td>0</td>\n",
              "    </tr>\n",
              "    <tr>\n",
              "      <th>3</th>\n",
              "      <td>1</td>\n",
              "      <td>1</td>\n",
              "      <td>0</td>\n",
              "      <td>1</td>\n",
              "      <td>0</td>\n",
              "      <td>0</td>\n",
              "    </tr>\n",
              "    <tr>\n",
              "      <th>4</th>\n",
              "      <td>0</td>\n",
              "      <td>0</td>\n",
              "      <td>0</td>\n",
              "      <td>1</td>\n",
              "      <td>1</td>\n",
              "      <td>0</td>\n",
              "    </tr>\n",
              "    <tr>\n",
              "      <th>...</th>\n",
              "      <td>...</td>\n",
              "      <td>...</td>\n",
              "      <td>...</td>\n",
              "      <td>...</td>\n",
              "      <td>...</td>\n",
              "      <td>...</td>\n",
              "    </tr>\n",
              "    <tr>\n",
              "      <th>298</th>\n",
              "      <td>0</td>\n",
              "      <td>0</td>\n",
              "      <td>0</td>\n",
              "      <td>1</td>\n",
              "      <td>1</td>\n",
              "      <td>0</td>\n",
              "    </tr>\n",
              "    <tr>\n",
              "      <th>299</th>\n",
              "      <td>1</td>\n",
              "      <td>3</td>\n",
              "      <td>0</td>\n",
              "      <td>1</td>\n",
              "      <td>0</td>\n",
              "      <td>0</td>\n",
              "    </tr>\n",
              "    <tr>\n",
              "      <th>300</th>\n",
              "      <td>1</td>\n",
              "      <td>0</td>\n",
              "      <td>1</td>\n",
              "      <td>1</td>\n",
              "      <td>0</td>\n",
              "      <td>2</td>\n",
              "    </tr>\n",
              "    <tr>\n",
              "      <th>301</th>\n",
              "      <td>1</td>\n",
              "      <td>0</td>\n",
              "      <td>0</td>\n",
              "      <td>1</td>\n",
              "      <td>1</td>\n",
              "      <td>1</td>\n",
              "    </tr>\n",
              "    <tr>\n",
              "      <th>302</th>\n",
              "      <td>0</td>\n",
              "      <td>1</td>\n",
              "      <td>0</td>\n",
              "      <td>0</td>\n",
              "      <td>0</td>\n",
              "      <td>1</td>\n",
              "    </tr>\n",
              "  </tbody>\n",
              "</table>\n",
              "<p>303 rows × 6 columns</p>\n",
              "</div>"
            ],
            "text/plain": [
              "     sex  cp  fbs  restecg  exng  caa\n",
              "0      1   3    1        0     0    0\n",
              "1      1   2    0        1     0    0\n",
              "2      0   1    0        0     0    0\n",
              "3      1   1    0        1     0    0\n",
              "4      0   0    0        1     1    0\n",
              "..   ...  ..  ...      ...   ...  ...\n",
              "298    0   0    0        1     1    0\n",
              "299    1   3    0        1     0    0\n",
              "300    1   0    1        1     0    2\n",
              "301    1   0    0        1     1    1\n",
              "302    0   1    0        0     0    1\n",
              "\n",
              "[303 rows x 6 columns]"
            ]
          },
          "metadata": {
            "tags": []
          },
          "execution_count": 11
        }
      ]
    },
    {
      "cell_type": "code",
      "metadata": {
        "id": "TGx_OrXmNLp0"
      },
      "source": [
        "#Normalizing our numerical categories\n",
        "scaler = MinMaxScaler()\n",
        "scaled = scaler.fit_transform(numvariables)\n",
        "X = pd.DataFrame(scaled)\n",
        "count = []\n",
        "#creating a dataset with numerical features\n",
        "for i in numvariables:\n",
        "  X[i] = X[len(count)] \n",
        "  X.drop(len(count) , axis = 1 , inplace = True)\n",
        "  count.append(1)\n"
      ],
      "execution_count": null,
      "outputs": []
    },
    {
      "cell_type": "code",
      "metadata": {
        "colab": {
          "base_uri": "https://localhost:8080/",
          "height": 419
        },
        "id": "6lyU7H3FNeVK",
        "outputId": "6d570610-91a5-4cf6-d70d-2dd008fa2c7e"
      },
      "source": [
        "#Bringing the categorical variables to our 'features' dataset\n",
        "for i in catvariables:\n",
        "  X[i] = xcatvariables[i]\n",
        "\n",
        "X"
      ],
      "execution_count": null,
      "outputs": [
        {
          "output_type": "execute_result",
          "data": {
            "text/html": [
              "<div>\n",
              "<style scoped>\n",
              "    .dataframe tbody tr th:only-of-type {\n",
              "        vertical-align: middle;\n",
              "    }\n",
              "\n",
              "    .dataframe tbody tr th {\n",
              "        vertical-align: top;\n",
              "    }\n",
              "\n",
              "    .dataframe thead th {\n",
              "        text-align: right;\n",
              "    }\n",
              "</style>\n",
              "<table border=\"1\" class=\"dataframe\">\n",
              "  <thead>\n",
              "    <tr style=\"text-align: right;\">\n",
              "      <th></th>\n",
              "      <th>chol</th>\n",
              "      <th>age</th>\n",
              "      <th>thalachh</th>\n",
              "      <th>trtbps</th>\n",
              "      <th>oldpeak</th>\n",
              "      <th>sex</th>\n",
              "      <th>cp</th>\n",
              "      <th>fbs</th>\n",
              "      <th>restecg</th>\n",
              "      <th>exng</th>\n",
              "      <th>caa</th>\n",
              "    </tr>\n",
              "  </thead>\n",
              "  <tbody>\n",
              "    <tr>\n",
              "      <th>0</th>\n",
              "      <td>0.244292</td>\n",
              "      <td>0.708333</td>\n",
              "      <td>0.603053</td>\n",
              "      <td>0.481132</td>\n",
              "      <td>0.370968</td>\n",
              "      <td>1</td>\n",
              "      <td>3</td>\n",
              "      <td>1</td>\n",
              "      <td>0</td>\n",
              "      <td>0</td>\n",
              "      <td>0</td>\n",
              "    </tr>\n",
              "    <tr>\n",
              "      <th>1</th>\n",
              "      <td>0.283105</td>\n",
              "      <td>0.166667</td>\n",
              "      <td>0.885496</td>\n",
              "      <td>0.339623</td>\n",
              "      <td>0.564516</td>\n",
              "      <td>1</td>\n",
              "      <td>2</td>\n",
              "      <td>0</td>\n",
              "      <td>1</td>\n",
              "      <td>0</td>\n",
              "      <td>0</td>\n",
              "    </tr>\n",
              "    <tr>\n",
              "      <th>2</th>\n",
              "      <td>0.178082</td>\n",
              "      <td>0.250000</td>\n",
              "      <td>0.770992</td>\n",
              "      <td>0.339623</td>\n",
              "      <td>0.225806</td>\n",
              "      <td>0</td>\n",
              "      <td>1</td>\n",
              "      <td>0</td>\n",
              "      <td>0</td>\n",
              "      <td>0</td>\n",
              "      <td>0</td>\n",
              "    </tr>\n",
              "    <tr>\n",
              "      <th>3</th>\n",
              "      <td>0.251142</td>\n",
              "      <td>0.562500</td>\n",
              "      <td>0.816794</td>\n",
              "      <td>0.245283</td>\n",
              "      <td>0.129032</td>\n",
              "      <td>1</td>\n",
              "      <td>1</td>\n",
              "      <td>0</td>\n",
              "      <td>1</td>\n",
              "      <td>0</td>\n",
              "      <td>0</td>\n",
              "    </tr>\n",
              "    <tr>\n",
              "      <th>4</th>\n",
              "      <td>0.520548</td>\n",
              "      <td>0.583333</td>\n",
              "      <td>0.702290</td>\n",
              "      <td>0.245283</td>\n",
              "      <td>0.096774</td>\n",
              "      <td>0</td>\n",
              "      <td>0</td>\n",
              "      <td>0</td>\n",
              "      <td>1</td>\n",
              "      <td>1</td>\n",
              "      <td>0</td>\n",
              "    </tr>\n",
              "    <tr>\n",
              "      <th>...</th>\n",
              "      <td>...</td>\n",
              "      <td>...</td>\n",
              "      <td>...</td>\n",
              "      <td>...</td>\n",
              "      <td>...</td>\n",
              "      <td>...</td>\n",
              "      <td>...</td>\n",
              "      <td>...</td>\n",
              "      <td>...</td>\n",
              "      <td>...</td>\n",
              "      <td>...</td>\n",
              "    </tr>\n",
              "    <tr>\n",
              "      <th>298</th>\n",
              "      <td>0.262557</td>\n",
              "      <td>0.583333</td>\n",
              "      <td>0.396947</td>\n",
              "      <td>0.433962</td>\n",
              "      <td>0.032258</td>\n",
              "      <td>0</td>\n",
              "      <td>0</td>\n",
              "      <td>0</td>\n",
              "      <td>1</td>\n",
              "      <td>1</td>\n",
              "      <td>0</td>\n",
              "    </tr>\n",
              "    <tr>\n",
              "      <th>299</th>\n",
              "      <td>0.315068</td>\n",
              "      <td>0.333333</td>\n",
              "      <td>0.465649</td>\n",
              "      <td>0.150943</td>\n",
              "      <td>0.193548</td>\n",
              "      <td>1</td>\n",
              "      <td>3</td>\n",
              "      <td>0</td>\n",
              "      <td>1</td>\n",
              "      <td>0</td>\n",
              "      <td>0</td>\n",
              "    </tr>\n",
              "    <tr>\n",
              "      <th>300</th>\n",
              "      <td>0.152968</td>\n",
              "      <td>0.812500</td>\n",
              "      <td>0.534351</td>\n",
              "      <td>0.471698</td>\n",
              "      <td>0.548387</td>\n",
              "      <td>1</td>\n",
              "      <td>0</td>\n",
              "      <td>1</td>\n",
              "      <td>1</td>\n",
              "      <td>0</td>\n",
              "      <td>2</td>\n",
              "    </tr>\n",
              "    <tr>\n",
              "      <th>301</th>\n",
              "      <td>0.011416</td>\n",
              "      <td>0.583333</td>\n",
              "      <td>0.335878</td>\n",
              "      <td>0.339623</td>\n",
              "      <td>0.193548</td>\n",
              "      <td>1</td>\n",
              "      <td>0</td>\n",
              "      <td>0</td>\n",
              "      <td>1</td>\n",
              "      <td>1</td>\n",
              "      <td>1</td>\n",
              "    </tr>\n",
              "    <tr>\n",
              "      <th>302</th>\n",
              "      <td>0.251142</td>\n",
              "      <td>0.583333</td>\n",
              "      <td>0.786260</td>\n",
              "      <td>0.339623</td>\n",
              "      <td>0.000000</td>\n",
              "      <td>0</td>\n",
              "      <td>1</td>\n",
              "      <td>0</td>\n",
              "      <td>0</td>\n",
              "      <td>0</td>\n",
              "      <td>1</td>\n",
              "    </tr>\n",
              "  </tbody>\n",
              "</table>\n",
              "<p>303 rows × 11 columns</p>\n",
              "</div>"
            ],
            "text/plain": [
              "         chol       age  thalachh    trtbps  ...  fbs  restecg  exng  caa\n",
              "0    0.244292  0.708333  0.603053  0.481132  ...    1        0     0    0\n",
              "1    0.283105  0.166667  0.885496  0.339623  ...    0        1     0    0\n",
              "2    0.178082  0.250000  0.770992  0.339623  ...    0        0     0    0\n",
              "3    0.251142  0.562500  0.816794  0.245283  ...    0        1     0    0\n",
              "4    0.520548  0.583333  0.702290  0.245283  ...    0        1     1    0\n",
              "..        ...       ...       ...       ...  ...  ...      ...   ...  ...\n",
              "298  0.262557  0.583333  0.396947  0.433962  ...    0        1     1    0\n",
              "299  0.315068  0.333333  0.465649  0.150943  ...    0        1     0    0\n",
              "300  0.152968  0.812500  0.534351  0.471698  ...    1        1     0    2\n",
              "301  0.011416  0.583333  0.335878  0.339623  ...    0        1     1    1\n",
              "302  0.251142  0.583333  0.786260  0.339623  ...    0        0     0    1\n",
              "\n",
              "[303 rows x 11 columns]"
            ]
          },
          "metadata": {
            "tags": []
          },
          "execution_count": 13
        }
      ]
    },
    {
      "cell_type": "code",
      "metadata": {
        "id": "NME9tpTdPHGP"
      },
      "source": [
        "y = df.output\n",
        "#Isolating the target"
      ],
      "execution_count": null,
      "outputs": []
    },
    {
      "cell_type": "code",
      "metadata": {
        "colab": {
          "base_uri": "https://localhost:8080/"
        },
        "id": "USms7N-XPqfW",
        "outputId": "f7475e25-968f-4c14-c2b8-97975992a335"
      },
      "source": [
        "model = DecisionTreeClassifier() #baseline model\n",
        "cross_val_score(model,X,y,scoring = 'accuracy', cv = 10) \n",
        "model.fit(X,y)"
      ],
      "execution_count": null,
      "outputs": [
        {
          "output_type": "execute_result",
          "data": {
            "text/plain": [
              "DecisionTreeClassifier(ccp_alpha=0.0, class_weight=None, criterion='gini',\n",
              "                       max_depth=None, max_features=None, max_leaf_nodes=None,\n",
              "                       min_impurity_decrease=0.0, min_impurity_split=None,\n",
              "                       min_samples_leaf=1, min_samples_split=2,\n",
              "                       min_weight_fraction_leaf=0.0, presort='deprecated',\n",
              "                       random_state=None, splitter='best')"
            ]
          },
          "metadata": {
            "tags": []
          },
          "execution_count": 15
        }
      ]
    },
    {
      "cell_type": "code",
      "metadata": {
        "colab": {
          "base_uri": "https://localhost:8080/",
          "height": 621
        },
        "id": "l90bn00VPzB0",
        "outputId": "6cb73cda-9d17-4cbe-aa75-ace99ecac676"
      },
      "source": [
        "\n",
        "#getting the best features of classifcation on our model (reducing the time of processing and enabling better tunning of important variables)\n",
        "ifeatures = pd.Series(model.feature_importances_ , index = X.columns).sort_values(ascending = False)\n",
        "\n",
        "def vizualizationOfImportantF(features):\n",
        "  plt.figure(figsize = (20,10))\n",
        "  sns.barplot(x = features , y = features.index , palette = 'Set3')\n",
        "\n",
        "  plt.xlabel('Features Importance Score')\n",
        "  plt.ylabel('Features')\n",
        "  plt.title('Visualizing Importance Scores of the Decision Tree')\n",
        "  plt.show()\n",
        "\n",
        "vizualizationOfImportantF(ifeatures)\n"
      ],
      "execution_count": null,
      "outputs": [
        {
          "output_type": "display_data",
          "data": {
            "image/png": "[encoded data removed]",
            "text/plain": [
              "<Figure size 1440x720 with 1 Axes>"
            ]
          },
          "metadata": {
            "tags": [],
            "needs_background": "light"
          }
        }
      ]
    },
    {
      "cell_type": "code",
      "metadata": {
        "id": "x7Pi0D0gQizi"
      },
      "source": [
        "X[ifeatures.index] \n",
        "#dropping the 2 last features in importance \n",
        "X.drop('restecg' ,axis = 1 , inplace = True)\n",
        "X.drop('fbs' , axis = 1 , inplace = True)"
      ],
      "execution_count": null,
      "outputs": []
    },
    {
      "cell_type": "code",
      "metadata": {
        "colab": {
          "base_uri": "https://localhost:8080/",
          "height": 419
        },
        "id": "PQOOcpQURGN7",
        "outputId": "ffe3df85-2311-4f92-d557-038e85cde2a8"
      },
      "source": [
        "X"
      ],
      "execution_count": null,
      "outputs": [
        {
          "output_type": "execute_result",
          "data": {
            "text/html": [
              "<div>\n",
              "<style scoped>\n",
              "    .dataframe tbody tr th:only-of-type {\n",
              "        vertical-align: middle;\n",
              "    }\n",
              "\n",
              "    .dataframe tbody tr th {\n",
              "        vertical-align: top;\n",
              "    }\n",
              "\n",
              "    .dataframe thead th {\n",
              "        text-align: right;\n",
              "    }\n",
              "</style>\n",
              "<table border=\"1\" class=\"dataframe\">\n",
              "  <thead>\n",
              "    <tr style=\"text-align: right;\">\n",
              "      <th></th>\n",
              "      <th>chol</th>\n",
              "      <th>age</th>\n",
              "      <th>thalachh</th>\n",
              "      <th>trtbps</th>\n",
              "      <th>oldpeak</th>\n",
              "      <th>sex</th>\n",
              "      <th>cp</th>\n",
              "      <th>exng</th>\n",
              "      <th>caa</th>\n",
              "    </tr>\n",
              "  </thead>\n",
              "  <tbody>\n",
              "    <tr>\n",
              "      <th>0</th>\n",
              "      <td>0.244292</td>\n",
              "      <td>0.708333</td>\n",
              "      <td>0.603053</td>\n",
              "      <td>0.481132</td>\n",
              "      <td>0.370968</td>\n",
              "      <td>1</td>\n",
              "      <td>3</td>\n",
              "      <td>0</td>\n",
              "      <td>0</td>\n",
              "    </tr>\n",
              "    <tr>\n",
              "      <th>1</th>\n",
              "      <td>0.283105</td>\n",
              "      <td>0.166667</td>\n",
              "      <td>0.885496</td>\n",
              "      <td>0.339623</td>\n",
              "      <td>0.564516</td>\n",
              "      <td>1</td>\n",
              "      <td>2</td>\n",
              "      <td>0</td>\n",
              "      <td>0</td>\n",
              "    </tr>\n",
              "    <tr>\n",
              "      <th>2</th>\n",
              "      <td>0.178082</td>\n",
              "      <td>0.250000</td>\n",
              "      <td>0.770992</td>\n",
              "      <td>0.339623</td>\n",
              "      <td>0.225806</td>\n",
              "      <td>0</td>\n",
              "      <td>1</td>\n",
              "      <td>0</td>\n",
              "      <td>0</td>\n",
              "    </tr>\n",
              "    <tr>\n",
              "      <th>3</th>\n",
              "      <td>0.251142</td>\n",
              "      <td>0.562500</td>\n",
              "      <td>0.816794</td>\n",
              "      <td>0.245283</td>\n",
              "      <td>0.129032</td>\n",
              "      <td>1</td>\n",
              "      <td>1</td>\n",
              "      <td>0</td>\n",
              "      <td>0</td>\n",
              "    </tr>\n",
              "    <tr>\n",
              "      <th>4</th>\n",
              "      <td>0.520548</td>\n",
              "      <td>0.583333</td>\n",
              "      <td>0.702290</td>\n",
              "      <td>0.245283</td>\n",
              "      <td>0.096774</td>\n",
              "      <td>0</td>\n",
              "      <td>0</td>\n",
              "      <td>1</td>\n",
              "      <td>0</td>\n",
              "    </tr>\n",
              "    <tr>\n",
              "      <th>...</th>\n",
              "      <td>...</td>\n",
              "      <td>...</td>\n",
              "      <td>...</td>\n",
              "      <td>...</td>\n",
              "      <td>...</td>\n",
              "      <td>...</td>\n",
              "      <td>...</td>\n",
              "      <td>...</td>\n",
              "      <td>...</td>\n",
              "    </tr>\n",
              "    <tr>\n",
              "      <th>298</th>\n",
              "      <td>0.262557</td>\n",
              "      <td>0.583333</td>\n",
              "      <td>0.396947</td>\n",
              "      <td>0.433962</td>\n",
              "      <td>0.032258</td>\n",
              "      <td>0</td>\n",
              "      <td>0</td>\n",
              "      <td>1</td>\n",
              "      <td>0</td>\n",
              "    </tr>\n",
              "    <tr>\n",
              "      <th>299</th>\n",
              "      <td>0.315068</td>\n",
              "      <td>0.333333</td>\n",
              "      <td>0.465649</td>\n",
              "      <td>0.150943</td>\n",
              "      <td>0.193548</td>\n",
              "      <td>1</td>\n",
              "      <td>3</td>\n",
              "      <td>0</td>\n",
              "      <td>0</td>\n",
              "    </tr>\n",
              "    <tr>\n",
              "      <th>300</th>\n",
              "      <td>0.152968</td>\n",
              "      <td>0.812500</td>\n",
              "      <td>0.534351</td>\n",
              "      <td>0.471698</td>\n",
              "      <td>0.548387</td>\n",
              "      <td>1</td>\n",
              "      <td>0</td>\n",
              "      <td>0</td>\n",
              "      <td>2</td>\n",
              "    </tr>\n",
              "    <tr>\n",
              "      <th>301</th>\n",
              "      <td>0.011416</td>\n",
              "      <td>0.583333</td>\n",
              "      <td>0.335878</td>\n",
              "      <td>0.339623</td>\n",
              "      <td>0.193548</td>\n",
              "      <td>1</td>\n",
              "      <td>0</td>\n",
              "      <td>1</td>\n",
              "      <td>1</td>\n",
              "    </tr>\n",
              "    <tr>\n",
              "      <th>302</th>\n",
              "      <td>0.251142</td>\n",
              "      <td>0.583333</td>\n",
              "      <td>0.786260</td>\n",
              "      <td>0.339623</td>\n",
              "      <td>0.000000</td>\n",
              "      <td>0</td>\n",
              "      <td>1</td>\n",
              "      <td>0</td>\n",
              "      <td>1</td>\n",
              "    </tr>\n",
              "  </tbody>\n",
              "</table>\n",
              "<p>303 rows × 9 columns</p>\n",
              "</div>"
            ],
            "text/plain": [
              "         chol       age  thalachh    trtbps   oldpeak  sex  cp  exng  caa\n",
              "0    0.244292  0.708333  0.603053  0.481132  0.370968    1   3     0    0\n",
              "1    0.283105  0.166667  0.885496  0.339623  0.564516    1   2     0    0\n",
              "2    0.178082  0.250000  0.770992  0.339623  0.225806    0   1     0    0\n",
              "3    0.251142  0.562500  0.816794  0.245283  0.129032    1   1     0    0\n",
              "4    0.520548  0.583333  0.702290  0.245283  0.096774    0   0     1    0\n",
              "..        ...       ...       ...       ...       ...  ...  ..   ...  ...\n",
              "298  0.262557  0.583333  0.396947  0.433962  0.032258    0   0     1    0\n",
              "299  0.315068  0.333333  0.465649  0.150943  0.193548    1   3     0    0\n",
              "300  0.152968  0.812500  0.534351  0.471698  0.548387    1   0     0    2\n",
              "301  0.011416  0.583333  0.335878  0.339623  0.193548    1   0     1    1\n",
              "302  0.251142  0.583333  0.786260  0.339623  0.000000    0   1     0    1\n",
              "\n",
              "[303 rows x 9 columns]"
            ]
          },
          "metadata": {
            "tags": []
          },
          "execution_count": 18
        }
      ]
    },
    {
      "cell_type": "markdown",
      "metadata": {
        "id": "ijqU2IlwpN3F"
      },
      "source": [
        "Tunning our Model"
      ]
    },
    {
      "cell_type": "code",
      "metadata": {
        "id": "yLx87fIwRiR_"
      },
      "source": [
        "model = RandomForestClassifier(class_weight= 'balanced')\n",
        "trees = [50,100,150,200,250]\n",
        "crit = ['gini' , 'entropy']\n",
        "maxd = [50,100,150,200,250]\n",
        "min_sl = [1,2,3,7,10]\n",
        "\n",
        "\n",
        "pgrid = dict(n_estimators = trees , criterion = crit , max_depth = maxd , \n",
        "             min_samples_split = min_sl , )\n"
      ],
      "execution_count": null,
      "outputs": []
    },
    {
      "cell_type": "code",
      "metadata": {
        "id": "hFBI-Z_7TEXU"
      },
      "source": [
        "grid = GridSearchCV(model, pgrid, scoring = 'accuracy' , cv = 10)"
      ],
      "execution_count": null,
      "outputs": []
    },
    {
      "cell_type": "code",
      "metadata": {
        "colab": {
          "base_uri": "https://localhost:8080/"
        },
        "id": "6SFpOH8oTllR",
        "outputId": "4b3692d3-cdfe-464a-df9a-102052c8f5f2"
      },
      "source": [
        "grid.fit(X,y,)"
      ],
      "execution_count": null,
      "outputs": [
        {
          "output_type": "execute_result",
          "data": {
            "text/plain": [
              "GridSearchCV(cv=10, error_score=nan,\n",
              "             estimator=RandomForestClassifier(bootstrap=True, ccp_alpha=0.0,\n",
              "                                              class_weight='balanced',\n",
              "                                              criterion='gini', max_depth=None,\n",
              "                                              max_features='auto',\n",
              "                                              max_leaf_nodes=None,\n",
              "                                              max_samples=None,\n",
              "                                              min_impurity_decrease=0.0,\n",
              "                                              min_impurity_split=None,\n",
              "                                              min_samples_leaf=1,\n",
              "                                              min_samples_split=2,\n",
              "                                              min_weight_fraction_leaf=0.0,\n",
              "                                              n_estimators=100, n_jobs=None,\n",
              "                                              oob_score=False,\n",
              "                                              random_state=None, verbose=0,\n",
              "                                              warm_start=False),\n",
              "             iid='deprecated', n_jobs=None,\n",
              "             param_grid={'criterion': ['gini', 'entropy'],\n",
              "                         'max_depth': [50, 100, 150, 200, 250],\n",
              "                         'min_samples_split': [1, 2, 3, 7, 10],\n",
              "                         'n_estimators': [50, 100, 150, 200, 250]},\n",
              "             pre_dispatch='2*n_jobs', refit=True, return_train_score=False,\n",
              "             scoring='accuracy', verbose=0)"
            ]
          },
          "metadata": {
            "tags": []
          },
          "execution_count": 21
        }
      ]
    },
    {
      "cell_type": "code",
      "metadata": {
        "colab": {
          "base_uri": "https://localhost:8080/"
        },
        "id": "Rv0FuCoYTomQ",
        "outputId": "fb0d0378-9e56-4b36-b59e-abf1e0e86095"
      },
      "source": [
        "grid.best_score_"
      ],
      "execution_count": null,
      "outputs": [
        {
          "output_type": "execute_result",
          "data": {
            "text/plain": [
              "0.8349462365591398"
            ]
          },
          "metadata": {
            "tags": []
          },
          "execution_count": 22
        }
      ]
    },
    {
      "cell_type": "code",
      "metadata": {
        "colab": {
          "base_uri": "https://localhost:8080/"
        },
        "id": "MVthktOsVcDa",
        "outputId": "6e7e5092-003c-475b-88d4-0020438d9c34"
      },
      "source": [
        "grid.best_params_"
      ],
      "execution_count": null,
      "outputs": [
        {
          "output_type": "execute_result",
          "data": {
            "text/plain": [
              "{'criterion': 'entropy',\n",
              " 'max_depth': 150,\n",
              " 'min_samples_split': 3,\n",
              " 'n_estimators': 150}"
            ]
          },
          "metadata": {
            "tags": []
          },
          "execution_count": 23
        }
      ]
    },
    {
      "cell_type": "code",
      "metadata": {
        "colab": {
          "base_uri": "https://localhost:8080/"
        },
        "id": "jH_VgyvhZYSB",
        "outputId": "9d81e9eb-691b-49c3-8363-c92715b18ef3"
      },
      "source": [
        "RF = RandomForestClassifier(class_weight= 'balanced', criterion = 'gini' , max_depth= 250,\n",
        "                       min_samples_split = 7 , n_estimators = 50)\n",
        "\n",
        "RF.fit(X,y)\n"
      ],
      "execution_count": null,
      "outputs": [
        {
          "output_type": "execute_result",
          "data": {
            "text/plain": [
              "RandomForestClassifier(bootstrap=True, ccp_alpha=0.0, class_weight='balanced',\n",
              "                       criterion='gini', max_depth=250, max_features='auto',\n",
              "                       max_leaf_nodes=None, max_samples=None,\n",
              "                       min_impurity_decrease=0.0, min_impurity_split=None,\n",
              "                       min_samples_leaf=1, min_samples_split=7,\n",
              "                       min_weight_fraction_leaf=0.0, n_estimators=50,\n",
              "                       n_jobs=None, oob_score=False, random_state=None,\n",
              "                       verbose=0, warm_start=False)"
            ]
          },
          "metadata": {
            "tags": []
          },
          "execution_count": 24
        }
      ]
    },
    {
      "cell_type": "code",
      "metadata": {
        "colab": {
          "base_uri": "https://localhost:8080/",
          "height": 173
        },
        "id": "Uevy1UWGZkC_",
        "outputId": "ed64f9d0-8b07-4259-dc74-eed90bc9c2e0"
      },
      "source": [
        "\n",
        "yp = RF.predict(X)\n",
        "yhat = y\n",
        "pd.crosstab(yhat , yp , rownames = ['real'] , colnames = \n",
        "            ['Predict'], margins = True)\n"
      ],
      "execution_count": null,
      "outputs": [
        {
          "output_type": "execute_result",
          "data": {
            "text/html": [
              "<div>\n",
              "<style scoped>\n",
              "    .dataframe tbody tr th:only-of-type {\n",
              "        vertical-align: middle;\n",
              "    }\n",
              "\n",
              "    .dataframe tbody tr th {\n",
              "        vertical-align: top;\n",
              "    }\n",
              "\n",
              "    .dataframe thead th {\n",
              "        text-align: right;\n",
              "    }\n",
              "</style>\n",
              "<table border=\"1\" class=\"dataframe\">\n",
              "  <thead>\n",
              "    <tr style=\"text-align: right;\">\n",
              "      <th>Predict</th>\n",
              "      <th>0</th>\n",
              "      <th>1</th>\n",
              "      <th>All</th>\n",
              "    </tr>\n",
              "    <tr>\n",
              "      <th>real</th>\n",
              "      <th></th>\n",
              "      <th></th>\n",
              "      <th></th>\n",
              "    </tr>\n",
              "  </thead>\n",
              "  <tbody>\n",
              "    <tr>\n",
              "      <th>0</th>\n",
              "      <td>131</td>\n",
              "      <td>7</td>\n",
              "      <td>138</td>\n",
              "    </tr>\n",
              "    <tr>\n",
              "      <th>1</th>\n",
              "      <td>5</td>\n",
              "      <td>160</td>\n",
              "      <td>165</td>\n",
              "    </tr>\n",
              "    <tr>\n",
              "      <th>All</th>\n",
              "      <td>136</td>\n",
              "      <td>167</td>\n",
              "      <td>303</td>\n",
              "    </tr>\n",
              "  </tbody>\n",
              "</table>\n",
              "</div>"
            ],
            "text/plain": [
              "Predict    0    1  All\n",
              "real                  \n",
              "0        131    7  138\n",
              "1          5  160  165\n",
              "All      136  167  303"
            ]
          },
          "metadata": {
            "tags": []
          },
          "execution_count": 25
        }
      ]
    },
    {
      "cell_type": "code",
      "metadata": {
        "colab": {
          "base_uri": "https://localhost:8080/"
        },
        "id": "qLppU5NiaOj8",
        "outputId": "eadd6ef6-3a33-49f5-bc1b-b3e360487db2"
      },
      "source": [
        "print(classification_report(yhat , yp)) #note that, probably our model is overfitting, since the accuracy with crossvalidation is much lower (~-10%)"
      ],
      "execution_count": null,
      "outputs": [
        {
          "output_type": "stream",
          "text": [
            "              precision    recall  f1-score   support\n",
            "\n",
            "           0       0.96      0.95      0.96       138\n",
            "           1       0.96      0.97      0.96       165\n",
            "\n",
            "    accuracy                           0.96       303\n",
            "   macro avg       0.96      0.96      0.96       303\n",
            "weighted avg       0.96      0.96      0.96       303\n",
            "\n"
          ],
          "name": "stdout"
        }
      ]
    },
    {
      "cell_type": "code",
      "metadata": {
        "colab": {
          "base_uri": "https://localhost:8080/"
        },
        "id": "X7gptxCXbWJw",
        "outputId": "5e6d750c-b333-4dce-ecae-65c9b4e78301"
      },
      "source": [
        "RMSE = np.sqrt(mean_squared_error(yhat , yp))\n",
        "RMSE"
      ],
      "execution_count": null,
      "outputs": [
        {
          "output_type": "execute_result",
          "data": {
            "text/plain": [
              "0.19900743804199783"
            ]
          },
          "metadata": {
            "tags": []
          },
          "execution_count": 27
        }
      ]
    },
    {
      "cell_type": "code",
      "metadata": {
        "colab": {
          "base_uri": "https://localhost:8080/",
          "height": 419
        },
        "id": "4UQS8ji6x4t8",
        "outputId": "624bc69a-6321-43a3-a19a-0a63eb7b8d17"
      },
      "source": [
        "df.drop('Heart Atack', axis = 1, inplace = True)\n",
        "Xi = df.drop('output' , axis = 1 , inplace = False)\n",
        "Xi = pd.get_dummies(Xi)\n",
        "Xi"
      ],
      "execution_count": null,
      "outputs": [
        {
          "output_type": "execute_result",
          "data": {
            "text/html": [
              "<div>\n",
              "<style scoped>\n",
              "    .dataframe tbody tr th:only-of-type {\n",
              "        vertical-align: middle;\n",
              "    }\n",
              "\n",
              "    .dataframe tbody tr th {\n",
              "        vertical-align: top;\n",
              "    }\n",
              "\n",
              "    .dataframe thead th {\n",
              "        text-align: right;\n",
              "    }\n",
              "</style>\n",
              "<table border=\"1\" class=\"dataframe\">\n",
              "  <thead>\n",
              "    <tr style=\"text-align: right;\">\n",
              "      <th></th>\n",
              "      <th>age</th>\n",
              "      <th>sex</th>\n",
              "      <th>cp</th>\n",
              "      <th>trtbps</th>\n",
              "      <th>chol</th>\n",
              "      <th>fbs</th>\n",
              "      <th>restecg</th>\n",
              "      <th>thalachh</th>\n",
              "      <th>exng</th>\n",
              "      <th>oldpeak</th>\n",
              "      <th>slp</th>\n",
              "      <th>caa</th>\n",
              "      <th>thall</th>\n",
              "    </tr>\n",
              "  </thead>\n",
              "  <tbody>\n",
              "    <tr>\n",
              "      <th>0</th>\n",
              "      <td>63</td>\n",
              "      <td>1</td>\n",
              "      <td>3</td>\n",
              "      <td>145</td>\n",
              "      <td>233</td>\n",
              "      <td>1</td>\n",
              "      <td>0</td>\n",
              "      <td>150</td>\n",
              "      <td>0</td>\n",
              "      <td>2.3</td>\n",
              "      <td>0</td>\n",
              "      <td>0</td>\n",
              "      <td>1</td>\n",
              "    </tr>\n",
              "    <tr>\n",
              "      <th>1</th>\n",
              "      <td>37</td>\n",
              "      <td>1</td>\n",
              "      <td>2</td>\n",
              "      <td>130</td>\n",
              "      <td>250</td>\n",
              "      <td>0</td>\n",
              "      <td>1</td>\n",
              "      <td>187</td>\n",
              "      <td>0</td>\n",
              "      <td>3.5</td>\n",
              "      <td>0</td>\n",
              "      <td>0</td>\n",
              "      <td>2</td>\n",
              "    </tr>\n",
              "    <tr>\n",
              "      <th>2</th>\n",
              "      <td>41</td>\n",
              "      <td>0</td>\n",
              "      <td>1</td>\n",
              "      <td>130</td>\n",
              "      <td>204</td>\n",
              "      <td>0</td>\n",
              "      <td>0</td>\n",
              "      <td>172</td>\n",
              "      <td>0</td>\n",
              "      <td>1.4</td>\n",
              "      <td>2</td>\n",
              "      <td>0</td>\n",
              "      <td>2</td>\n",
              "    </tr>\n",
              "    <tr>\n",
              "      <th>3</th>\n",
              "      <td>56</td>\n",
              "      <td>1</td>\n",
              "      <td>1</td>\n",
              "      <td>120</td>\n",
              "      <td>236</td>\n",
              "      <td>0</td>\n",
              "      <td>1</td>\n",
              "      <td>178</td>\n",
              "      <td>0</td>\n",
              "      <td>0.8</td>\n",
              "      <td>2</td>\n",
              "      <td>0</td>\n",
              "      <td>2</td>\n",
              "    </tr>\n",
              "    <tr>\n",
              "      <th>4</th>\n",
              "      <td>57</td>\n",
              "      <td>0</td>\n",
              "      <td>0</td>\n",
              "      <td>120</td>\n",
              "      <td>354</td>\n",
              "      <td>0</td>\n",
              "      <td>1</td>\n",
              "      <td>163</td>\n",
              "      <td>1</td>\n",
              "      <td>0.6</td>\n",
              "      <td>2</td>\n",
              "      <td>0</td>\n",
              "      <td>2</td>\n",
              "    </tr>\n",
              "    <tr>\n",
              "      <th>...</th>\n",
              "      <td>...</td>\n",
              "      <td>...</td>\n",
              "      <td>...</td>\n",
              "      <td>...</td>\n",
              "      <td>...</td>\n",
              "      <td>...</td>\n",
              "      <td>...</td>\n",
              "      <td>...</td>\n",
              "      <td>...</td>\n",
              "      <td>...</td>\n",
              "      <td>...</td>\n",
              "      <td>...</td>\n",
              "      <td>...</td>\n",
              "    </tr>\n",
              "    <tr>\n",
              "      <th>298</th>\n",
              "      <td>57</td>\n",
              "      <td>0</td>\n",
              "      <td>0</td>\n",
              "      <td>140</td>\n",
              "      <td>241</td>\n",
              "      <td>0</td>\n",
              "      <td>1</td>\n",
              "      <td>123</td>\n",
              "      <td>1</td>\n",
              "      <td>0.2</td>\n",
              "      <td>1</td>\n",
              "      <td>0</td>\n",
              "      <td>3</td>\n",
              "    </tr>\n",
              "    <tr>\n",
              "      <th>299</th>\n",
              "      <td>45</td>\n",
              "      <td>1</td>\n",
              "      <td>3</td>\n",
              "      <td>110</td>\n",
              "      <td>264</td>\n",
              "      <td>0</td>\n",
              "      <td>1</td>\n",
              "      <td>132</td>\n",
              "      <td>0</td>\n",
              "      <td>1.2</td>\n",
              "      <td>1</td>\n",
              "      <td>0</td>\n",
              "      <td>3</td>\n",
              "    </tr>\n",
              "    <tr>\n",
              "      <th>300</th>\n",
              "      <td>68</td>\n",
              "      <td>1</td>\n",
              "      <td>0</td>\n",
              "      <td>144</td>\n",
              "      <td>193</td>\n",
              "      <td>1</td>\n",
              "      <td>1</td>\n",
              "      <td>141</td>\n",
              "      <td>0</td>\n",
              "      <td>3.4</td>\n",
              "      <td>1</td>\n",
              "      <td>2</td>\n",
              "      <td>3</td>\n",
              "    </tr>\n",
              "    <tr>\n",
              "      <th>301</th>\n",
              "      <td>57</td>\n",
              "      <td>1</td>\n",
              "      <td>0</td>\n",
              "      <td>130</td>\n",
              "      <td>131</td>\n",
              "      <td>0</td>\n",
              "      <td>1</td>\n",
              "      <td>115</td>\n",
              "      <td>1</td>\n",
              "      <td>1.2</td>\n",
              "      <td>1</td>\n",
              "      <td>1</td>\n",
              "      <td>3</td>\n",
              "    </tr>\n",
              "    <tr>\n",
              "      <th>302</th>\n",
              "      <td>57</td>\n",
              "      <td>0</td>\n",
              "      <td>1</td>\n",
              "      <td>130</td>\n",
              "      <td>236</td>\n",
              "      <td>0</td>\n",
              "      <td>0</td>\n",
              "      <td>174</td>\n",
              "      <td>0</td>\n",
              "      <td>0.0</td>\n",
              "      <td>1</td>\n",
              "      <td>1</td>\n",
              "      <td>2</td>\n",
              "    </tr>\n",
              "  </tbody>\n",
              "</table>\n",
              "<p>303 rows × 13 columns</p>\n",
              "</div>"
            ],
            "text/plain": [
              "     age  sex  cp  trtbps  chol  fbs  ...  thalachh  exng  oldpeak  slp  caa  thall\n",
              "0     63    1   3     145   233    1  ...       150     0      2.3    0    0      1\n",
              "1     37    1   2     130   250    0  ...       187     0      3.5    0    0      2\n",
              "2     41    0   1     130   204    0  ...       172     0      1.4    2    0      2\n",
              "3     56    1   1     120   236    0  ...       178     0      0.8    2    0      2\n",
              "4     57    0   0     120   354    0  ...       163     1      0.6    2    0      2\n",
              "..   ...  ...  ..     ...   ...  ...  ...       ...   ...      ...  ...  ...    ...\n",
              "298   57    0   0     140   241    0  ...       123     1      0.2    1    0      3\n",
              "299   45    1   3     110   264    0  ...       132     0      1.2    1    0      3\n",
              "300   68    1   0     144   193    1  ...       141     0      3.4    1    2      3\n",
              "301   57    1   0     130   131    0  ...       115     1      1.2    1    1      3\n",
              "302   57    0   1     130   236    0  ...       174     0      0.0    1    1      2\n",
              "\n",
              "[303 rows x 13 columns]"
            ]
          },
          "metadata": {
            "tags": []
          },
          "execution_count": 28
        }
      ]
    },
    {
      "cell_type": "code",
      "metadata": {
        "id": "eC_zM4MDyKsL"
      },
      "source": [
        "pca = PCA() #Principal Component Analysis\n",
        "logistic = LogisticRegression() \n",
        "\n",
        "pipe = Pipeline(steps = [('pca',pca) , ('logistic' , logistic)]) #pipeline with PCA and Logistic Regression model\n",
        "\n",
        "#tunning parameters for PCA and Logistic Regression\n",
        "\n",
        "lrparams = {'pca__n_components' : [1,2,3,4,5,6,7,8,9,10,11,12,13], \n",
        "                'logistic__C' : [100,10,1,0.1,0.001],\n",
        "                'logistic__solver' : ['newton-cg','lbfgs','liblinear',],\n",
        "            'logistic__penalty': [None, 'l1','l2','elasticnet']}\n",
        "                \n",
        "\n",
        "grid = GridSearchCV(pipe,lrparams,scoring = 'accuracy', cv = 10)"
      ],
      "execution_count": null,
      "outputs": []
    },
    {
      "cell_type": "code",
      "metadata": {
        "colab": {
          "base_uri": "https://localhost:8080/",
          "height": 419
        },
        "id": "JTd3g1Cj4JYu",
        "outputId": "0d179134-9c25-4ba5-a2d0-ab6aa1a2af99"
      },
      "source": [
        "#normalizing data to feed into PCA\n",
        "\n",
        "Xinumcat = [['trtbps' , 'chol' , 'thalachh','oldpeak' , 'age' , 'caa']] \n",
        "Normalizer = MinMaxScaler()\n",
        "for i in Xinumcat:\n",
        "  z = Normalizer.fit_transform(Xi[i])\n",
        "  Xi.drop(i,axis = 1, inplace = True)\n",
        "  Xi[i] = z \n",
        "\n",
        "Xi #data normalized\n"
      ],
      "execution_count": null,
      "outputs": [
        {
          "output_type": "execute_result",
          "data": {
            "text/html": [
              "<div>\n",
              "<style scoped>\n",
              "    .dataframe tbody tr th:only-of-type {\n",
              "        vertical-align: middle;\n",
              "    }\n",
              "\n",
              "    .dataframe tbody tr th {\n",
              "        vertical-align: top;\n",
              "    }\n",
              "\n",
              "    .dataframe thead th {\n",
              "        text-align: right;\n",
              "    }\n",
              "</style>\n",
              "<table border=\"1\" class=\"dataframe\">\n",
              "  <thead>\n",
              "    <tr style=\"text-align: right;\">\n",
              "      <th></th>\n",
              "      <th>sex</th>\n",
              "      <th>cp</th>\n",
              "      <th>fbs</th>\n",
              "      <th>restecg</th>\n",
              "      <th>exng</th>\n",
              "      <th>slp</th>\n",
              "      <th>thall</th>\n",
              "      <th>trtbps</th>\n",
              "      <th>chol</th>\n",
              "      <th>thalachh</th>\n",
              "      <th>oldpeak</th>\n",
              "      <th>age</th>\n",
              "      <th>caa</th>\n",
              "    </tr>\n",
              "  </thead>\n",
              "  <tbody>\n",
              "    <tr>\n",
              "      <th>0</th>\n",
              "      <td>1</td>\n",
              "      <td>3</td>\n",
              "      <td>1</td>\n",
              "      <td>0</td>\n",
              "      <td>0</td>\n",
              "      <td>0</td>\n",
              "      <td>1</td>\n",
              "      <td>0.481132</td>\n",
              "      <td>0.244292</td>\n",
              "      <td>0.603053</td>\n",
              "      <td>0.370968</td>\n",
              "      <td>0.708333</td>\n",
              "      <td>0.00</td>\n",
              "    </tr>\n",
              "    <tr>\n",
              "      <th>1</th>\n",
              "      <td>1</td>\n",
              "      <td>2</td>\n",
              "      <td>0</td>\n",
              "      <td>1</td>\n",
              "      <td>0</td>\n",
              "      <td>0</td>\n",
              "      <td>2</td>\n",
              "      <td>0.339623</td>\n",
              "      <td>0.283105</td>\n",
              "      <td>0.885496</td>\n",
              "      <td>0.564516</td>\n",
              "      <td>0.166667</td>\n",
              "      <td>0.00</td>\n",
              "    </tr>\n",
              "    <tr>\n",
              "      <th>2</th>\n",
              "      <td>0</td>\n",
              "      <td>1</td>\n",
              "      <td>0</td>\n",
              "      <td>0</td>\n",
              "      <td>0</td>\n",
              "      <td>2</td>\n",
              "      <td>2</td>\n",
              "      <td>0.339623</td>\n",
              "      <td>0.178082</td>\n",
              "      <td>0.770992</td>\n",
              "      <td>0.225806</td>\n",
              "      <td>0.250000</td>\n",
              "      <td>0.00</td>\n",
              "    </tr>\n",
              "    <tr>\n",
              "      <th>3</th>\n",
              "      <td>1</td>\n",
              "      <td>1</td>\n",
              "      <td>0</td>\n",
              "      <td>1</td>\n",
              "      <td>0</td>\n",
              "      <td>2</td>\n",
              "      <td>2</td>\n",
              "      <td>0.245283</td>\n",
              "      <td>0.251142</td>\n",
              "      <td>0.816794</td>\n",
              "      <td>0.129032</td>\n",
              "      <td>0.562500</td>\n",
              "      <td>0.00</td>\n",
              "    </tr>\n",
              "    <tr>\n",
              "      <th>4</th>\n",
              "      <td>0</td>\n",
              "      <td>0</td>\n",
              "      <td>0</td>\n",
              "      <td>1</td>\n",
              "      <td>1</td>\n",
              "      <td>2</td>\n",
              "      <td>2</td>\n",
              "      <td>0.245283</td>\n",
              "      <td>0.520548</td>\n",
              "      <td>0.702290</td>\n",
              "      <td>0.096774</td>\n",
              "      <td>0.583333</td>\n",
              "      <td>0.00</td>\n",
              "    </tr>\n",
              "    <tr>\n",
              "      <th>...</th>\n",
              "      <td>...</td>\n",
              "      <td>...</td>\n",
              "      <td>...</td>\n",
              "      <td>...</td>\n",
              "      <td>...</td>\n",
              "      <td>...</td>\n",
              "      <td>...</td>\n",
              "      <td>...</td>\n",
              "      <td>...</td>\n",
              "      <td>...</td>\n",
              "      <td>...</td>\n",
              "      <td>...</td>\n",
              "      <td>...</td>\n",
              "    </tr>\n",
              "    <tr>\n",
              "      <th>298</th>\n",
              "      <td>0</td>\n",
              "      <td>0</td>\n",
              "      <td>0</td>\n",
              "      <td>1</td>\n",
              "      <td>1</td>\n",
              "      <td>1</td>\n",
              "      <td>3</td>\n",
              "      <td>0.433962</td>\n",
              "      <td>0.262557</td>\n",
              "      <td>0.396947</td>\n",
              "      <td>0.032258</td>\n",
              "      <td>0.583333</td>\n",
              "      <td>0.00</td>\n",
              "    </tr>\n",
              "    <tr>\n",
              "      <th>299</th>\n",
              "      <td>1</td>\n",
              "      <td>3</td>\n",
              "      <td>0</td>\n",
              "      <td>1</td>\n",
              "      <td>0</td>\n",
              "      <td>1</td>\n",
              "      <td>3</td>\n",
              "      <td>0.150943</td>\n",
              "      <td>0.315068</td>\n",
              "      <td>0.465649</td>\n",
              "      <td>0.193548</td>\n",
              "      <td>0.333333</td>\n",
              "      <td>0.00</td>\n",
              "    </tr>\n",
              "    <tr>\n",
              "      <th>300</th>\n",
              "      <td>1</td>\n",
              "      <td>0</td>\n",
              "      <td>1</td>\n",
              "      <td>1</td>\n",
              "      <td>0</td>\n",
              "      <td>1</td>\n",
              "      <td>3</td>\n",
              "      <td>0.471698</td>\n",
              "      <td>0.152968</td>\n",
              "      <td>0.534351</td>\n",
              "      <td>0.548387</td>\n",
              "      <td>0.812500</td>\n",
              "      <td>0.50</td>\n",
              "    </tr>\n",
              "    <tr>\n",
              "      <th>301</th>\n",
              "      <td>1</td>\n",
              "      <td>0</td>\n",
              "      <td>0</td>\n",
              "      <td>1</td>\n",
              "      <td>1</td>\n",
              "      <td>1</td>\n",
              "      <td>3</td>\n",
              "      <td>0.339623</td>\n",
              "      <td>0.011416</td>\n",
              "      <td>0.335878</td>\n",
              "      <td>0.193548</td>\n",
              "      <td>0.583333</td>\n",
              "      <td>0.25</td>\n",
              "    </tr>\n",
              "    <tr>\n",
              "      <th>302</th>\n",
              "      <td>0</td>\n",
              "      <td>1</td>\n",
              "      <td>0</td>\n",
              "      <td>0</td>\n",
              "      <td>0</td>\n",
              "      <td>1</td>\n",
              "      <td>2</td>\n",
              "      <td>0.339623</td>\n",
              "      <td>0.251142</td>\n",
              "      <td>0.786260</td>\n",
              "      <td>0.000000</td>\n",
              "      <td>0.583333</td>\n",
              "      <td>0.25</td>\n",
              "    </tr>\n",
              "  </tbody>\n",
              "</table>\n",
              "<p>303 rows × 13 columns</p>\n",
              "</div>"
            ],
            "text/plain": [
              "     sex  cp  fbs  restecg  exng  ...      chol  thalachh   oldpeak       age   caa\n",
              "0      1   3    1        0     0  ...  0.244292  0.603053  0.370968  0.708333  0.00\n",
              "1      1   2    0        1     0  ...  0.283105  0.885496  0.564516  0.166667  0.00\n",
              "2      0   1    0        0     0  ...  0.178082  0.770992  0.225806  0.250000  0.00\n",
              "3      1   1    0        1     0  ...  0.251142  0.816794  0.129032  0.562500  0.00\n",
              "4      0   0    0        1     1  ...  0.520548  0.702290  0.096774  0.583333  0.00\n",
              "..   ...  ..  ...      ...   ...  ...       ...       ...       ...       ...   ...\n",
              "298    0   0    0        1     1  ...  0.262557  0.396947  0.032258  0.583333  0.00\n",
              "299    1   3    0        1     0  ...  0.315068  0.465649  0.193548  0.333333  0.00\n",
              "300    1   0    1        1     0  ...  0.152968  0.534351  0.548387  0.812500  0.50\n",
              "301    1   0    0        1     1  ...  0.011416  0.335878  0.193548  0.583333  0.25\n",
              "302    0   1    0        0     0  ...  0.251142  0.786260  0.000000  0.583333  0.25\n",
              "\n",
              "[303 rows x 13 columns]"
            ]
          },
          "metadata": {
            "tags": []
          },
          "execution_count": 30
        }
      ]
    },
    {
      "cell_type": "code",
      "metadata": {
        "colab": {
          "base_uri": "https://localhost:8080/"
        },
        "id": "ofCSxdbb4eDV",
        "outputId": "c08567a4-92e9-4c0b-81aa-e8198d14bc23"
      },
      "source": [
        "grid.fit(Xi,y)"
      ],
      "execution_count": null,
      "outputs": [
        {
          "output_type": "execute_result",
          "data": {
            "text/plain": [
              "GridSearchCV(cv=10, error_score=nan,\n",
              "             estimator=Pipeline(memory=None,\n",
              "                                steps=[('pca',\n",
              "                                        PCA(copy=True, iterated_power='auto',\n",
              "                                            n_components=None,\n",
              "                                            random_state=None,\n",
              "                                            svd_solver='auto', tol=0.0,\n",
              "                                            whiten=False)),\n",
              "                                       ('logistic',\n",
              "                                        LogisticRegression(C=1.0,\n",
              "                                                           class_weight=None,\n",
              "                                                           dual=False,\n",
              "                                                           fit_intercept=True,\n",
              "                                                           intercept_scaling=1,\n",
              "                                                           l1_ratio=None,\n",
              "                                                           max_iter=100,\n",
              "                                                           multi_class='auto',\n",
              "                                                           n_jobs...\n",
              "                                                           warm_start=False))],\n",
              "                                verbose=False),\n",
              "             iid='deprecated', n_jobs=None,\n",
              "             param_grid={'logistic__C': [100, 10, 1, 0.1, 0.001],\n",
              "                         'logistic__penalty': [None, 'l1', 'l2', 'elasticnet'],\n",
              "                         'logistic__solver': ['newton-cg', 'lbfgs',\n",
              "                                              'liblinear'],\n",
              "                         'pca__n_components': [1, 2, 3, 4, 5, 6, 7, 8, 9, 10,\n",
              "                                               11, 12, 13]},\n",
              "             pre_dispatch='2*n_jobs', refit=True, return_train_score=False,\n",
              "             scoring='accuracy', verbose=0)"
            ]
          },
          "metadata": {
            "tags": []
          },
          "execution_count": 31
        }
      ]
    },
    {
      "cell_type": "code",
      "metadata": {
        "colab": {
          "base_uri": "https://localhost:8080/"
        },
        "id": "YwhaV6JS5m8E",
        "outputId": "47ff5ce9-24d0-44a7-f606-4dc69e4ba23e"
      },
      "source": [
        "round(grid.best_score_,2)"
      ],
      "execution_count": null,
      "outputs": [
        {
          "output_type": "execute_result",
          "data": {
            "text/plain": [
              "0.84"
            ]
          },
          "metadata": {
            "tags": []
          },
          "execution_count": 32
        }
      ]
    },
    {
      "cell_type": "code",
      "metadata": {
        "colab": {
          "base_uri": "https://localhost:8080/"
        },
        "id": "ZYTLiYj95pYy",
        "outputId": "5f80d304-1a03-47f9-a85a-627bd73790fd"
      },
      "source": [
        "grid.best_params_"
      ],
      "execution_count": null,
      "outputs": [
        {
          "output_type": "execute_result",
          "data": {
            "text/plain": [
              "{'logistic__C': 1,\n",
              " 'logistic__penalty': 'l2',\n",
              " 'logistic__solver': 'newton-cg',\n",
              " 'pca__n_components': 10}"
            ]
          },
          "metadata": {
            "tags": []
          },
          "execution_count": 33
        }
      ]
    },
    {
      "cell_type": "code",
      "metadata": {
        "id": "K2T9fTcH8YPN"
      },
      "source": [
        "bLr = LogisticRegression(solver = 'newton-cg' ,)\n",
        "bpca = PCA(n_components=10)\n",
        "Xii = bpca.fit_transform(Xi)\n",
        "bLr.fit(Xii,y)\n",
        "yhat = y \n",
        "ypred = bLr.predict(Xii)"
      ],
      "execution_count": null,
      "outputs": []
    },
    {
      "cell_type": "code",
      "metadata": {
        "colab": {
          "base_uri": "https://localhost:8080/",
          "height": 173
        },
        "id": "3QaS4RYZ9uB0",
        "outputId": "0921f69a-fdba-4569-f17e-64acf50d53c0"
      },
      "source": [
        "pd.crosstab(yhat , ypred, margins = True)"
      ],
      "execution_count": null,
      "outputs": [
        {
          "output_type": "execute_result",
          "data": {
            "text/html": [
              "<div>\n",
              "<style scoped>\n",
              "    .dataframe tbody tr th:only-of-type {\n",
              "        vertical-align: middle;\n",
              "    }\n",
              "\n",
              "    .dataframe tbody tr th {\n",
              "        vertical-align: top;\n",
              "    }\n",
              "\n",
              "    .dataframe thead th {\n",
              "        text-align: right;\n",
              "    }\n",
              "</style>\n",
              "<table border=\"1\" class=\"dataframe\">\n",
              "  <thead>\n",
              "    <tr style=\"text-align: right;\">\n",
              "      <th>col_0</th>\n",
              "      <th>0</th>\n",
              "      <th>1</th>\n",
              "      <th>All</th>\n",
              "    </tr>\n",
              "    <tr>\n",
              "      <th>output</th>\n",
              "      <th></th>\n",
              "      <th></th>\n",
              "      <th></th>\n",
              "    </tr>\n",
              "  </thead>\n",
              "  <tbody>\n",
              "    <tr>\n",
              "      <th>0</th>\n",
              "      <td>108</td>\n",
              "      <td>30</td>\n",
              "      <td>138</td>\n",
              "    </tr>\n",
              "    <tr>\n",
              "      <th>1</th>\n",
              "      <td>16</td>\n",
              "      <td>149</td>\n",
              "      <td>165</td>\n",
              "    </tr>\n",
              "    <tr>\n",
              "      <th>All</th>\n",
              "      <td>124</td>\n",
              "      <td>179</td>\n",
              "      <td>303</td>\n",
              "    </tr>\n",
              "  </tbody>\n",
              "</table>\n",
              "</div>"
            ],
            "text/plain": [
              "col_0     0    1  All\n",
              "output               \n",
              "0       108   30  138\n",
              "1        16  149  165\n",
              "All     124  179  303"
            ]
          },
          "metadata": {
            "tags": []
          },
          "execution_count": 35
        }
      ]
    },
    {
      "cell_type": "code",
      "metadata": {
        "colab": {
          "base_uri": "https://localhost:8080/"
        },
        "id": "22IcaNJN-KEu",
        "outputId": "f4fe3237-c93b-4202-981b-1340e2b7841b"
      },
      "source": [
        "rmse = np.sqrt(mean_squared_error(yhat , ypred))\n",
        "rmse"
      ],
      "execution_count": null,
      "outputs": [
        {
          "output_type": "execute_result",
          "data": {
            "text/plain": [
              "0.3896346769964807"
            ]
          },
          "metadata": {
            "tags": []
          },
          "execution_count": 36
        }
      ]
    },
    {
      "cell_type": "code",
      "metadata": {
        "colab": {
          "base_uri": "https://localhost:8080/"
        },
        "id": "1sTWAoP2-oOY",
        "outputId": "984d8231-5fdc-4c54-fda7-afe42d2b438f"
      },
      "source": [
        "print(classification_report(yhat,ypred)) #Note that the accuracy score it's equivalent from the cross_validation"
      ],
      "execution_count": null,
      "outputs": [
        {
          "output_type": "stream",
          "text": [
            "              precision    recall  f1-score   support\n",
            "\n",
            "           0       0.87      0.78      0.82       138\n",
            "           1       0.83      0.90      0.87       165\n",
            "\n",
            "    accuracy                           0.85       303\n",
            "   macro avg       0.85      0.84      0.85       303\n",
            "weighted avg       0.85      0.85      0.85       303\n",
            "\n"
          ],
          "name": "stdout"
        }
      ]
    },
    {
      "cell_type": "code",
      "metadata": {
        "colab": {
          "base_uri": "https://localhost:8080/"
        },
        "id": "IZd1d1wC-s8U",
        "outputId": "f31e2cf2-c006-4f28-9fd0-b3e01c09e5ee"
      },
      "source": [
        "round(cross_val_score(bLr,Xii,y,cv = 50 ).mean(),2)"
      ],
      "execution_count": null,
      "outputs": [
        {
          "output_type": "execute_result",
          "data": {
            "text/plain": [
              "0.84"
            ]
          },
          "metadata": {
            "tags": []
          },
          "execution_count": 38
        }
      ]
    },
    {
      "cell_type": "markdown",
      "metadata": {
        "id": "ejqI7xPdD_c0"
      },
      "source": [
        "**Discussion:**:\n",
        "\n",
        "Both models acquired the same mean accuracy when cross-validated with 50 folds, but in this case, Logistic Regression gets the best.\n",
        "When looking at the results obtained by the RandomForest model, we see a great difference in accuracy when leading with the dataset without randomly sampling (95%)... This shows us that the model of RandomForest may be suffering from overfitting, that's a problem that Decision Trees face, we try to overcome with the model RandomForest which utilizes many trees, but seems that is not sufficient.\n",
        "\n",
        "In another way, the Logistic Regression with PCA has established an 84% accuracy with precision.\n"
      ]
    },
    {
      "cell_type": "code",
      "metadata": {
        "colab": {
          "base_uri": "https://localhost:8080/"
        },
        "id": "nfR4vD9dEDGs",
        "outputId": "bd21769b-a7b5-42dd-f2dc-4e0a38c9b985"
      },
      "source": [
        "pickle.dump(bLr,open('LinearRegressionHeartDiseaseClassifier.sav', 'wb'))\n",
        "pickle.load(open('LinearRegressionHeartDiseaseClassifier.sav','rb'))"
      ],
      "execution_count": null,
      "outputs": [
        {
          "output_type": "execute_result",
          "data": {
            "text/plain": [
              "LogisticRegression(C=1.0, class_weight=None, dual=False, fit_intercept=True,\n",
              "                   intercept_scaling=1, l1_ratio=None, max_iter=100,\n",
              "                   multi_class='auto', n_jobs=None, penalty='l2',\n",
              "                   random_state=None, solver='newton-cg', tol=0.0001, verbose=0,\n",
              "                   warm_start=False)"
            ]
          },
          "metadata": {
            "tags": []
          },
          "execution_count": 39
        }
      ]
    }
  ]
}
